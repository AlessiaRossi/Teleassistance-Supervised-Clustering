{
 "cells": [
  {
   "cell_type": "markdown",
   "source": [
    "# Data Cleaning\n"
   ],
   "metadata": {
    "collapsed": false
   },
   "id": "8c47ed095c995001"
  },
  {
   "cell_type": "code",
   "outputs": [
    {
     "name": "stdout",
     "output_type": "stream",
     "text": [
      "Requirement already satisfied: pandas in c:\\users\\aless\\appdata\\local\\programs\\python\\python39\\lib\\site-packages (2.1.4)\n",
      "Requirement already satisfied: tzdata>=2022.1 in c:\\users\\aless\\appdata\\local\\programs\\python\\python39\\lib\\site-packages (from pandas) (2023.4)\n",
      "Requirement already satisfied: pytz>=2020.1 in c:\\users\\aless\\appdata\\local\\programs\\python\\python39\\lib\\site-packages (from pandas) (2023.3.post1)\n",
      "Requirement already satisfied: numpy<2,>=1.22.4 in c:\\users\\aless\\appdata\\local\\programs\\python\\python39\\lib\\site-packages (from pandas) (1.26.3)\n",
      "Requirement already satisfied: python-dateutil>=2.8.2 in c:\\users\\aless\\appdata\\local\\programs\\python\\python39\\lib\\site-packages (from pandas) (2.8.2)\n",
      "Requirement already satisfied: six>=1.5 in c:\\users\\aless\\appdata\\local\\programs\\python\\python39\\lib\\site-packages (from python-dateutil>=2.8.2->pandas) (1.16.0)\n"
     ]
    },
    {
     "name": "stderr",
     "output_type": "stream",
     "text": [
      "WARNING: You are using pip version 22.0.4; however, version 24.2 is available.\n",
      "You should consider upgrading via the 'C:\\Users\\aless\\AppData\\Local\\Programs\\Python\\Python39\\python.exe -m pip install --upgrade pip' command.\n"
     ]
    },
    {
     "name": "stdout",
     "output_type": "stream",
     "text": [
      "Requirement already satisfied: numpy in c:\\users\\aless\\appdata\\local\\programs\\python\\python39\\lib\\site-packages (1.26.3)\n"
     ]
    },
    {
     "name": "stderr",
     "output_type": "stream",
     "text": [
      "WARNING: You are using pip version 22.0.4; however, version 24.2 is available.\n",
      "You should consider upgrading via the 'C:\\Users\\aless\\AppData\\Local\\Programs\\Python\\Python39\\python.exe -m pip install --upgrade pip' command.\n"
     ]
    }
   ],
   "source": [
    "# Importing the libraries\n",
    "!pip install pandas\n",
    "!pip install numpyA\n",
    "import pandas as pd\n",
    "import numpy as np"
   ],
   "metadata": {
    "collapsed": false,
    "ExecuteTime": {
     "end_time": "2024-08-02T14:55:56.691363Z",
     "start_time": "2024-08-02T14:55:48.414347Z"
    }
   },
   "id": "b135aac2bae304c3",
   "execution_count": 1
  },
  {
   "cell_type": "markdown",
   "source": [
    "The function __remove_disdette__ removes the rows of a DataFrame where the data_disdetta column is not null. This is useful for filtering the data, keeping only the rows that do not have an associated cancellation date."
   ],
   "metadata": {
    "collapsed": false
   },
   "id": "e4cb9c3c50d986e6"
  },
  {
   "cell_type": "code",
   "outputs": [],
   "source": [
    "def remove_disdette(df) -> pd.DataFrame: \n",
    "    # Remove rows where 'data_disdetta' is not null\n",
    "    df = df[df['data_disdetta'].isnull()]\n",
    "    return df"
   ],
   "metadata": {
    "collapsed": false,
    "ExecuteTime": {
     "end_time": "2024-08-02T14:56:15.773181Z",
     "start_time": "2024-08-02T14:56:15.765731Z"
    }
   },
   "id": "4c7a206033fe9274",
   "execution_count": 3
  },
  {
   "cell_type": "markdown",
   "source": [
    "The method __identify_and_remove_outliers_zscore__ uses the z-score method to identify and remove outliers from a DataFrame. The z-score measures the distance of a value from the mean in terms of standard deviations. This method normalizes the data and considers values that deviate from the mean beyond a specified threshold (default is 3) as outliers. The outliers are removed for each specified column, returning a DataFrame without these anomalous values."
   ],
   "metadata": {
    "collapsed": false
   },
   "id": "8df631aae6cb50d8"
  },
  {
   "cell_type": "code",
   "outputs": [],
   "source": [
    "def identify_and_remove_outliers_zscore(df, columns, threshold=3):\n",
    "    \"\"\"\n",
    "    Identifies and removes outliers using the z-score method (normalization).\n",
    "    \n",
    "    :param df: The original DataFrame.\n",
    "    :param columns: The columns on which to apply outliers removal.\n",
    "    :param threshold: The z-score threshold for outlier detection (default: 3).\n",
    "    :return: A DataFrame with no outliers.\n",
    "    \"\"\"\n",
    "    for col in columns:\n",
    "        z_scores = np.abs((df[col] - df[col].mean()) / df[col].std())\n",
    "        df = df[z_scores <= threshold]\n",
    "    return df\n"
   ],
   "metadata": {
    "collapsed": false,
    "ExecuteTime": {
     "end_time": "2024-08-02T14:56:18.244435Z",
     "start_time": "2024-08-02T14:56:18.224256Z"
    }
   },
   "id": "7a1ddbffd419a958",
   "execution_count": 4
  },
  {
   "cell_type": "markdown",
   "source": [
    "The function __smooth_noisy_data__ applies a moving average to smooth noisy data in a specified column of a DataFrame. Using a defined window size, the function calculates the average of the values within this window, thereby reducing fluctuations and noise in the data. This method is useful for obtaining a clearer representation of trends in the data."
   ],
   "metadata": {
    "collapsed": false
   },
   "id": "4b1e04550671bb25"
  },
  {
   "cell_type": "code",
   "outputs": [],
   "source": [
    "def smooth_noisy_data(df, column, window_size=3):\n",
    "  \"\"\"\n",
    "  Smooth noisy data using moving average.\n",
    "\n",
    "  Args:\n",
    "    df: The original DataFrame.\n",
    "    column: The column to apply smoothing to.\n",
    "    window_size: The size of the moving average window.\n",
    "\n",
    "  Returns:\n",
    "    A DataFrame with the smoothed data.\n",
    "  \"\"\"\n",
    "\n",
    "  df[column] = df[column].rolling(window=window_size, min_periods=1).mean()\n",
    "  return df\n"
   ],
   "metadata": {
    "collapsed": false,
    "ExecuteTime": {
     "end_time": "2024-08-02T14:56:22.450012Z",
     "start_time": "2024-08-02T14:56:22.434335Z"
    }
   },
   "id": "7dc0f6f0368163e9",
   "execution_count": 5
  },
  {
   "cell_type": "markdown",
   "source": [
    "The function __remove_duplicates__ removes duplicates from a DataFrame. Using the drop_duplicates method from pandas, the function eliminates duplicate rows."
   ],
   "metadata": {
    "collapsed": false
   },
   "id": "dd68708d8b35c988"
  },
  {
   "cell_type": "code",
   "outputs": [],
   "source": [
    "def remove_duplicates(df) -> pd.DataFrame:\n",
    "    \"\"\"\n",
    "    Removes duplicates from dataset df.\n",
    "    :param df:\n",
    "    :return:\n",
    "    \"\"\"\n",
    "    df.drop_duplicates(inplace=True)\n",
    "    return df"
   ],
   "metadata": {
    "collapsed": false,
    "ExecuteTime": {
     "end_time": "2024-08-02T14:56:23.735587Z",
     "start_time": "2024-08-02T14:56:23.719711Z"
    }
   },
   "id": "fea59ae3dd521b55",
   "execution_count": 6
  },
  {
   "cell_type": "markdown",
   "source": [
    "The function __imputate_comune_residenza__ imputes missing values in the comune_residenza column of a DataFrame using ISTAT codes. It loads a dataset containing ISTAT codes and the names of Italian municipalities, then merges this dataset with the original DataFrame based on the municipality code. Finally, it renames the column with the municipality name and removes the excess columns, returning a DataFrame with the imputed values."
   ],
   "metadata": {
    "collapsed": false
   },
   "id": "3dcffb99745c785d"
  },
  {
   "cell_type": "code",
   "outputs": [],
   "source": [
    "def imputate_comune_residenza(df):\n",
    "    \"\"\"\n",
    "    Imputes missing values for 'comune_residenza' using ISTAT codes.\n",
    "\n",
    "    Args:\n",
    "        df: The DataFrame containing the data.\n",
    "\n",
    "    Returns:\n",
    "        The DataFrame with imputed values.\n",
    "    \"\"\"\n",
    "\n",
    "    # Load ISTAT data\n",
    "    istat_data = pd.read_excel('datasets/Codici-statistici-e-denominazioni-al-30_06_2024.xlsx')\n",
    "\n",
    "    # Merge DataFrames on 'codice_comune'\n",
    "    df = pd.merge(df, istat_data, left_on='codice_comune', right_on='Codice Comune formato alfanumerico', how='left')\n",
    "\n",
    "    # Rename the column and remove the excess column (if necessary)\n",
    "    df.rename(columns={'Denominazione in italiano': 'comune_residenza'}, inplace=True)\n",
    "    df.drop('Codice Comune formato alfanumerico', axis=1, inplace=True)\n",
    "\n",
    "    return df"
   ],
   "metadata": {
    "collapsed": false,
    "ExecuteTime": {
     "end_time": "2024-08-02T14:56:24.750915Z",
     "start_time": "2024-08-02T14:56:24.738314Z"
    }
   },
   "id": "74f8992f2b72bfeb",
   "execution_count": 7
  },
  {
   "cell_type": "markdown",
   "source": [
    "The function __fill_missing_comune_residenza__ is designed to fill missing values in the comune_residenza column of a DataFrame using a provided mapping dictionary. This dictionary maps municipality codes to municipality names. The function also handles a special case where the municipality code '1168' is replaced with 'None' (representing Turin). The missing values in the comune_residenza column are then filled using the mapping dictionary. The function returns the DataFrame with the filled values"
   ],
   "metadata": {
    "collapsed": false
   },
   "id": "3a5681834cc8297b"
  },
  {
   "cell_type": "code",
   "outputs": [],
   "source": [
    "def fill_missing_comune_residenza(df, codice_comune_to_nome):\n",
    "      \"\"\"\n",
    "      Fills missing values in the 'comune_residenza' column using a mapping.\n",
    "    \n",
    "      Args:\n",
    "        df: The DataFrame containing the data.\n",
    "        codice_comune_to_nome: A dictionary mapping the municipality code to the municipality name.\n",
    "    \n",
    "      Returns:\n",
    "        The DataFrame with filled missing values.\n",
    "      \"\"\"\n",
    "    \n",
    "      # Handle the special case: municipality of None (Turin)\n",
    "      df['codice_comune_residenza'] = df['codice_comune_residenza'].replace('1168', 'None')\n",
    "    \n",
    "      # Fill missing values using the mapping\n",
    "      df['comune_residenza'] = df['comune_residenza'].fillna(df['codice_comune_residenza'].map(codice_comune_to_nome))\n",
    "\n",
    "      return df"
   ],
   "metadata": {
    "collapsed": false,
    "ExecuteTime": {
     "end_time": "2024-08-02T14:56:25.787482Z",
     "start_time": "2024-08-02T14:56:25.776821Z"
    }
   },
   "id": "9d82ea1510466cdf",
   "execution_count": 8
  },
  {
   "cell_type": "markdown",
   "source": [
    "The function __check_missing_values_same_row__ is designed to identify and count the rows in a DataFrame where both ora_inizio_erogazione and ora_fine_erogazione columns have missing values. It checks for missing values in these two columns simultaneously and prints the number of rows where both columns are missing. "
   ],
   "metadata": {
    "collapsed": false
   },
   "id": "af4169857c30b4b5"
  },
  {
   "cell_type": "code",
   "outputs": [],
   "source": [
    "def check_missing_values_same_row(df):\n",
    "    \"\"\"\n",
    "    Checks if missing values in 'ora_inizio_erogazione' and 'ora_fine_erogazione' are in the same rows.\n",
    "\n",
    "    Args:\n",
    "        df: The DataFrame to check.\n",
    "\n",
    "    Returns:\n",
    "        None\n",
    "    \"\"\"\n",
    "\n",
    "    missing_both = df[['ora_inizio_erogazione', 'ora_fine_erogazione']].isna().all(axis=1)\n",
    "    num_rows_with_both_missing = missing_both.sum()\n",
    "    print(f\"Number of rows with both 'ora_inizio_erogazione' and 'ora_fine_erogazione' missing: {num_rows_with_both_missing}\")\n",
    "\n"
   ],
   "metadata": {
    "collapsed": false,
    "ExecuteTime": {
     "end_time": "2024-08-02T14:56:26.535567Z",
     "start_time": "2024-08-02T14:56:26.524481Z"
    }
   },
   "id": "331b96f4229c71f7",
   "execution_count": 9
  },
  {
   "cell_type": "code",
   "outputs": [],
   "source": [],
   "metadata": {
    "collapsed": false
   },
   "id": "a637b581263eccaf"
  }
 ],
 "metadata": {
  "kernelspec": {
   "display_name": "Python 3",
   "language": "python",
   "name": "python3"
  },
  "language_info": {
   "codemirror_mode": {
    "name": "ipython",
    "version": 2
   },
   "file_extension": ".py",
   "mimetype": "text/x-python",
   "name": "python",
   "nbconvert_exporter": "python",
   "pygments_lexer": "ipython2",
   "version": "2.7.6"
  }
 },
 "nbformat": 4,
 "nbformat_minor": 5
}
