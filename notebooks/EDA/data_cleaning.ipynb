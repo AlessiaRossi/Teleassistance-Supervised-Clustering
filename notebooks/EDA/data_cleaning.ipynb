{
 "cells": [
  {
   "cell_type": "markdown",
   "id": "8c47ed095c995001",
   "metadata": {
    "collapsed": false
   },
   "source": [
    "# Data Cleaning\n"
   ]
  },
  {
   "cell_type": "code",
   "execution_count": 1,
   "id": "b135aac2bae304c3",
   "metadata": {
    "ExecuteTime": {
     "end_time": "2024-07-30T14:40:57.666622Z",
     "start_time": "2024-07-30T14:40:57.128542Z"
    },
    "collapsed": false
   },
   "outputs": [],
   "source": [
    "# Importing the libraries\n",
    "import pandas as pd\n",
    "import numpy as np"
   ]
  },
  {
   "cell_type": "code",
   "execution_count": 2,
   "id": "6c3a88dd",
   "metadata": {},
   "outputs": [],
   "source": [
    "# import matplotlib\n",
    "# matplotlib.use('agg')\n",
    "# import matplotlib.pyplot as plt\n",
    "# import seaborn as sns"
   ]
  },
  {
   "cell_type": "code",
   "execution_count": 19,
   "id": "d577125a",
   "metadata": {},
   "outputs": [],
   "source": [
    "file_path = '../../data/raw/challenge_campus_biomedico_2024.parquet'\n",
    "df = pd.read_parquet(file_path, engine= 'pyarrow')"
   ]
  },
  {
   "cell_type": "code",
   "execution_count": 20,
   "id": "821f16d1",
   "metadata": {},
   "outputs": [],
   "source": [
    "df_origin = df.copy()"
   ]
  },
  {
   "cell_type": "code",
   "execution_count": 7,
   "id": "faf3286a",
   "metadata": {},
   "outputs": [],
   "source": [
    "# df = df_origin.copy"
   ]
  },
  {
   "cell_type": "code",
   "execution_count": null,
   "id": "4b8f0388",
   "metadata": {},
   "outputs": [],
   "source": [
    "df.info()"
   ]
  },
  {
   "cell_type": "code",
   "execution_count": 11,
   "id": "96d96915",
   "metadata": {},
   "outputs": [
    {
     "data": {
      "text/plain": [
       "data_disdetta                                460639\n",
       "codice_provincia_erogazione                   28776\n",
       "codice_provincia_residenza                    28380\n",
       "ora_fine_erogazione                           28181\n",
       "ora_inizio_erogazione                         28181\n",
       "comune_residenza                                135\n",
       "id_prenotazione                                   0\n",
       "id_paziente                                       0\n",
       "data_nascita                                      0\n",
       "provincia_residenza                               0\n",
       "codice_asl_residenza                              0\n",
       "codice_comune_residenza                           0\n",
       "tipologia_servizio                                0\n",
       "codice_regione_residenza                          0\n",
       "asl_residenza                                     0\n",
       "sesso                                             0\n",
       "regione_residenza                                 0\n",
       "regione_erogazione                                0\n",
       "data_contatto                                     0\n",
       "codice_descrizione_attivita                       0\n",
       "descrizione_attivita                              0\n",
       "provincia_erogazione                              0\n",
       "codice_regione_erogazione                         0\n",
       "codice_asl_erogazione                             0\n",
       "asl_erogazione                                    0\n",
       "tipologia_struttura_erogazione                    0\n",
       "codice_struttura_erogazione                       0\n",
       "struttura_erogazione                              0\n",
       "codice_tipologia_struttura_erogazione             0\n",
       "codice_tipologia_professionista_sanitario         0\n",
       "tipologia_professionista_sanitario                0\n",
       "id_professionista_sanitario                       0\n",
       "data_erogazione                                   0\n",
       "dtype: int64"
      ]
     },
     "execution_count": 11,
     "metadata": {},
     "output_type": "execute_result"
    }
   ],
   "source": [
    "#count null values for each column\n",
    "df.isnull().sum().sort_values(ascending=False)"
   ]
  },
  {
   "cell_type": "markdown",
   "id": "e4cb9c3c50d986e6",
   "metadata": {
    "collapsed": false
   },
   "source": [
    "The function __remove_disdette__ removes the rows of a DataFrame where the data_disdetta column is not null. This is useful for filtering the data, keeping only the rows that do not have an associated cancellation date."
   ]
  },
  {
   "cell_type": "code",
   "execution_count": 21,
   "id": "34fcfd6f",
   "metadata": {},
   "outputs": [
    {
     "data": {
      "text/plain": [
       "data_disdetta\n",
       "True     460639\n",
       "False     23652\n",
       "Name: count, dtype: int64"
      ]
     },
     "execution_count": 21,
     "metadata": {},
     "output_type": "execute_result"
    }
   ],
   "source": [
    "df['data_disdetta'].isnull().value_counts()"
   ]
  },
  {
   "cell_type": "code",
   "execution_count": 22,
   "id": "4c7a206033fe9274",
   "metadata": {
    "ExecuteTime": {
     "end_time": "2024-08-04T14:56:30.410837Z",
     "start_time": "2024-08-04T14:56:29.922246Z"
    },
    "collapsed": false
   },
   "outputs": [],
   "source": [
    "def remove_disdette(df) -> pd.DataFrame: \n",
    "    # Remove rows where 'data_disdetta' is not null\n",
    "    df = df[df['data_disdetta'].isnull()]\n",
    "    # # Drop columns with more than 50% missing values\n",
    "    # df = df.loc[:, df.isnull().mean() < 0.5]\n",
    "    return df\n"
   ]
  },
  {
   "cell_type": "code",
   "execution_count": 23,
   "id": "ec9b7523",
   "metadata": {
    "ExecuteTime": {
     "end_time": "2024-08-04T14:56:30.414132Z",
     "start_time": "2024-08-04T14:56:30.413008Z"
    }
   },
   "outputs": [
    {
     "data": {
      "text/plain": [
       "data_disdetta\n",
       "True    460639\n",
       "Name: count, dtype: int64"
      ]
     },
     "execution_count": 23,
     "metadata": {},
     "output_type": "execute_result"
    }
   ],
   "source": [
    "df = remove_disdette(df)\n",
    "df['data_disdetta'].isnull().value_counts()"
   ]
  },
  {
   "cell_type": "code",
   "execution_count": 46,
   "id": "a80085aa",
   "metadata": {},
   "outputs": [
    {
     "data": {
      "text/plain": [
       "Index(['id_prenotazione', 'id_paziente', 'data_nascita', 'sesso',\n",
       "       'regione_residenza', 'codice_regione_residenza', 'asl_residenza',\n",
       "       'codice_asl_residenza', 'provincia_residenza',\n",
       "       'codice_provincia_residenza', 'comune_residenza',\n",
       "       'codice_comune_residenza', 'tipologia_servizio', 'descrizione_attivita',\n",
       "       'codice_descrizione_attivita', 'data_contatto', 'regione_erogazione',\n",
       "       'codice_regione_erogazione', 'asl_erogazione', 'codice_asl_erogazione',\n",
       "       'provincia_erogazione', 'codice_provincia_erogazione',\n",
       "       'struttura_erogazione', 'codice_struttura_erogazione',\n",
       "       'tipologia_struttura_erogazione',\n",
       "       'codice_tipologia_struttura_erogazione', 'id_professionista_sanitario',\n",
       "       'tipologia_professionista_sanitario',\n",
       "       'codice_tipologia_professionista_sanitario', 'data_erogazione',\n",
       "       'ora_inizio_erogazione', 'ora_fine_erogazione', 'data_disdetta'],\n",
       "      dtype='object')"
      ]
     },
     "execution_count": 46,
     "metadata": {},
     "output_type": "execute_result"
    }
   ],
   "source": [
    "df.columns"
   ]
  },
  {
   "cell_type": "code",
   "execution_count": null,
   "id": "89c81fee",
   "metadata": {},
   "outputs": [],
   "source": []
  },
  {
   "cell_type": "code",
   "execution_count": null,
   "id": "c8ea8881",
   "metadata": {},
   "outputs": [],
   "source": []
  },
  {
   "cell_type": "code",
   "execution_count": null,
   "id": "7121fde6",
   "metadata": {},
   "outputs": [],
   "source": []
  },
  {
   "cell_type": "markdown",
   "id": "8df631aae6cb50d8",
   "metadata": {
    "collapsed": false
   },
   "source": [
    "The method __identify_and_remove_outliers_zscore__ uses the z-score method to identify and remove outliers from a DataFrame. The z-score measures the distance of a value from the mean in terms of standard deviations. This method normalizes the data and considers values that deviate from the mean beyond a specified threshold (default is 3) as outliers. The outliers are removed for each specified column, returning a DataFrame without these anomalous values."
   ]
  },
  {
   "cell_type": "code",
   "execution_count": 47,
   "id": "7a1ddbffd419a958",
   "metadata": {
    "collapsed": false
   },
   "outputs": [],
   "source": [
    "def identify_and_remove_outliers_zscore(df, columns, threshold=3):\n",
    "    \"\"\"\n",
    "    Identifies and removes outliers using the z-score method (normalization).\n",
    "    \n",
    "    :param df: The original DataFrame.\n",
    "    :param columns: The columns on which to apply outliers removal.\n",
    "    :param threshold: The z-score threshold for outlier detection (default: 3).\n",
    "    :return: A DataFrame with no outliers.\n",
    "    \"\"\"\n",
    "    for col in columns:\n",
    "        z_scores = np.abs((df[col] - df[col].mean()) / df[col].std())\n",
    "        df = df[z_scores <= threshold]\n",
    "    return df\n"
   ]
  },
  {
   "cell_type": "code",
   "execution_count": 48,
   "id": "72b8b196",
   "metadata": {},
   "outputs": [],
   "source": [
    "# df = identify_and_remove_outliers_zscore(df, ['ora_inizio_erogazione', 'ora_fine_erogazione'])\n",
    "# df['ora_inizio_erogazione', 'ora_fine_erogazione'].describe()"
   ]
  },
  {
   "cell_type": "code",
   "execution_count": 49,
   "id": "798581ea",
   "metadata": {},
   "outputs": [],
   "source": [
    "# df['ora_inizio_erogazione']"
   ]
  },
  {
   "cell_type": "markdown",
   "id": "4b1e04550671bb25",
   "metadata": {
    "collapsed": false
   },
   "source": [
    "The function __smooth_noisy_data__ applies a moving average to smooth noisy data in a specified column of a DataFrame. Using a defined window size, the function calculates the average of the values within this window, thereby reducing fluctuations and noise in the data. This method is useful for obtaining a clearer representation of trends in the data."
   ]
  },
  {
   "cell_type": "code",
   "execution_count": 50,
   "id": "7dc0f6f0368163e9",
   "metadata": {
    "collapsed": false
   },
   "outputs": [],
   "source": [
    "def smooth_noisy_data(df, column, window_size=3):\n",
    "  \"\"\"\n",
    "  Smooth noisy data using moving average.\n",
    "\n",
    "  Args:\n",
    "    df: The original DataFrame.\n",
    "    column: The column to apply smoothing to.\n",
    "    window_size: The size of the moving average window.\n",
    "\n",
    "  Returns:\n",
    "    A DataFrame with the smoothed data.\n",
    "  \"\"\"\n",
    "\n",
    "  df[column] = df[column].rolling(window=window_size, min_periods=1).mean()\n",
    "  return df\n"
   ]
  },
  {
   "cell_type": "markdown",
   "id": "dd68708d8b35c988",
   "metadata": {
    "collapsed": false
   },
   "source": [
    "The function __remove_duplicates__ removes duplicates from a DataFrame. Using the drop_duplicates method from pandas, the function eliminates duplicate rows."
   ]
  },
  {
   "cell_type": "code",
   "execution_count": 24,
   "id": "fea59ae3dd521b55",
   "metadata": {
    "collapsed": false
   },
   "outputs": [],
   "source": [
    "def remove_duplicates(df) -> pd.DataFrame:\n",
    "    \"\"\"\n",
    "    Removes duplicates from dataset df.\n",
    "    :param df:\n",
    "    :return:\n",
    "    \"\"\"\n",
    "    df.drop_duplicates(inplace=True)\n",
    "    return df"
   ]
  },
  {
   "cell_type": "code",
   "execution_count": 25,
   "id": "23428365",
   "metadata": {},
   "outputs": [
    {
     "name": "stdout",
     "output_type": "stream",
     "text": [
      "<class 'pandas.core.frame.DataFrame'>\n",
      "Index: 460639 entries, 0 to 484290\n",
      "Data columns (total 33 columns):\n",
      " #   Column                                     Non-Null Count   Dtype  \n",
      "---  ------                                     --------------   -----  \n",
      " 0   id_prenotazione                            460639 non-null  object \n",
      " 1   id_paziente                                460639 non-null  object \n",
      " 2   data_nascita                               460639 non-null  object \n",
      " 3   sesso                                      460639 non-null  object \n",
      " 4   regione_residenza                          460639 non-null  object \n",
      " 5   codice_regione_residenza                   460639 non-null  int64  \n",
      " 6   asl_residenza                              460639 non-null  object \n",
      " 7   codice_asl_residenza                       460639 non-null  int64  \n",
      " 8   provincia_residenza                        460639 non-null  object \n",
      " 9   codice_provincia_residenza                 433623 non-null  object \n",
      " 10  comune_residenza                           460509 non-null  object \n",
      " 11  codice_comune_residenza                    460639 non-null  int64  \n",
      " 12  tipologia_servizio                         460639 non-null  object \n",
      " 13  descrizione_attivita                       460639 non-null  object \n",
      " 14  codice_descrizione_attivita                460639 non-null  int64  \n",
      " 15  data_contatto                              460639 non-null  object \n",
      " 16  regione_erogazione                         460639 non-null  object \n",
      " 17  codice_regione_erogazione                  460639 non-null  int64  \n",
      " 18  asl_erogazione                             460639 non-null  object \n",
      " 19  codice_asl_erogazione                      460639 non-null  int64  \n",
      " 20  provincia_erogazione                       460639 non-null  object \n",
      " 21  codice_provincia_erogazione                433243 non-null  object \n",
      " 22  struttura_erogazione                       460639 non-null  object \n",
      " 23  codice_struttura_erogazione                460639 non-null  float64\n",
      " 24  tipologia_struttura_erogazione             460639 non-null  object \n",
      " 25  codice_tipologia_struttura_erogazione      460639 non-null  object \n",
      " 26  id_professionista_sanitario                460639 non-null  object \n",
      " 27  tipologia_professionista_sanitario         460639 non-null  object \n",
      " 28  codice_tipologia_professionista_sanitario  460639 non-null  object \n",
      " 29  data_erogazione                            460639 non-null  object \n",
      " 30  ora_inizio_erogazione                      456110 non-null  object \n",
      " 31  ora_fine_erogazione                        456110 non-null  object \n",
      " 32  data_disdetta                              0 non-null       object \n",
      "dtypes: float64(1), int64(6), object(26)\n",
      "memory usage: 119.5+ MB\n"
     ]
    }
   ],
   "source": [
    "df.info()"
   ]
  },
  {
   "cell_type": "code",
   "execution_count": 8,
   "id": "3e9e7181",
   "metadata": {},
   "outputs": [
    {
     "data": {
      "text/plain": [
       "comune_residenza\n",
       "False    484156\n",
       "True        135\n",
       "Name: count, dtype: int64"
      ]
     },
     "execution_count": 8,
     "metadata": {},
     "output_type": "execute_result"
    }
   ],
   "source": [
    "df.comune_residenza.isnull().value_counts()"
   ]
  },
  {
   "cell_type": "markdown",
   "id": "3dcffb99745c785d",
   "metadata": {
    "collapsed": false
   },
   "source": [
    "The function __imputate_comune_residenza__ imputes missing values in the comune_residenza column of a DataFrame using ISTAT codes. It loads a dataset containing ISTAT codes and the names of Italian municipalities, then merges this dataset with the original DataFrame based on the municipality code. Finally, it renames the column with the municipality name and removes the excess columns, returning a DataFrame with the imputed values."
   ]
  },
  {
   "cell_type": "code",
   "execution_count": 9,
   "id": "74f8992f2b72bfeb",
   "metadata": {
    "ExecuteTime": {
     "end_time": "2024-08-04T15:44:56.566663Z",
     "start_time": "2024-08-04T15:44:56.542915Z"
    },
    "collapsed": false
   },
   "outputs": [],
   "source": [
    "def imputate_comune_residenza(df):\n",
    "    \"\"\"\n",
    "    Imputes missing values for 'comune_residenza' using ISTAT codes.\n",
    "\n",
    "    Args:\n",
    "        df: The DataFrame containing the data.\n",
    "\n",
    "    Returns:\n",
    "        The DataFrame with imputed values.\n",
    "    \"\"\"\n",
    "\n",
    "    # Load ISTAT data\n",
    "    istat_data = pd.read_excel('../../data/raw/Codici-statistici-e-denominazioni-al-30_06_2024.xlsx')\n",
    "    \n",
    "    # Create the mapping dictionary\n",
    "    codice_comune_to_nome = pd.Series(istat_data['Denominazione in italiano'].values,\n",
    "                                      index=istat_data['Codice Comune formato alfanumerico'])\n",
    "\n",
    "\n",
    "    # Merge DataFrames on 'codice_comune_residenza'\n",
    "    #df = pd.merge(df, istat_data, left_on='codice_comune_residenza', right_on='Codice Comune formato alfanumerico', how='left')\n",
    "\n",
    "    df['comune_residenza'].fillna(df['codice_comune_residenza'].map(codice_comune_to_nome), inplace=True)\n",
    "\n",
    "    # df.drop('comune_residenza', axis=1, inplace=True)\n",
    "\n",
    "    # Rename the column and remove the excess column (if necessary)\n",
    "    #df.rename(columns={'Denominazione in italiano': 'comune_residenza'}, inplace=True)\n",
    "    #df.drop('Codice Comune formato alfanumerico', axis=1, inplace=True)\n",
    "    \n",
    "    return df, codice_comune_to_nome"
   ]
  },
  {
   "cell_type": "code",
   "execution_count": 10,
   "id": "c52c1226",
   "metadata": {},
   "outputs": [
    {
     "name": "stderr",
     "output_type": "stream",
     "text": [
      "/tmp/ipykernel_2809494/1826514609.py:23: FutureWarning: A value is trying to be set on a copy of a DataFrame or Series through chained assignment using an inplace method.\n",
      "The behavior will change in pandas 3.0. This inplace method will never work because the intermediate object on which we are setting values always behaves as a copy.\n",
      "\n",
      "For example, when doing 'df[col].method(value, inplace=True)', try using 'df.method({col: value}, inplace=True)' or df[col] = df[col].method(value) instead, to perform the operation inplace on the original object.\n",
      "\n",
      "\n",
      "  df['comune_residenza'].fillna(df['codice_comune_residenza'].map(codice_comune_to_nome), inplace=True)\n"
     ]
    },
    {
     "data": {
      "text/plain": [
       "comune_residenza\n",
       "False    484156\n",
       "True        135\n",
       "Name: count, dtype: int64"
      ]
     },
     "execution_count": 10,
     "metadata": {},
     "output_type": "execute_result"
    }
   ],
   "source": [
    "df , codice_comune_to_nome = imputate_comune_residenza(df)\n",
    "\n",
    "df.comune_residenza.isnull().value_counts()"
   ]
  },
  {
   "cell_type": "code",
   "execution_count": 24,
   "id": "0f3fbc88",
   "metadata": {},
   "outputs": [
    {
     "data": {
      "text/plain": [
       "codice_comune_residenza\n",
       "1168    135\n",
       "Name: count, dtype: int64"
      ]
     },
     "execution_count": 24,
     "metadata": {},
     "output_type": "execute_result"
    }
   ],
   "source": [
    "df[df.comune_residenza.isnull()].codice_comune_residenza.value_counts()"
   ]
  },
  {
   "cell_type": "code",
   "execution_count": 10,
   "id": "5ea6b8c4",
   "metadata": {},
   "outputs": [],
   "source": [
    "istat_data = pd.read_excel('../../data/raw/Codici-statistici-e-denominazioni-al-30_06_2024.xlsx')"
   ]
  },
  {
   "cell_type": "code",
   "execution_count": 12,
   "id": "8a7fef4d",
   "metadata": {},
   "outputs": [],
   "source": [
    "app = pd.Series(istat_data['Denominazione in italiano'].values,\n",
    "                index=istat_data['Codice Comune formato alfanumerico'])"
   ]
  },
  {
   "cell_type": "code",
   "execution_count": 21,
   "id": "ab6a47b5",
   "metadata": {},
   "outputs": [
    {
     "data": {
      "text/plain": [
       "Codice Comune formato alfanumerico\n",
       "1168    NaN\n",
       "dtype: object"
      ]
     },
     "execution_count": 21,
     "metadata": {},
     "output_type": "execute_result"
    }
   ],
   "source": [
    "app[app.isnull()== True]"
   ]
  },
  {
   "cell_type": "code",
   "execution_count": 7,
   "metadata": {},
   "outputs": [
    {
     "data": {
      "text/plain": [
       "0          4089\n",
       "1         48005\n",
       "2         37006\n",
       "3         63049\n",
       "4         68028\n",
       "          ...  \n",
       "484286    78081\n",
       "484287    12123\n",
       "484288    71024\n",
       "484289    63049\n",
       "484290    80092\n",
       "Name: codice_comune_residenza, Length: 484291, dtype: int64"
      ]
     },
     "execution_count": 7,
     "metadata": {},
     "output_type": "execute_result"
    }
   ],
   "source": [
    "df.codice_comune_residenza"
   ]
  },
  {
   "cell_type": "code",
   "execution_count": null,
   "id": "940fa9bc",
   "metadata": {},
   "outputs": [],
   "source": []
  },
  {
   "cell_type": "code",
   "execution_count": null,
   "id": "7ff67f0f",
   "metadata": {},
   "outputs": [],
   "source": []
  },
  {
   "cell_type": "markdown",
   "id": "3a5681834cc8297b",
   "metadata": {
    "collapsed": false
   },
   "source": [
    "The function __fill_missing_comune_residenza__ is designed to fill missing values in the comune_residenza column of a DataFrame using a provided mapping dictionary. This dictionary maps municipality codes to municipality names. The function also handles a special case where the municipality code '1168' is replaced with 'None' (representing Turin). The missing values in the comune_residenza column are then filled using the mapping dictionary. The function returns the DataFrame with the filled values"
   ]
  },
  {
   "cell_type": "code",
   "execution_count": 53,
   "id": "9d82ea1510466cdf",
   "metadata": {
    "collapsed": false
   },
   "outputs": [],
   "source": [
    "def fill_missing_comune_residenza(df, codice_comune_to_nome):\n",
    "      \"\"\"\n",
    "      Fills missing values in the 'comune_residenza' column using a mapping.\n",
    "    \n",
    "      Args:\n",
    "        df: The DataFrame containing the data.\n",
    "        codice_comune_to_nome: A dictionary mapping the municipality code to the municipality name.\n",
    "    \n",
    "      Returns:\n",
    "        The DataFrame with filled missing values.\n",
    "      \"\"\"\n",
    "    \n",
    "      # Handle the special case: municipality of None (Turin)\n",
    "      df['codice_comune_residenza'] = df['codice_comune_residenza'].replace('1168', 'None')\n",
    "    \n",
    "      # Fill missing values using the mapping\n",
    "      df['comune_residenza'] = df['comune_residenza'].fillna(df['codice_comune_residenza'].map(codice_comune_to_nome))\n",
    "\n",
    "      return df"
   ]
  },
  {
   "cell_type": "markdown",
   "id": "af4169857c30b4b5",
   "metadata": {
    "collapsed": false
   },
   "source": [
    "The function __check_missing_values_same_row__ is designed to identify and count the rows in a DataFrame where both ora_inizio_erogazione and ora_fine_erogazione columns have missing values. It checks for missing values in these two columns simultaneously and prints the number of rows where both columns are missing. "
   ]
  },
  {
   "cell_type": "code",
   "execution_count": 54,
   "id": "331b96f4229c71f7",
   "metadata": {
    "ExecuteTime": {
     "end_time": "2024-07-31T14:44:49.491569Z",
     "start_time": "2024-07-31T14:44:49.461135Z"
    },
    "collapsed": false
   },
   "outputs": [],
   "source": [
    "def check_missing_values_same_row(df):\n",
    "    \"\"\"\n",
    "    Checks if missing values in 'ora_inizio_erogazione' and 'ora_fine_erogazione' are in the same rows.\n",
    "\n",
    "    Args:\n",
    "        df: The DataFrame to check.\n",
    "\n",
    "    Returns:\n",
    "        None\n",
    "    \"\"\"\n",
    "\n",
    "    missing_both = df[['ora_inizio_erogazione', 'ora_fine_erogazione']].isna().all(axis=1)\n",
    "    num_rows_with_both_missing = missing_both.sum()\n",
    "    print(f\"Number of rows with both 'ora_inizio_erogazione' and 'ora_fine_erogazione' missing: {num_rows_with_both_missing}\")\n"
   ]
  },
  {
   "cell_type": "code",
   "execution_count": null,
   "id": "6ad86172",
   "metadata": {},
   "outputs": [],
   "source": []
  },
  {
   "cell_type": "code",
   "execution_count": null,
   "id": "047ea354",
   "metadata": {},
   "outputs": [],
   "source": []
  },
  {
   "cell_type": "code",
   "execution_count": null,
   "id": "6da8acf2",
   "metadata": {},
   "outputs": [],
   "source": []
  },
  {
   "cell_type": "code",
   "execution_count": 55,
   "id": "20551746",
   "metadata": {},
   "outputs": [
    {
     "data": {
      "text/plain": [
       "ora_inizio_erogazione\n",
       "False    456110\n",
       "True       4529\n",
       "Name: count, dtype: int64"
      ]
     },
     "execution_count": 55,
     "metadata": {},
     "output_type": "execute_result"
    }
   ],
   "source": [
    "# menage missing start values\n",
    "df['ora_inizio_erogazione'].isnull().value_counts()"
   ]
  },
  {
   "cell_type": "code",
   "execution_count": 56,
   "id": "a637b581263eccaf",
   "metadata": {
    "collapsed": false
   },
   "outputs": [],
   "source": [
    "#count missing values for ora_inizio_erogazione\n",
    "def check_missing_values_start(df):\n",
    "    null_values = df['ora_inizio_erogazione'].isnull().sum()\n",
    "    print(f\"Number of missing values in 'ora_inizio_erogazione': {null_values}\")"
   ]
  },
  {
   "cell_type": "code",
   "execution_count": 57,
   "id": "40f15433",
   "metadata": {},
   "outputs": [],
   "source": [
    "# count missing values for ora_fine_erogazione\n",
    "def check_missing_values_end(df):\n",
    "    null_values = df['ora_fine_erogazione'].isnull().sum()\n",
    "    print(f\"Number of missing values in 'ora_fine_erogazione': {null_values}\")"
   ]
  },
  {
   "cell_type": "code",
   "execution_count": 58,
   "id": "b5427ff8",
   "metadata": {},
   "outputs": [
    {
     "name": "stdout",
     "output_type": "stream",
     "text": [
      "Number of missing values in 'ora_inizio_erogazione': 4529\n",
      "Number of missing values in 'ora_fine_erogazione': 4529\n"
     ]
    }
   ],
   "source": [
    "check_missing_values_start(df)\n",
    "check_missing_values_end(df)"
   ]
  },
  {
   "cell_type": "code",
   "execution_count": 59,
   "id": "d3a0d853",
   "metadata": {},
   "outputs": [],
   "source": [
    "def impute_ora_inizio_and_fine_erogazione(df:pd.DataFrame) -> pd.DataFrame:\n",
    "    \n",
    "    # Convert 'ora_inizio_erogazione' and 'ora_fine_erogazione' to datetime\n",
    "    df['ora_inizio_erogazione'] = pd.to_datetime(df['ora_inizio_erogazione'], utc=True, errors='coerce')\n",
    "    df['ora_fine_erogazione'] = pd.to_datetime(df['ora_fine_erogazione'], utc=True, errors='coerce')\n",
    "\n",
    "    df_non_missing_values = df.dropna(subset=['ora_inizio_erogazione', 'ora_fine_erogazione']).copy()\n",
    "    df_non_missing_values['duration'] = (df['ora_fine_erogazione'] - df['ora_inizio_erogazione']).dt.total_seconds()\n",
    "\n",
    "    mean_duration_by_attivita = df_non_missing_values.groupby('codice_descrizione_attivita')['duration'].mean()\n",
    "    mean_duration = pd.to_timedelta(mean_duration_by_attivita, unit='s')\n",
    "    # print(mean_duration_by_attivita)\n",
    "\n",
    "    # Convert series to dictionary\n",
    "    mean_duration_dict = mean_duration.to_dict()\n",
    "    # return mean_duration_dict\n",
    "\n",
    "\n",
    "    for index, row in df.iterrows():\n",
    "        if pd.isnull(row['ora_inizio_erogazione']) and pd.isnull(row['ora_fine_erogazione']) and pd.isnull(row['data_disdetta']):\n",
    "            codice_attivita = row['codice_descrizione_attivita']\n",
    "            \n",
    "            if codice_attivita in mean_duration_dict:\n",
    "                durata_media = mean_duration_dict[codice_attivita]\n",
    "                data_erogazione = pd.to_datetime(row['data_erogazione'], utc=True)\n",
    "                df.at[index, 'ora_inizio_erogazione'] = data_erogazione.strftime('%Y-%m-%d %H:%M:%S%z')\n",
    "                df.at[index, 'ora_fine_erogazione'] = (data_erogazione + durata_media).strftime('%Y-%m-%d %H:%M:%S%z')\n",
    "        "
   ]
  },
  {
   "cell_type": "code",
   "execution_count": 60,
   "id": "23a2bf3c",
   "metadata": {},
   "outputs": [],
   "source": [
    "impute_ora_inizio_and_fine_erogazione(df)"
   ]
  },
  {
   "cell_type": "code",
   "execution_count": 61,
   "id": "298a9816",
   "metadata": {},
   "outputs": [
    {
     "data": {
      "text/plain": [
       "data_disdetta                                460639\n",
       "codice_provincia_erogazione                   27396\n",
       "codice_provincia_residenza                    27016\n",
       "comune_residenza                                130\n",
       "id_prenotazione                                   0\n",
       "codice_regione_residenza                          0\n",
       "asl_residenza                                     0\n",
       "id_paziente                                       0\n",
       "data_nascita                                      0\n",
       "provincia_residenza                               0\n",
       "codice_asl_residenza                              0\n",
       "codice_comune_residenza                           0\n",
       "tipologia_servizio                                0\n",
       "descrizione_attivita                              0\n",
       "codice_descrizione_attivita                       0\n",
       "sesso                                             0\n",
       "regione_residenza                                 0\n",
       "regione_erogazione                                0\n",
       "data_contatto                                     0\n",
       "codice_asl_erogazione                             0\n",
       "codice_regione_erogazione                         0\n",
       "provincia_erogazione                              0\n",
       "struttura_erogazione                              0\n",
       "codice_struttura_erogazione                       0\n",
       "asl_erogazione                                    0\n",
       "tipologia_struttura_erogazione                    0\n",
       "codice_tipologia_struttura_erogazione             0\n",
       "tipologia_professionista_sanitario                0\n",
       "id_professionista_sanitario                       0\n",
       "codice_tipologia_professionista_sanitario         0\n",
       "data_erogazione                                   0\n",
       "ora_inizio_erogazione                             0\n",
       "ora_fine_erogazione                               0\n",
       "dtype: int64"
      ]
     },
     "execution_count": 61,
     "metadata": {},
     "output_type": "execute_result"
    }
   ],
   "source": [
    "df.isnull().sum().sort_values(ascending=False)"
   ]
  },
  {
   "cell_type": "code",
   "execution_count": 63,
   "id": "6e00ef10",
   "metadata": {},
   "outputs": [],
   "source": [
    "df.to_parquet('../../data/processed/challenge_campus_biomedico_2024_cleaned_v1.parquet')"
   ]
  },
  {
   "cell_type": "code",
   "execution_count": null,
   "id": "451953e08547e2fb",
   "metadata": {
    "collapsed": false
   },
   "outputs": [],
   "source": [
    "# Apply the function to the DataFrame\n",
    "df, codice_comune_to_nome = imputate_comune_residenza(df)\n",
    "df = fill_missing_comune_residenza(df, codice_comune_to_nome)\n",
    "df = impute_ora_inizio_and_fine_erogazione(df)   \n",
    "df = remove_disdette(df)\n",
    "df = identify_and_remove_outliers_zscore(df, ['ora_inizio_erogazione', 'ora_fine_erogazione'])\n",
    "df = smooth_noisy_data(df, 'ora_inizio_erogazione')\n",
    "df = remove_duplicates(df)\n"
   ]
  }
 ],
 "metadata": {
  "kernelspec": {
   "display_name": "Python 3",
   "language": "python",
   "name": "python3"
  },
  "language_info": {
   "codemirror_mode": {
    "name": "ipython",
    "version": 3
   },
   "file_extension": ".py",
   "mimetype": "text/x-python",
   "name": "python",
   "nbconvert_exporter": "python",
   "pygments_lexer": "ipython3",
   "version": "3.10.12"
  }
 },
 "nbformat": 4,
 "nbformat_minor": 5
}
