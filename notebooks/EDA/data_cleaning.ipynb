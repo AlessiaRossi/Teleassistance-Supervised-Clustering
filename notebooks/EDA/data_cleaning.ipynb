{
 "cells": [
  {
   "cell_type": "markdown",
   "id": "8c47ed095c995001",
   "metadata": {
    "collapsed": false
   },
   "source": [
    "# Data Cleaning\n"
   ]
  },
  {
   "cell_type": "code",
   "execution_count": 1,
   "id": "b135aac2bae304c3",
   "metadata": {
    "ExecuteTime": {
     "end_time": "2024-07-30T14:40:57.666622Z",
     "start_time": "2024-07-30T14:40:57.128542Z"
    },
    "collapsed": false
   },
   "outputs": [],
   "source": [
    "# Importing the libraries\n",
    "import pandas as pd\n",
    "import numpy as np"
   ]
  },
  {
   "cell_type": "code",
   "execution_count": 2,
   "id": "6c3a88dd",
   "metadata": {},
   "outputs": [],
   "source": [
    "import matplotlib\n",
    "matplotlib.use('agg')\n",
    "import matplotlib.pyplot as plt\n",
    "import seaborn as sns"
   ]
  },
  {
   "cell_type": "code",
   "execution_count": 3,
   "id": "d577125a",
   "metadata": {},
   "outputs": [
    {
     "name": "stdout",
     "output_type": "stream",
     "text": [
      "<class 'pandas.core.frame.DataFrame'>\n",
      "RangeIndex: 484291 entries, 0 to 484290\n",
      "Data columns (total 33 columns):\n",
      " #   Column                                     Non-Null Count   Dtype  \n",
      "---  ------                                     --------------   -----  \n",
      " 0   id_prenotazione                            484291 non-null  object \n",
      " 1   id_paziente                                484291 non-null  object \n",
      " 2   data_nascita                               484291 non-null  object \n",
      " 3   sesso                                      484291 non-null  object \n",
      " 4   regione_residenza                          484291 non-null  object \n",
      " 5   codice_regione_residenza                   484291 non-null  int64  \n",
      " 6   asl_residenza                              484291 non-null  object \n",
      " 7   codice_asl_residenza                       484291 non-null  int64  \n",
      " 8   provincia_residenza                        484291 non-null  object \n",
      " 9   codice_provincia_residenza                 455911 non-null  object \n",
      " 10  comune_residenza                           484156 non-null  object \n",
      " 11  codice_comune_residenza                    484291 non-null  int64  \n",
      " 12  tipologia_servizio                         484291 non-null  object \n",
      " 13  descrizione_attivita                       484291 non-null  object \n",
      " 14  codice_descrizione_attivita                484291 non-null  int64  \n",
      " 15  data_contatto                              484291 non-null  object \n",
      " 16  regione_erogazione                         484291 non-null  object \n",
      " 17  codice_regione_erogazione                  484291 non-null  int64  \n",
      " 18  asl_erogazione                             484291 non-null  object \n",
      " 19  codice_asl_erogazione                      484291 non-null  int64  \n",
      " 20  provincia_erogazione                       484291 non-null  object \n",
      " 21  codice_provincia_erogazione                455515 non-null  object \n",
      " 22  struttura_erogazione                       484291 non-null  object \n",
      " 23  codice_struttura_erogazione                484291 non-null  float64\n",
      " 24  tipologia_struttura_erogazione             484291 non-null  object \n",
      " 25  codice_tipologia_struttura_erogazione      484291 non-null  object \n",
      " 26  id_professionista_sanitario                484291 non-null  object \n",
      " 27  tipologia_professionista_sanitario         484291 non-null  object \n",
      " 28  codice_tipologia_professionista_sanitario  484291 non-null  object \n",
      " 29  data_erogazione                            484291 non-null  object \n",
      " 30  ora_inizio_erogazione                      456110 non-null  object \n",
      " 31  ora_fine_erogazione                        456110 non-null  object \n",
      " 32  data_disdetta                              23652 non-null   object \n",
      "dtypes: float64(1), int64(6), object(26)\n",
      "memory usage: 121.9+ MB\n"
     ]
    }
   ],
   "source": [
    "file_path = '../../data/raw/challenge_campus_biomedico_2024.parquet'\n",
    "df = pd.read_parquet(file_path, engine= 'pyarrow')\n",
    "\n",
    "df.info()"
   ]
  },
  {
   "cell_type": "markdown",
   "id": "e4cb9c3c50d986e6",
   "metadata": {
    "collapsed": false
   },
   "source": [
    "The function __remove_disdette__ removes the rows of a DataFrame where the data_disdetta column is not null. This is useful for filtering the data, keeping only the rows that do not have an associated cancellation date."
   ]
  },
  {
   "cell_type": "code",
   "execution_count": 51,
   "id": "34fcfd6f",
   "metadata": {},
   "outputs": [
    {
     "data": {
      "text/plain": [
       "data_disdetta\n",
       "True     460639\n",
       "False     23652\n",
       "Name: count, dtype: int64"
      ]
     },
     "execution_count": 51,
     "metadata": {},
     "output_type": "execute_result"
    }
   ],
   "source": [
    "df['data_disdetta'].isnull().value_counts()"
   ]
  },
  {
   "cell_type": "code",
   "execution_count": 4,
   "id": "4c7a206033fe9274",
   "metadata": {
    "ExecuteTime": {
     "end_time": "2024-07-30T14:45:33.551205Z",
     "start_time": "2024-07-30T14:45:33.505818Z"
    },
    "collapsed": false
   },
   "outputs": [],
   "source": [
    "def remove_disdette(df) -> pd.DataFrame: \n",
    "    # Remove rows where 'data_disdetta' is not null\n",
    "    df = df[df['data_disdetta'].isnull()]\n",
    "    return df\n"
   ]
  },
  {
   "cell_type": "code",
   "execution_count": 5,
   "id": "ec9b7523",
   "metadata": {},
   "outputs": [
    {
     "name": "stdout",
     "output_type": "stream",
     "text": [
      "<class 'pandas.core.frame.DataFrame'>\n",
      "Index: 460639 entries, 0 to 484290\n",
      "Data columns (total 33 columns):\n",
      " #   Column                                     Non-Null Count   Dtype  \n",
      "---  ------                                     --------------   -----  \n",
      " 0   id_prenotazione                            460639 non-null  object \n",
      " 1   id_paziente                                460639 non-null  object \n",
      " 2   data_nascita                               460639 non-null  object \n",
      " 3   sesso                                      460639 non-null  object \n",
      " 4   regione_residenza                          460639 non-null  object \n",
      " 5   codice_regione_residenza                   460639 non-null  int64  \n",
      " 6   asl_residenza                              460639 non-null  object \n",
      " 7   codice_asl_residenza                       460639 non-null  int64  \n",
      " 8   provincia_residenza                        460639 non-null  object \n",
      " 9   codice_provincia_residenza                 433623 non-null  object \n",
      " 10  comune_residenza                           460509 non-null  object \n",
      " 11  codice_comune_residenza                    460639 non-null  int64  \n",
      " 12  tipologia_servizio                         460639 non-null  object \n",
      " 13  descrizione_attivita                       460639 non-null  object \n",
      " 14  codice_descrizione_attivita                460639 non-null  int64  \n",
      " 15  data_contatto                              460639 non-null  object \n",
      " 16  regione_erogazione                         460639 non-null  object \n",
      " 17  codice_regione_erogazione                  460639 non-null  int64  \n",
      " 18  asl_erogazione                             460639 non-null  object \n",
      " 19  codice_asl_erogazione                      460639 non-null  int64  \n",
      " 20  provincia_erogazione                       460639 non-null  object \n",
      " 21  codice_provincia_erogazione                433243 non-null  object \n",
      " 22  struttura_erogazione                       460639 non-null  object \n",
      " 23  codice_struttura_erogazione                460639 non-null  float64\n",
      " 24  tipologia_struttura_erogazione             460639 non-null  object \n",
      " 25  codice_tipologia_struttura_erogazione      460639 non-null  object \n",
      " 26  id_professionista_sanitario                460639 non-null  object \n",
      " 27  tipologia_professionista_sanitario         460639 non-null  object \n",
      " 28  codice_tipologia_professionista_sanitario  460639 non-null  object \n",
      " 29  data_erogazione                            460639 non-null  object \n",
      " 30  ora_inizio_erogazione                      456110 non-null  object \n",
      " 31  ora_fine_erogazione                        456110 non-null  object \n",
      " 32  data_disdetta                              0 non-null       object \n",
      "dtypes: float64(1), int64(6), object(26)\n",
      "memory usage: 119.5+ MB\n"
     ]
    }
   ],
   "source": [
    "df = remove_disdette(df)\n",
    "df.info()"
   ]
  },
  {
   "cell_type": "code",
   "execution_count": 7,
   "id": "a80085aa",
   "metadata": {},
   "outputs": [
    {
     "data": {
      "text/plain": [
       "Index(['id_prenotazione', 'id_paziente', 'data_nascita', 'sesso',\n",
       "       'regione_residenza', 'codice_regione_residenza', 'asl_residenza',\n",
       "       'codice_asl_residenza', 'provincia_residenza',\n",
       "       'codice_provincia_residenza', 'comune_residenza',\n",
       "       'codice_comune_residenza', 'tipologia_servizio', 'descrizione_attivita',\n",
       "       'codice_descrizione_attivita', 'data_contatto', 'regione_erogazione',\n",
       "       'codice_regione_erogazione', 'asl_erogazione', 'codice_asl_erogazione',\n",
       "       'provincia_erogazione', 'codice_provincia_erogazione',\n",
       "       'struttura_erogazione', 'codice_struttura_erogazione',\n",
       "       'tipologia_struttura_erogazione',\n",
       "       'codice_tipologia_struttura_erogazione', 'id_professionista_sanitario',\n",
       "       'tipologia_professionista_sanitario',\n",
       "       'codice_tipologia_professionista_sanitario', 'data_erogazione',\n",
       "       'ora_inizio_erogazione', 'ora_fine_erogazione', 'data_disdetta'],\n",
       "      dtype='object')"
      ]
     },
     "execution_count": 7,
     "metadata": {},
     "output_type": "execute_result"
    }
   ],
   "source": [
    "df.columns"
   ]
  },
  {
   "cell_type": "code",
   "execution_count": null,
   "id": "89c81fee",
   "metadata": {},
   "outputs": [],
   "source": []
  },
  {
   "cell_type": "code",
   "execution_count": null,
   "id": "c8ea8881",
   "metadata": {},
   "outputs": [],
   "source": []
  },
  {
   "cell_type": "code",
   "execution_count": null,
   "id": "7121fde6",
   "metadata": {},
   "outputs": [],
   "source": []
  },
  {
   "cell_type": "markdown",
   "id": "8df631aae6cb50d8",
   "metadata": {
    "collapsed": false
   },
   "source": [
    "The method __identify_and_remove_outliers_zscore__ uses the z-score method to identify and remove outliers from a DataFrame. The z-score measures the distance of a value from the mean in terms of standard deviations. This method normalizes the data and considers values that deviate from the mean beyond a specified threshold (default is 3) as outliers. The outliers are removed for each specified column, returning a DataFrame without these anomalous values."
   ]
  },
  {
   "cell_type": "code",
   "execution_count": 5,
   "id": "7a1ddbffd419a958",
   "metadata": {
    "collapsed": false
   },
   "outputs": [],
   "source": [
    "def identify_and_remove_outliers_zscore(df, columns, threshold=3):\n",
    "    \"\"\"\n",
    "    Identifies and removes outliers using the z-score method (normalization).\n",
    "    \n",
    "    :param df: The original DataFrame.\n",
    "    :param columns: The columns on which to apply outliers removal.\n",
    "    :param threshold: The z-score threshold for outlier detection (default: 3).\n",
    "    :return: A DataFrame with no outliers.\n",
    "    \"\"\"\n",
    "    for col in columns:\n",
    "        z_scores = np.abs((df[col] - df[col].mean()) / df[col].std())\n",
    "        df = df[z_scores <= threshold]\n",
    "    return df\n"
   ]
  },
  {
   "cell_type": "markdown",
   "id": "4b1e04550671bb25",
   "metadata": {
    "collapsed": false
   },
   "source": [
    "The function __smooth_noisy_data__ applies a moving average to smooth noisy data in a specified column of a DataFrame. Using a defined window size, the function calculates the average of the values within this window, thereby reducing fluctuations and noise in the data. This method is useful for obtaining a clearer representation of trends in the data."
   ]
  },
  {
   "cell_type": "code",
   "execution_count": 6,
   "id": "7dc0f6f0368163e9",
   "metadata": {
    "collapsed": false
   },
   "outputs": [],
   "source": [
    "def smooth_noisy_data(df, column, window_size=3):\n",
    "  \"\"\"\n",
    "  Smooth noisy data using moving average.\n",
    "\n",
    "  Args:\n",
    "    df: The original DataFrame.\n",
    "    column: The column to apply smoothing to.\n",
    "    window_size: The size of the moving average window.\n",
    "\n",
    "  Returns:\n",
    "    A DataFrame with the smoothed data.\n",
    "  \"\"\"\n",
    "\n",
    "  df[column] = df[column].rolling(window=window_size, min_periods=1).mean()\n",
    "  return df\n"
   ]
  },
  {
   "cell_type": "markdown",
   "id": "dd68708d8b35c988",
   "metadata": {
    "collapsed": false
   },
   "source": [
    "The function __remove_duplicates__ removes duplicates from a DataFrame. Using the drop_duplicates method from pandas, the function eliminates duplicate rows."
   ]
  },
  {
   "cell_type": "code",
   "execution_count": 7,
   "id": "fea59ae3dd521b55",
   "metadata": {
    "collapsed": false
   },
   "outputs": [],
   "source": [
    "def remove_duplicates(df) -> pd.DataFrame:\n",
    "    \"\"\"\n",
    "    Removes duplicates from dataset df.\n",
    "    :param df:\n",
    "    :return:\n",
    "    \"\"\"\n",
    "    df.drop_duplicates(inplace=True)\n",
    "    return df"
   ]
  },
  {
   "cell_type": "markdown",
   "id": "3dcffb99745c785d",
   "metadata": {
    "collapsed": false
   },
   "source": [
    "The function __imputate_comune_residenza__ imputes missing values in the comune_residenza column of a DataFrame using ISTAT codes. It loads a dataset containing ISTAT codes and the names of Italian municipalities, then merges this dataset with the original DataFrame based on the municipality code. Finally, it renames the column with the municipality name and removes the excess columns, returning a DataFrame with the imputed values."
   ]
  },
  {
   "cell_type": "code",
   "execution_count": null,
   "id": "74f8992f2b72bfeb",
   "metadata": {
    "collapsed": false
   },
   "outputs": [],
   "source": [
    "def imputate_comune_residenza(df):\n",
    "    \"\"\"\n",
    "    Imputes missing values for 'comune_residenza' using ISTAT codes.\n",
    "\n",
    "    Args:\n",
    "        df: The DataFrame containing the data.\n",
    "\n",
    "    Returns:\n",
    "        The DataFrame with imputed values.\n",
    "    \"\"\"\n",
    "\n",
    "    # Load ISTAT data\n",
    "    istat_data = pd.read_excel('datasets/Codici-statistici-e-denominazioni-al-30_06_2024.xlsx')\n",
    "\n",
    "    # Merge DataFrames on 'codice_comune'\n",
    "    df = pd.merge(df, istat_data, left_on='codice_comune', right_on='Codice Comune formato alfanumerico', how='left')\n",
    "\n",
    "    # Rename the column and remove the excess column (if necessary)\n",
    "    df.rename(columns={'Denominazione in italiano': 'comune_residenza'}, inplace=True)\n",
    "    df.drop('Codice Comune formato alfanumerico', axis=1, inplace=True)\n",
    "\n",
    "    return df"
   ]
  },
  {
   "cell_type": "markdown",
   "id": "3a5681834cc8297b",
   "metadata": {
    "collapsed": false
   },
   "source": [
    "The function __fill_missing_comune_residenza__ is designed to fill missing values in the comune_residenza column of a DataFrame using a provided mapping dictionary. This dictionary maps municipality codes to municipality names. The function also handles a special case where the municipality code '1168' is replaced with 'None' (representing Turin). The missing values in the comune_residenza column are then filled using the mapping dictionary. The function returns the DataFrame with the filled values"
   ]
  },
  {
   "cell_type": "code",
   "execution_count": null,
   "id": "9d82ea1510466cdf",
   "metadata": {
    "collapsed": false
   },
   "outputs": [],
   "source": [
    "def fill_missing_comune_residenza(df, codice_comune_to_nome):\n",
    "      \"\"\"\n",
    "      Fills missing values in the 'comune_residenza' column using a mapping.\n",
    "    \n",
    "      Args:\n",
    "        df: The DataFrame containing the data.\n",
    "        codice_comune_to_nome: A dictionary mapping the municipality code to the municipality name.\n",
    "    \n",
    "      Returns:\n",
    "        The DataFrame with filled missing values.\n",
    "      \"\"\"\n",
    "    \n",
    "      # Handle the special case: municipality of None (Turin)\n",
    "      df['codice_comune_residenza'] = df['codice_comune_residenza'].replace('1168', 'None')\n",
    "    \n",
    "      # Fill missing values using the mapping\n",
    "      df['comune_residenza'] = df['comune_residenza'].fillna(df['codice_comune_residenza'].map(codice_comune_to_nome))\n",
    "\n",
    "      return df"
   ]
  },
  {
   "cell_type": "markdown",
   "id": "af4169857c30b4b5",
   "metadata": {
    "collapsed": false
   },
   "source": [
    "The function __check_missing_values_same_row__ is designed to identify and count the rows in a DataFrame where both ora_inizio_erogazione and ora_fine_erogazione columns have missing values. It checks for missing values in these two columns simultaneously and prints the number of rows where both columns are missing. "
   ]
  },
  {
   "cell_type": "code",
   "execution_count": 3,
   "id": "331b96f4229c71f7",
   "metadata": {
    "ExecuteTime": {
     "end_time": "2024-07-31T14:44:49.491569Z",
     "start_time": "2024-07-31T14:44:49.461135Z"
    },
    "collapsed": false
   },
   "outputs": [],
   "source": [
    "def check_missing_values_same_row(df):\n",
    "    \"\"\"\n",
    "    Checks if missing values in 'ora_inizio_erogazione' and 'ora_fine_erogazione' are in the same rows.\n",
    "\n",
    "    Args:\n",
    "        df: The DataFrame to check.\n",
    "\n",
    "    Returns:\n",
    "        None\n",
    "    \"\"\"\n",
    "\n",
    "    missing_both = df[['ora_inizio_erogazione', 'ora_fine_erogazione']].isna().all(axis=1)\n",
    "    num_rows_with_both_missing = missing_both.sum()\n",
    "    print(f\"Number of rows with both 'ora_inizio_erogazione' and 'ora_fine_erogazione' missing: {num_rows_with_both_missing}\")\n"
   ]
  },
  {
   "cell_type": "code",
   "execution_count": null,
   "id": "a637b581263eccaf",
   "metadata": {
    "collapsed": false
   },
   "outputs": [],
   "source": []
  }
 ],
 "metadata": {
  "kernelspec": {
   "display_name": "Python 3",
   "language": "python",
   "name": "python3"
  },
  "language_info": {
   "codemirror_mode": {
    "name": "ipython",
    "version": 3
   },
   "file_extension": ".py",
   "mimetype": "text/x-python",
   "name": "python",
   "nbconvert_exporter": "python",
   "pygments_lexer": "ipython3",
   "version": "3.10.12"
  }
 },
 "nbformat": 4,
 "nbformat_minor": 5
}
