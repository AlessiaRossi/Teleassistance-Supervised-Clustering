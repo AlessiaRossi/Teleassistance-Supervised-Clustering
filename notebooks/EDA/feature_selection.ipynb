{
 "cells": [
  {
   "cell_type": "code",
   "execution_count": 1,
   "metadata": {},
   "outputs": [],
   "source": [
    "import pandas as pd\n"
   ]
  },
  {
   "cell_type": "code",
   "execution_count": 2,
   "metadata": {},
   "outputs": [],
   "source": [
    "df = pd.read_parquet('../../data/processed/challenge_campus_biomedico_2024_cleaned.parquet')"
   ]
  },
  {
   "cell_type": "code",
   "execution_count": null,
   "metadata": {},
   "outputs": [],
   "source": []
  },
  {
   "cell_type": "code",
   "execution_count": 3,
   "metadata": {},
   "outputs": [],
   "source": []
  },
  {
   "cell_type": "code",
   "execution_count": 4,
   "metadata": {},
   "outputs": [],
   "source": [
    "def print_details_corrections (df, code, description, code_groups, description_groups):\n",
    "    \n",
    "    not_unique = False\n",
    "\n",
    "    for cod, desc_count in code_groups.items():\n",
    "        if desc_count > 1:\n",
    "            associated_descriptions = df[df[code] == cod][description].unique()\n",
    "            print(f\"The {cod} code is associated with {desc_count} descriptions: {associated_descriptions}\")\n",
    "            not_unique = True\n",
    "            \n",
    "        \n",
    "    for desc, code_count in description_groups.items():\n",
    "        if code_count > 1:\n",
    "            associated_codes =df[df[description] == desc][code].unique()\n",
    "            print(f\"The {desc} description is associated with {code_count} codes: {associated_codes}\")\n",
    "            not_unique = True\n",
    "\n",
    "    if not_unique:\n",
    "        print(f\"--> NOT unique correlation between {code} and {description}\\n\")\n",
    "\n"
   ]
  },
  {
   "cell_type": "code",
   "execution_count": 5,
   "metadata": {},
   "outputs": [],
   "source": [
    "def remove_columns_with_unique_correlation(df, columns_pairs) -> pd.DataFrame:\n",
    "    pairs_removed = []\n",
    "\n",
    "    for code, description in columns_pairs:\n",
    "        if code in df.columns and description in df.columns:\n",
    "            code_groups = df.groupby(code)[description].nunique()\n",
    "            description_groups = df.groupby(description)[code].nunique()\n",
    "\n",
    "            print_details_corrections(df, code, description, code_groups, description_groups)\n",
    "\n",
    "            unique_correlation_code_description = all(code_groups <= 1)\n",
    "            unique_correlation_description_code = all(description_groups <= 1)\n",
    "\n",
    "            if unique_correlation_code_description and unique_correlation_description_code:\n",
    "                df.drop(columns=[code], inplace=True)\n",
    "                print(f'Unique correlation between {code} and {description}. Column {code} removed.')\n",
    "                pairs_removed.append((code, description))\n",
    "        else:\n",
    "            print(f'Columns {code} or {description} not found in the dataframe.')\n",
    "            pairs_removed.append((code, description))\n",
    "\n",
    "    # Update the list of columns pairs removing the ones that have been removed\n",
    "    columns_pairs_updated = [pair for pair in columns_pairs if pair not in pairs_removed]\n",
    "    return df, columns_pairs_updated\n",
    "\n",
    "            "
   ]
  },
  {
   "cell_type": "code",
   "execution_count": 7,
   "metadata": {},
   "outputs": [
    {
     "name": "stdout",
     "output_type": "stream",
     "text": [
      "Index(['id_prenotazione', 'id_paziente', 'data_nascita', 'sesso',\n",
      "       'regione_residenza', 'asl_residenza', 'provincia_residenza',\n",
      "       'comune_residenza', 'tipologia_servizio', 'descrizione_attivita',\n",
      "       'data_contatto', 'regione_erogazione', 'asl_erogazione',\n",
      "       'provincia_erogazione', 'struttura_erogazione',\n",
      "       'codice_struttura_erogazione', 'tipologia_struttura_erogazione',\n",
      "       'id_professionista_sanitario', 'tipologia_professionista_sanitario',\n",
      "       'data_erogazione', 'ora_inizio_erogazione', 'ora_fine_erogazione',\n",
      "       'data_disdetta'],\n",
      "      dtype='object')\n",
      "------------ check unique correlation between codes and descriptions: ------------\n",
      "\n",
      "Columns codice_provincia_residenza or provincia_residenza not found in the dataframe.\n",
      "Columns codice_provincia_erogazione or provincia_erogazione not found in the dataframe.\n",
      "Columns codice_regione_residenza or regione_residenza not found in the dataframe.\n",
      "Columns codice_asl_residenza or asl_residenza not found in the dataframe.\n",
      "Columns codice_comune_residenza or comune_residenza not found in the dataframe.\n",
      "Columns codice_descrizione_attivita or descrizione_attivita not found in the dataframe.\n",
      "Columns codice_regione_erogazione or regione_erogazione not found in the dataframe.\n",
      "Columns codice_asl_erogazione or asl_erogazione not found in the dataframe.\n",
      "The A.O.OO.RR.S.GIOVANNI DI DIO E RUGGI D`AR description is associated with 4 codes: [150904.01 150904.02 150904.03 150904.04]\n",
      "The A.O.R Villa Sofia Cervello description is associated with 3 codes: [190926.03 190926.01 190926.02]\n",
      "The A.O.R.N. SANTOBONO-PAUSILIPON description is associated with 3 codes: [150902.01 150902.03 150902.02]\n",
      "The A.O.U. POLICLINICO - VITTORIO EMANUELE description is associated with 2 codes: [190923.04 190923.01]\n",
      "The AO UNIV. 'OO RR FOGGIA' description is associated with 2 codes: [160910.01 160910.02]\n",
      "The AO UNIV. CONS. POLICLINICO BARI description is associated with 2 codes: [160907.01 160907.02]\n",
      "The AOU CITTA' DELLA SALUTE E DELLA SCIENZA description is associated with 4 codes: [10909.01 10909.07 10909.04 10909.06]\n",
      "The ARNAS GARIBALDI description is associated with 2 codes: [190922.04 190922.01]\n",
      "The AZ. SS.ANTONIO E BIAGIO E C.ARRIGO description is associated with 2 codes: [10907.01 10907.02]\n",
      "The AZ.OSP.UNIVERSITARIA INTEGRATA VERONA description is associated with 2 codes: [50912.01 50912.02]\n",
      "The AZIENDA OSP. UNIVERSITARIA DELLE MARCHE description is associated with 2 codes: [110905.01 110905.03]\n",
      "The AZIENDA OSPED. NOVARA E GALLIATE description is associated with 2 codes: [10905.01 10905.02]\n",
      "The AZIENDA OSPEDALE `AO SAN PIO description is associated with 2 codes: [150906.01 150906.02]\n",
      "The AZIENDA OSPEDALIERA DI COSENZA description is associated with 2 codes: [180912.01 180912.02]\n",
      "The AZIENDA OSPEDALIERA REGIONALE 'S. CARLO' description is associated with 5 codes: [170901.01 170901.05 170901.04 170901.03 170901.02]\n",
      "The AZIENDA OSPEDALIERO UNIVERSITARIA SS description is associated with 2 codes: [200905.01 200905.02]\n",
      "The AZIENDA OSPEDALIERO-UNIVERSITARIA DI MOD description is associated with 2 codes: [80904.01 80904.02]\n",
      "The Azienda Osped. Bianchi Melacrino Morelli description is associated with 2 codes: [180915.01 180915.02]\n",
      "The Azienda Ospedaliera 'Civico-Di Cristina- description is associated with 2 codes: [190927.01 190927.02]\n",
      "The Azienda Ospedaliera Pugliese - Ciaccio description is associated with 2 codes: [180913.01 180913.02]\n",
      "The Azienda Ospedaliera dei Colli description is associated with 3 codes: [150903.01 150903.03 150903.02]\n",
      "The DEA UMBERTO I NOCERA INFERIORE description is associated with 3 codes: [150154.01 150154.02 150154.03]\n",
      "The FONDAZIONE CNR-RT G. MONASTERIO description is associated with 2 codes: [90907.01 90907.02]\n",
      "The INRCA MARCHE description is associated with 2 codes: [110921.01 110921.03]\n",
      "The IST.AUXOLOGICO ITALIANO - MILANO description is associated with 2 codes: [30936.01 30936.03]\n",
      "The OSPEDALE AZIENDA U.L.S.S. N.4 description is associated with 3 codes: [50504.01 50504.02 50504.03]\n",
      "The OSPEDALE BARI 'SAN PAOLO' description is associated with 4 codes: [160158.01 160158.03 160158.04 160158.05]\n",
      "The OSPEDALE DI LEGNANO E CUGGIONO-LEGNANO description is associated with 2 codes: [30281.01 30281.02]\n",
      "The OSPEDALE DI MAGENTA - ABBIATEGRASSO description is associated with 2 codes: [30074.01 30074.02]\n",
      "The OSPEDALE DI TRENTO description is associated with 2 codes: [42001.01 42001.03]\n",
      "The OSPEDALE FIORENTINO description is associated with 3 codes: [90632.03 90632.01 90632.02]\n",
      "The OSPEDALE FIORENTINO SUD-EST description is associated with 2 codes: [90629.01 90629.02]\n",
      "The OSPEDALE GALEAZZI SPA description is associated with 2 codes: [30946.01 30946.02]\n",
      "The OSPEDALE LECCE - 'V FAZZI' (SAN CESARIO) description is associated with 2 codes: [160171.01 160171.02]\n",
      "The OSPEDALE PEDIATRICO BAMBINO GESU` description is associated with 2 codes: [120904.01 120904.02]\n",
      "The OSPEDALE S. EUGENIO description is associated with 2 codes: [120066.02 120066.01]\n",
      "The OSPEDALE SPOKE ROSSANO-CORIGLIANO description is associated with 2 codes: [180010.01 180010.02]\n",
      "The OSPEDALE UNICO DEL VERCELLESE description is associated with 2 codes: [10009.01 10009.02]\n",
      "The OSPEDALE UNICO PLURISEDE description is associated with 3 codes: [10005.01 10005.03 10005.02]\n",
      "The OSPEDALI  RIUNITI AREA STABIESE description is associated with 2 codes: [150416.01 150416.02]\n",
      "The OSPEDALI AZIENDA ULSS N. 3 SERENISSIMA description is associated with 5 codes: [50503.02 50503.04 50503.01 50503.06 50503.03]\n",
      "The OSPEDALI DI BASSANO description is associated with 3 codes: [50507.03 50507.01 50507.02]\n",
      "The OSPEDALI DI LEGNAGO description is associated with 6 codes: [50509.01 50509.03 50509.05 50509.07 50509.06 50509.04]\n",
      "The OSPEDALI DI ROVIGO description is associated with 3 codes: [50505.03 50505.01 50505.02]\n",
      "The OSPEDALI DI TREVISO description is associated with 6 codes: [50502.05 50502.02 50502.07 50502.01 50502.04 50502.06]\n",
      "The OSPEDALI DI VICENZA description is associated with 5 codes: [50508.01 50508.06 50508.03 50508.05 50508.04]\n",
      "The OSPEDALI EUGANEA description is associated with 4 codes: [50506.04 50506.01 50506.05 50506.02]\n",
      "The OSPEDALI RIUNITI A.S.L. TO 5 description is associated with 3 codes: [10004.02 10004.01 10004.03]\n",
      "The OSPEDALI RIUNITI AREA NOLANA description is associated with 2 codes: [150436.01 150436.02]\n",
      "The OSPEDALI RIUNITI ASL AL description is associated with 4 codes: [10026.01 10026.05 10026.03 10026.04]\n",
      "The OSPEDALI RIUNITI DEL CANAVESE description is associated with 2 codes: [10023.01 10023.02]\n",
      "The OSPEDALI RIUNITI PENISOLA SORRENTINA description is associated with 2 codes: [150417.01 150417.02]\n",
      "The OSPEDALI RIUNITI RIVOLI description is associated with 2 codes: [10079.01 10079.04]\n",
      "The OSPEDALI ULSS 1 DOLOMITI description is associated with 3 codes: [50501.04 50501.01 50501.02]\n",
      "The Ospedale Spoke Cetraro-Paola description is associated with 2 codes: [180012.02 180012.01]\n",
      "The P.O. 'San Daniele del Friuli e Tolmezzo' description is associated with 2 codes: [60045.02 60045.01]\n",
      "The PO 'Latisana e Palmanova' description is associated with 2 codes: [60044.01 60044.02]\n",
      "The PO UNIFICATO :: FROSINONE - ALATRI description is associated with 2 codes: [120216.01 120216.02]\n",
      "The POLICLINICO A. GEMELLI E C.I.C. description is associated with 2 codes: [120905.01 120905.02]\n",
      "The PRESIDIO LEVANTE description is associated with 2 codes: [70212.04 70212.03]\n",
      "The PRESIDIO OSPEDALERO CENTRALE TARANTO description is associated with 3 codes: [160172.03 160172.01 160172.04]\n",
      "The PRESIDIO OSPEDALIERO -  MATERA description is associated with 2 codes: [170011.01 170011.02]\n",
      "The PRESIDIO OSPEDALIERO ALTO TEVERE description is associated with 2 codes: [100801.01 100801.02]\n",
      "The PRESIDIO OSPEDALIERO AREA NORD - CN1 description is associated with 2 codes: [10126.01 10126.02]\n",
      "The PRESIDIO OSPEDALIERO AREA SUD - CN1 description is associated with 2 codes: [10124.01 10124.02]\n",
      "The PRESIDIO OSPEDALIERO ASL 11 EMPOLI description is associated with 2 codes: [90642.02 90642.03]\n",
      "The PRESIDIO OSPEDALIERO ASL4 CHIAVARESE description is associated with 3 codes: [70039.01 70039.02 70039.05]\n",
      "The PRESIDIO OSPEDALIERO AST2 description is associated with 3 codes: [110002.01 110002.02 110002.04]\n",
      "The PRESIDIO OSPEDALIERO AZIENDALE (AUSL PAR description is associated with 2 codes: [80013.01 80013.03]\n",
      "The PRESIDIO OSPEDALIERO DEL LEVANTE LIGURE description is associated with 2 codes: [70058.01 70058.04]\n",
      "The PRESIDIO OSPEDALIERO DEL VERBANO description is associated with 2 codes: [30282.01 30282.02]\n",
      "The PRESIDIO OSPEDALIERO DI VARESE description is associated with 2 codes: [30901.01 30901.02]\n",
      "The PRESIDIO OSPEDALIERO IMOLA - CASTEL S. P description is associated with 2 codes: [80044.02 80044.01]\n",
      "The PRESIDIO OSPEDALIERO METROPOLITANO description is associated with 2 codes: [70301.04 70301.03]\n",
      "The PRESIDIO OSPEDALIERO NARNI AMELIA description is associated with 2 codes: [100807.01 100807.02]\n",
      "The PRESIDIO OSPEDALIERO PROVINCIALE description is associated with 4 codes: [80031.04 80031.08 80031.05 80031.09]\n",
      "The PRESIDIO OSPEDALIERO PROVINCIALE DI REGG description is associated with 7 codes: [80021.01 80021.03 80021.05 80021.06 80021.07 80021.02 80021.04]\n",
      "The PRESIDIO OSPEDALIERO SAN FILIPPO NERI description is associated with 2 codes: [120285.01 120285.03]\n",
      "The PRESIDIO OSPEDALIERO UNICO description is associated with 3 codes: [80068.06 80068.03 80068.04]\n",
      "The PRESIDIO OSPEDALIERO UNICO - AZIENDA DI description is associated with 5 codes: [80053.01 80053.02 80053.07 80053.09 80053.04]\n",
      "The PRESIDIO OSPEDALIERO UNIFICATO description is associated with 5 codes: [ 70001.02  70001.01 100803.01  70001.03 100803.07]\n",
      "The PRESIDIO PONENTE description is associated with 2 codes: [70211.01 70211.02]\n",
      "The PRESIDIO UNICO PIACENZA description is associated with 3 codes: [80004.03 80004.01 80004.06]\n",
      "The Presidio ospedaliero San Vito al Tagliam description is associated with 2 codes: [60042.01 60042.02]\n",
      "--> NOT unique correlation between codice_struttura_erogazione and struttura_erogazione\n",
      "\n",
      "Columns codice_tipologia_struttura_erogazione or tipologia_struttura_erogazione not found in the dataframe.\n",
      "Columns codice_tipologia_professionista_sanitario or tipologia_professionista_sanitario not found in the dataframe.\n",
      "[('codice_provincia_residenza', 'provincia_residenza'), ('codice_provincia_erogazione', 'provincia_erogazione'), ('codice_regione_residenza', 'regione_residenza'), ('codice_asl_residenza', 'asl_residenza'), ('codice_comune_residenza', 'comune_residenza'), ('codice_descrizione_attivita', 'descrizione_attivita'), ('codice_regione_erogazione', 'regione_erogazione'), ('codice_asl_erogazione', 'asl_erogazione'), ('codice_tipologia_struttura_erogazione', 'tipologia_struttura_erogazione'), ('codice_tipologia_professionista_sanitario', 'tipologia_professionista_sanitario')]\n",
      "codice_provincia_residenza\n"
     ]
    },
    {
     "ename": "KeyError",
     "evalue": "\"['codice_provincia_residenza'] not found in axis\"",
     "output_type": "error",
     "traceback": [
      "\u001b[0;31m---------------------------------------------------------------------------\u001b[0m",
      "\u001b[0;31mKeyError\u001b[0m                                  Traceback (most recent call last)",
      "Cell \u001b[0;32mIn[7], line 4\u001b[0m\n\u001b[1;32m      1\u001b[0m \u001b[38;5;28mprint\u001b[39m(df\u001b[38;5;241m.\u001b[39mcolumns)\n\u001b[1;32m      3\u001b[0m \u001b[38;5;28mprint\u001b[39m(\u001b[38;5;124m\"\u001b[39m\u001b[38;5;124m------------ check unique correlation between codes and descriptions: ------------\u001b[39m\u001b[38;5;130;01m\\n\u001b[39;00m\u001b[38;5;124m\"\u001b[39m)\n\u001b[0;32m----> 4\u001b[0m df, columns_pairs_updated \u001b[38;5;241m=\u001b[39m \u001b[43mremove_columns_with_unique_correlation\u001b[49m\u001b[43m(\u001b[49m\u001b[43mdf\u001b[49m\u001b[43m,\u001b[49m\u001b[43m \u001b[49m\u001b[43mcolumns_pairs\u001b[49m\u001b[43m)\u001b[49m\n",
      "Cell \u001b[0;32mIn[5], line 31\u001b[0m, in \u001b[0;36mremove_columns_with_unique_correlation\u001b[0;34m(df, columns_pairs)\u001b[0m\n\u001b[1;32m     29\u001b[0m     \u001b[38;5;28mprint\u001b[39m(code)\n\u001b[1;32m     30\u001b[0m     \u001b[38;5;28;01mif\u001b[39;00m (code, description) \u001b[38;5;129;01min\u001b[39;00m pairs_removed:\n\u001b[0;32m---> 31\u001b[0m         \u001b[43mdf\u001b[49m\u001b[38;5;241;43m.\u001b[39;49m\u001b[43mdrop\u001b[49m\u001b[43m(\u001b[49m\u001b[43mcolumns\u001b[49m\u001b[38;5;241;43m=\u001b[39;49m\u001b[43m[\u001b[49m\u001b[43mcode\u001b[49m\u001b[43m]\u001b[49m\u001b[43m,\u001b[49m\u001b[43m \u001b[49m\u001b[43minplace\u001b[49m\u001b[38;5;241;43m=\u001b[39;49m\u001b[38;5;28;43;01mTrue\u001b[39;49;00m\u001b[43m)\u001b[49m\n\u001b[1;32m     33\u001b[0m \u001b[38;5;28;01mreturn\u001b[39;00m df, columns_pairs_updated\n",
      "File \u001b[0;32m~/ucbm/fia/Teleassistance-Supervised-Clustering/.venv/lib/python3.10/site-packages/pandas/core/frame.py:5581\u001b[0m, in \u001b[0;36mDataFrame.drop\u001b[0;34m(self, labels, axis, index, columns, level, inplace, errors)\u001b[0m\n\u001b[1;32m   5433\u001b[0m \u001b[38;5;28;01mdef\u001b[39;00m \u001b[38;5;21mdrop\u001b[39m(\n\u001b[1;32m   5434\u001b[0m     \u001b[38;5;28mself\u001b[39m,\n\u001b[1;32m   5435\u001b[0m     labels: IndexLabel \u001b[38;5;241m|\u001b[39m \u001b[38;5;28;01mNone\u001b[39;00m \u001b[38;5;241m=\u001b[39m \u001b[38;5;28;01mNone\u001b[39;00m,\n\u001b[0;32m   (...)\u001b[0m\n\u001b[1;32m   5442\u001b[0m     errors: IgnoreRaise \u001b[38;5;241m=\u001b[39m \u001b[38;5;124m\"\u001b[39m\u001b[38;5;124mraise\u001b[39m\u001b[38;5;124m\"\u001b[39m,\n\u001b[1;32m   5443\u001b[0m ) \u001b[38;5;241m-\u001b[39m\u001b[38;5;241m>\u001b[39m DataFrame \u001b[38;5;241m|\u001b[39m \u001b[38;5;28;01mNone\u001b[39;00m:\n\u001b[1;32m   5444\u001b[0m \u001b[38;5;250m    \u001b[39m\u001b[38;5;124;03m\"\"\"\u001b[39;00m\n\u001b[1;32m   5445\u001b[0m \u001b[38;5;124;03m    Drop specified labels from rows or columns.\u001b[39;00m\n\u001b[1;32m   5446\u001b[0m \n\u001b[0;32m   (...)\u001b[0m\n\u001b[1;32m   5579\u001b[0m \u001b[38;5;124;03m            weight  1.0     0.8\u001b[39;00m\n\u001b[1;32m   5580\u001b[0m \u001b[38;5;124;03m    \"\"\"\u001b[39;00m\n\u001b[0;32m-> 5581\u001b[0m     \u001b[38;5;28;01mreturn\u001b[39;00m \u001b[38;5;28;43msuper\u001b[39;49m\u001b[43m(\u001b[49m\u001b[43m)\u001b[49m\u001b[38;5;241;43m.\u001b[39;49m\u001b[43mdrop\u001b[49m\u001b[43m(\u001b[49m\n\u001b[1;32m   5582\u001b[0m \u001b[43m        \u001b[49m\u001b[43mlabels\u001b[49m\u001b[38;5;241;43m=\u001b[39;49m\u001b[43mlabels\u001b[49m\u001b[43m,\u001b[49m\n\u001b[1;32m   5583\u001b[0m \u001b[43m        \u001b[49m\u001b[43maxis\u001b[49m\u001b[38;5;241;43m=\u001b[39;49m\u001b[43maxis\u001b[49m\u001b[43m,\u001b[49m\n\u001b[1;32m   5584\u001b[0m \u001b[43m        \u001b[49m\u001b[43mindex\u001b[49m\u001b[38;5;241;43m=\u001b[39;49m\u001b[43mindex\u001b[49m\u001b[43m,\u001b[49m\n\u001b[1;32m   5585\u001b[0m \u001b[43m        \u001b[49m\u001b[43mcolumns\u001b[49m\u001b[38;5;241;43m=\u001b[39;49m\u001b[43mcolumns\u001b[49m\u001b[43m,\u001b[49m\n\u001b[1;32m   5586\u001b[0m \u001b[43m        \u001b[49m\u001b[43mlevel\u001b[49m\u001b[38;5;241;43m=\u001b[39;49m\u001b[43mlevel\u001b[49m\u001b[43m,\u001b[49m\n\u001b[1;32m   5587\u001b[0m \u001b[43m        \u001b[49m\u001b[43minplace\u001b[49m\u001b[38;5;241;43m=\u001b[39;49m\u001b[43minplace\u001b[49m\u001b[43m,\u001b[49m\n\u001b[1;32m   5588\u001b[0m \u001b[43m        \u001b[49m\u001b[43merrors\u001b[49m\u001b[38;5;241;43m=\u001b[39;49m\u001b[43merrors\u001b[49m\u001b[43m,\u001b[49m\n\u001b[1;32m   5589\u001b[0m \u001b[43m    \u001b[49m\u001b[43m)\u001b[49m\n",
      "File \u001b[0;32m~/ucbm/fia/Teleassistance-Supervised-Clustering/.venv/lib/python3.10/site-packages/pandas/core/generic.py:4788\u001b[0m, in \u001b[0;36mNDFrame.drop\u001b[0;34m(self, labels, axis, index, columns, level, inplace, errors)\u001b[0m\n\u001b[1;32m   4786\u001b[0m \u001b[38;5;28;01mfor\u001b[39;00m axis, labels \u001b[38;5;129;01min\u001b[39;00m axes\u001b[38;5;241m.\u001b[39mitems():\n\u001b[1;32m   4787\u001b[0m     \u001b[38;5;28;01mif\u001b[39;00m labels \u001b[38;5;129;01mis\u001b[39;00m \u001b[38;5;129;01mnot\u001b[39;00m \u001b[38;5;28;01mNone\u001b[39;00m:\n\u001b[0;32m-> 4788\u001b[0m         obj \u001b[38;5;241m=\u001b[39m \u001b[43mobj\u001b[49m\u001b[38;5;241;43m.\u001b[39;49m\u001b[43m_drop_axis\u001b[49m\u001b[43m(\u001b[49m\u001b[43mlabels\u001b[49m\u001b[43m,\u001b[49m\u001b[43m \u001b[49m\u001b[43maxis\u001b[49m\u001b[43m,\u001b[49m\u001b[43m \u001b[49m\u001b[43mlevel\u001b[49m\u001b[38;5;241;43m=\u001b[39;49m\u001b[43mlevel\u001b[49m\u001b[43m,\u001b[49m\u001b[43m \u001b[49m\u001b[43merrors\u001b[49m\u001b[38;5;241;43m=\u001b[39;49m\u001b[43merrors\u001b[49m\u001b[43m)\u001b[49m\n\u001b[1;32m   4790\u001b[0m \u001b[38;5;28;01mif\u001b[39;00m inplace:\n\u001b[1;32m   4791\u001b[0m     \u001b[38;5;28mself\u001b[39m\u001b[38;5;241m.\u001b[39m_update_inplace(obj)\n",
      "File \u001b[0;32m~/ucbm/fia/Teleassistance-Supervised-Clustering/.venv/lib/python3.10/site-packages/pandas/core/generic.py:4830\u001b[0m, in \u001b[0;36mNDFrame._drop_axis\u001b[0;34m(self, labels, axis, level, errors, only_slice)\u001b[0m\n\u001b[1;32m   4828\u001b[0m         new_axis \u001b[38;5;241m=\u001b[39m axis\u001b[38;5;241m.\u001b[39mdrop(labels, level\u001b[38;5;241m=\u001b[39mlevel, errors\u001b[38;5;241m=\u001b[39merrors)\n\u001b[1;32m   4829\u001b[0m     \u001b[38;5;28;01melse\u001b[39;00m:\n\u001b[0;32m-> 4830\u001b[0m         new_axis \u001b[38;5;241m=\u001b[39m \u001b[43maxis\u001b[49m\u001b[38;5;241;43m.\u001b[39;49m\u001b[43mdrop\u001b[49m\u001b[43m(\u001b[49m\u001b[43mlabels\u001b[49m\u001b[43m,\u001b[49m\u001b[43m \u001b[49m\u001b[43merrors\u001b[49m\u001b[38;5;241;43m=\u001b[39;49m\u001b[43merrors\u001b[49m\u001b[43m)\u001b[49m\n\u001b[1;32m   4831\u001b[0m     indexer \u001b[38;5;241m=\u001b[39m axis\u001b[38;5;241m.\u001b[39mget_indexer(new_axis)\n\u001b[1;32m   4833\u001b[0m \u001b[38;5;66;03m# Case for non-unique axis\u001b[39;00m\n\u001b[1;32m   4834\u001b[0m \u001b[38;5;28;01melse\u001b[39;00m:\n",
      "File \u001b[0;32m~/ucbm/fia/Teleassistance-Supervised-Clustering/.venv/lib/python3.10/site-packages/pandas/core/indexes/base.py:7070\u001b[0m, in \u001b[0;36mIndex.drop\u001b[0;34m(self, labels, errors)\u001b[0m\n\u001b[1;32m   7068\u001b[0m \u001b[38;5;28;01mif\u001b[39;00m mask\u001b[38;5;241m.\u001b[39many():\n\u001b[1;32m   7069\u001b[0m     \u001b[38;5;28;01mif\u001b[39;00m errors \u001b[38;5;241m!=\u001b[39m \u001b[38;5;124m\"\u001b[39m\u001b[38;5;124mignore\u001b[39m\u001b[38;5;124m\"\u001b[39m:\n\u001b[0;32m-> 7070\u001b[0m         \u001b[38;5;28;01mraise\u001b[39;00m \u001b[38;5;167;01mKeyError\u001b[39;00m(\u001b[38;5;124mf\u001b[39m\u001b[38;5;124m\"\u001b[39m\u001b[38;5;132;01m{\u001b[39;00mlabels[mask]\u001b[38;5;241m.\u001b[39mtolist()\u001b[38;5;132;01m}\u001b[39;00m\u001b[38;5;124m not found in axis\u001b[39m\u001b[38;5;124m\"\u001b[39m)\n\u001b[1;32m   7071\u001b[0m     indexer \u001b[38;5;241m=\u001b[39m indexer[\u001b[38;5;241m~\u001b[39mmask]\n\u001b[1;32m   7072\u001b[0m \u001b[38;5;28;01mreturn\u001b[39;00m \u001b[38;5;28mself\u001b[39m\u001b[38;5;241m.\u001b[39mdelete(indexer)\n",
      "\u001b[0;31mKeyError\u001b[0m: \"['codice_provincia_residenza'] not found in axis\""
     ]
    }
   ],
   "source": [
    "print(\"------------ check unique correlation between codes and descriptions: ------------\\n\")\n",
    "df, columns_pairs_updated = remove_columns_with_unique_correlation(df, columns_pairs)"
   ]
  },
  {
   "cell_type": "code",
   "execution_count": null,
   "metadata": {},
   "outputs": [],
   "source": [
    "def clean_codice_struttura_erogazione(df, column = 'codice_struttura_erogazione'):\n",
    "    df[column] = df[column].astype(int)\n",
    "    return df"
   ]
  },
  {
   "cell_type": "code",
   "execution_count": null,
   "metadata": {},
   "outputs": [
    {
     "name": "stdout",
     "output_type": "stream",
     "text": [
      "[160172.01 160172.03 160172.04]\n",
      "after\n",
      "[160172]\n"
     ]
    }
   ],
   "source": [
    "print(df[df['struttura_erogazione'] == 'PRESIDIO OSPEDALERO CENTRALE TARANTO'].codice_struttura_erogazione.sort_values(ascending=True).unique())\n",
    "\n",
    "\n",
    "df = clean_codice_struttura_erogazione(df)\n",
    "\n",
    "print('after')\n",
    "print(df[df['struttura_erogazione'] == 'PRESIDIO OSPEDALERO CENTRALE TARANTO'].codice_struttura_erogazione.sort_values(ascending=True).unique())"
   ]
  },
  {
   "cell_type": "code",
   "execution_count": null,
   "metadata": {},
   "outputs": [
    {
     "name": "stdout",
     "output_type": "stream",
     "text": [
      "------------ check unique correlation between codes and descriptions with cleared codice_struttura: ------------\n",
      "\n",
      "The PRESIDIO OSPEDALIERO UNIFICATO description is associated with 2 codes: [ 70001 100803]\n",
      "--> NOT unique correlation between codice_struttura_erogazione and struttura_erogazione\n",
      "\n"
     ]
    }
   ],
   "source": [
    "print(\"------------ check unique correlation between codes and descriptions with cleared codice_struttura: ------------\\n\")\n",
    "columns_pairs_updated = remove_columns_with_unique_correlation(df, columns_pairs_updated)"
   ]
  },
  {
   "cell_type": "code",
   "execution_count": null,
   "metadata": {},
   "outputs": [
    {
     "data": {
      "text/plain": [
       "[('codice_struttura_erogazione', 'struttura_erogazione')]"
      ]
     },
     "execution_count": 18,
     "metadata": {},
     "output_type": "execute_result"
    }
   ],
   "source": [
    "columns_pairs_updated"
   ]
  },
  {
   "cell_type": "code",
   "execution_count": null,
   "metadata": {},
   "outputs": [
    {
     "data": {
      "text/plain": [
       "codice_struttura_erogazione\n",
       "70001     1665\n",
       "100803      60\n",
       "Name: count, dtype: int64"
      ]
     },
     "execution_count": 14,
     "metadata": {},
     "output_type": "execute_result"
    }
   ],
   "source": [
    "df[df['struttura_erogazione'] == 'PRESIDIO OSPEDALIERO UNIFICATO']['codice_struttura_erogazione'].value_counts()"
   ]
  },
  {
   "cell_type": "code",
   "execution_count": null,
   "metadata": {},
   "outputs": [],
   "source": []
  },
  {
   "cell_type": "code",
   "execution_count": null,
   "metadata": {},
   "outputs": [
    {
     "data": {
      "text/plain": [
       "Index(['id_prenotazione', 'id_paziente', 'data_nascita', 'sesso',\n",
       "       'regione_residenza', 'asl_residenza', 'provincia_residenza',\n",
       "       'comune_residenza', 'tipologia_servizio', 'descrizione_attivita',\n",
       "       'data_contatto', 'regione_erogazione', 'asl_erogazione',\n",
       "       'provincia_erogazione', 'struttura_erogazione',\n",
       "       'codice_struttura_erogazione', 'tipologia_struttura_erogazione',\n",
       "       'id_professionista_sanitario', 'tipologia_professionista_sanitario',\n",
       "       'data_erogazione', 'ora_inizio_erogazione', 'ora_fine_erogazione',\n",
       "       'data_disdetta'],\n",
       "      dtype='object')"
      ]
     },
     "execution_count": 16,
     "metadata": {},
     "output_type": "execute_result"
    }
   ],
   "source": [
    "df.columns"
   ]
  },
  {
   "cell_type": "code",
   "execution_count": null,
   "metadata": {},
   "outputs": [
    {
     "data": {
      "text/plain": [
       "Index(['id_prenotazione', 'id_paziente', 'data_nascita', 'sesso',\n",
       "       'regione_residenza', 'asl_residenza', 'provincia_residenza',\n",
       "       'comune_residenza', 'tipologia_servizio', 'descrizione_attivita',\n",
       "       'data_contatto', 'regione_erogazione', 'asl_erogazione',\n",
       "       'provincia_erogazione', 'struttura_erogazione',\n",
       "       'codice_struttura_erogazione', 'tipologia_struttura_erogazione',\n",
       "       'id_professionista_sanitario', 'tipologia_professionista_sanitario',\n",
       "       'data_erogazione', 'ora_inizio_erogazione', 'ora_fine_erogazione'],\n",
       "      dtype='object')"
      ]
     },
     "execution_count": 17,
     "metadata": {},
     "output_type": "execute_result"
    }
   ],
   "source": [
    "remove_data_disdetta(df)\n",
    "df.columns"
   ]
  },
  {
   "cell_type": "code",
   "execution_count": null,
   "metadata": {},
   "outputs": [],
   "source": []
  }
 ],
 "metadata": {
  "kernelspec": {
   "display_name": ".venv",
   "language": "python",
   "name": "python3"
  },
  "language_info": {
   "codemirror_mode": {
    "name": "ipython",
    "version": 3
   },
   "file_extension": ".py",
   "mimetype": "text/x-python",
   "name": "python",
   "nbconvert_exporter": "python",
   "pygments_lexer": "ipython3",
   "version": "3.10.12"
  }
 },
 "nbformat": 4,
 "nbformat_minor": 2
}
