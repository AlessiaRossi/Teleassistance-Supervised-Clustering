{
 "cells": [
  {
   "cell_type": "code",
   "execution_count": 1,
   "metadata": {},
   "outputs": [],
   "source": [
    "import pandas as pd\n"
   ]
  },
  {
   "cell_type": "code",
   "execution_count": 2,
   "metadata": {},
   "outputs": [],
   "source": [
    "df = pd.read_parquet('../../data/processed/challenge_campus_biomedico_2024_cleaned.parquet')"
   ]
  },
  {
   "cell_type": "code",
   "execution_count": null,
   "metadata": {},
   "outputs": [],
   "source": []
  },
  {
   "cell_type": "code",
   "execution_count": 3,
   "metadata": {},
   "outputs": [],
   "source": [
    "# List of tuples containing the code-description column pairs to be compared.\n",
    "columns_pairs = [\n",
    "    ('codice_provincia_residenza', 'provincia_residenza'),\n",
    "    ('codice_provincia_erogazione', 'provincia_erogazione'),\n",
    "    ('codice_regione_residenza', 'regione_residenza'),\n",
    "    ('codice_asl_residenza', 'asl_residenza'),\n",
    "    ('codice_comune_residenza', 'comune_residenza'),\n",
    "    ('codice_descrizione_attivita', 'descrizione_attivita'),\n",
    "    ('codice_regione_erogazione', 'regione_erogazione'),\n",
    "    ('codice_asl_erogazione', 'asl_erogazione'),\n",
    "    ('codice_struttura_erogazione', 'struttura_erogazione'),\n",
    "    ('codice_tipologia_struttura_erogazione', 'tipologia_struttura_erogazione'),\n",
    "    ('codice_tipologia_professionista_sanitario', 'tipologia_professionista_sanitario')\n",
    "]"
   ]
  },
  {
   "cell_type": "code",
   "execution_count": 4,
   "metadata": {},
   "outputs": [],
   "source": [
    "def print_details_corrections (df, code, description, code_groups, description_groups):\n",
    "    \n",
    "    not_unique = False\n",
    "\n",
    "    for cod, desc_count in code_groups.items():\n",
    "        if desc_count > 1:\n",
    "            associated_descriptions = df[df[code] == cod][description].unique()\n",
    "            print(f\"The {cod} code is associated with {desc_count} descriptions: {associated_descriptions}\")\n",
    "            not_unique = True\n",
    "            \n",
    "        \n",
    "    for desc, code_count in description_groups.items():\n",
    "        if code_count > 1:\n",
    "            associated_codes =df[df[description] == desc][code].unique()\n",
    "            print(f\"The {desc} description is associated with {code_count} codes: {associated_codes}\")\n",
    "            not_unique = True\n",
    "\n",
    "    if not_unique:\n",
    "        print(f\"--> NOT unique correlation between {code} and {description}\\n\")\n",
    "\n"
   ]
  },
  {
   "cell_type": "code",
   "execution_count": 5,
   "metadata": {},
   "outputs": [],
   "source": [
    "def remove_columns_with_unique_correlation(df, columns_pairs) -> pd.DataFrame:\n",
    "    pairs_removed = []\n",
    "\n",
    "    for code, description in columns_pairs:\n",
    "        if code in df.columns and description in df.columns:\n",
    "            code_groups = df.groupby(code)[description].nunique()\n",
    "            description_groups = df.groupby(description)[code].nunique()\n",
    "\n",
    "            print_details_corrections(df, code, description, code_groups, description_groups)\n",
    "\n",
    "            unique_correlation_code_description = all(code_groups <= 1)\n",
    "            unique_correlation_description_code = all(description_groups <= 1)\n",
    "\n",
    "            if unique_correlation_code_description and unique_correlation_description_code:\n",
    "                df.drop(columns=[code], inplace=True)\n",
    "                print(f'Unique correlation between {code} and {description}. Column {code} removed.')\n",
    "                pairs_removed.append((code, description))\n",
    "        else:\n",
    "            print(f'Columns {code} or {description} not found in the dataframe.')\n",
    "            pairs_removed.append((code, description))\n",
    "\n",
    "    # Update the list of columns pairs removing the ones that have been removed\n",
    "    columns_pairs_updated = [pair for pair in columns_pairs if pair not in pairs_removed]\n",
    "    return columns_pairs_updated\n",
    "\n",
    "            "
   ]
  },
  {
   "cell_type": "code",
   "execution_count": 6,
   "metadata": {},
   "outputs": [
    {
     "name": "stdout",
     "output_type": "stream",
     "text": [
      "------------ check unique correlation between codes and descriptions: ------------\n",
      "\n",
      "Unique correlation between codice_provincia_residenza and provincia_residenza. Column codice_provincia_residenza removed.\n",
      "Unique correlation between codice_provincia_erogazione and provincia_erogazione. Column codice_provincia_erogazione removed.\n",
      "Unique correlation between codice_regione_residenza and regione_residenza. Column codice_regione_residenza removed.\n",
      "Unique correlation between codice_asl_residenza and asl_residenza. Column codice_asl_residenza removed.\n",
      "Unique correlation between codice_comune_residenza and comune_residenza. Column codice_comune_residenza removed.\n",
      "Unique correlation between codice_descrizione_attivita and descrizione_attivita. Column codice_descrizione_attivita removed.\n",
      "Unique correlation between codice_regione_erogazione and regione_erogazione. Column codice_regione_erogazione removed.\n",
      "Unique correlation between codice_asl_erogazione and asl_erogazione. Column codice_asl_erogazione removed.\n",
      "The A.O.OO.RR.S.GIOVANNI DI DIO E RUGGI D`AR description is associated with 4 codes: [150904.01 150904.02 150904.03 150904.04]\n",
      "The A.O.R Villa Sofia Cervello description is associated with 3 codes: [190926.03 190926.01 190926.02]\n",
      "The A.O.R.N. SANTOBONO-PAUSILIPON description is associated with 3 codes: [150902.01 150902.03 150902.02]\n",
      "The A.O.U. POLICLINICO - VITTORIO EMANUELE description is associated with 2 codes: [190923.04 190923.01]\n",
      "The AO UNIV. 'OO RR FOGGIA' description is associated with 2 codes: [160910.01 160910.02]\n",
      "The AO UNIV. CONS. POLICLINICO BARI description is associated with 2 codes: [160907.01 160907.02]\n",
      "The AOU CITTA' DELLA SALUTE E DELLA SCIENZA description is associated with 4 codes: [10909.01 10909.07 10909.04 10909.06]\n",
      "The ARNAS GARIBALDI description is associated with 2 codes: [190922.04 190922.01]\n",
      "The AZ. SS.ANTONIO E BIAGIO E C.ARRIGO description is associated with 2 codes: [10907.01 10907.02]\n",
      "The AZ.OSP.UNIVERSITARIA INTEGRATA VERONA description is associated with 2 codes: [50912.01 50912.02]\n",
      "The AZIENDA OSP. UNIVERSITARIA DELLE MARCHE description is associated with 2 codes: [110905.01 110905.03]\n",
      "The AZIENDA OSPED. NOVARA E GALLIATE description is associated with 2 codes: [10905.01 10905.02]\n",
      "The AZIENDA OSPEDALE `AO SAN PIO description is associated with 2 codes: [150906.01 150906.02]\n",
      "The AZIENDA OSPEDALIERA DI COSENZA description is associated with 2 codes: [180912.01 180912.02]\n",
      "The AZIENDA OSPEDALIERA REGIONALE 'S. CARLO' description is associated with 5 codes: [170901.01 170901.05 170901.04 170901.03 170901.02]\n",
      "The AZIENDA OSPEDALIERO UNIVERSITARIA SS description is associated with 2 codes: [200905.01 200905.02]\n",
      "The AZIENDA OSPEDALIERO-UNIVERSITARIA DI MOD description is associated with 2 codes: [80904.01 80904.02]\n",
      "The Azienda Osped. Bianchi Melacrino Morelli description is associated with 2 codes: [180915.01 180915.02]\n",
      "The Azienda Ospedaliera 'Civico-Di Cristina- description is associated with 2 codes: [190927.01 190927.02]\n",
      "The Azienda Ospedaliera Pugliese - Ciaccio description is associated with 2 codes: [180913.01 180913.02]\n",
      "The Azienda Ospedaliera dei Colli description is associated with 3 codes: [150903.01 150903.03 150903.02]\n",
      "The DEA UMBERTO I NOCERA INFERIORE description is associated with 3 codes: [150154.01 150154.02 150154.03]\n",
      "The FONDAZIONE CNR-RT G. MONASTERIO description is associated with 2 codes: [90907.01 90907.02]\n",
      "The INRCA MARCHE description is associated with 2 codes: [110921.01 110921.03]\n",
      "The IST.AUXOLOGICO ITALIANO - MILANO description is associated with 2 codes: [30936.01 30936.03]\n",
      "The OSPEDALE AZIENDA U.L.S.S. N.4 description is associated with 3 codes: [50504.01 50504.02 50504.03]\n",
      "The OSPEDALE BARI 'SAN PAOLO' description is associated with 4 codes: [160158.01 160158.03 160158.04 160158.05]\n",
      "The OSPEDALE DI LEGNANO E CUGGIONO-LEGNANO description is associated with 2 codes: [30281.01 30281.02]\n",
      "The OSPEDALE DI MAGENTA - ABBIATEGRASSO description is associated with 2 codes: [30074.01 30074.02]\n",
      "The OSPEDALE DI TRENTO description is associated with 2 codes: [42001.01 42001.03]\n",
      "The OSPEDALE FIORENTINO description is associated with 3 codes: [90632.03 90632.01 90632.02]\n",
      "The OSPEDALE FIORENTINO SUD-EST description is associated with 2 codes: [90629.01 90629.02]\n",
      "The OSPEDALE GALEAZZI SPA description is associated with 2 codes: [30946.01 30946.02]\n",
      "The OSPEDALE LECCE - 'V FAZZI' (SAN CESARIO) description is associated with 2 codes: [160171.01 160171.02]\n",
      "The OSPEDALE PEDIATRICO BAMBINO GESU` description is associated with 2 codes: [120904.01 120904.02]\n",
      "The OSPEDALE S. EUGENIO description is associated with 2 codes: [120066.02 120066.01]\n",
      "The OSPEDALE SPOKE ROSSANO-CORIGLIANO description is associated with 2 codes: [180010.01 180010.02]\n",
      "The OSPEDALE UNICO DEL VERCELLESE description is associated with 2 codes: [10009.01 10009.02]\n",
      "The OSPEDALE UNICO PLURISEDE description is associated with 3 codes: [10005.01 10005.03 10005.02]\n",
      "The OSPEDALI  RIUNITI AREA STABIESE description is associated with 2 codes: [150416.01 150416.02]\n",
      "The OSPEDALI AZIENDA ULSS N. 3 SERENISSIMA description is associated with 5 codes: [50503.02 50503.04 50503.01 50503.06 50503.03]\n",
      "The OSPEDALI DI BASSANO description is associated with 3 codes: [50507.03 50507.01 50507.02]\n",
      "The OSPEDALI DI LEGNAGO description is associated with 6 codes: [50509.01 50509.03 50509.05 50509.07 50509.06 50509.04]\n",
      "The OSPEDALI DI ROVIGO description is associated with 3 codes: [50505.03 50505.01 50505.02]\n",
      "The OSPEDALI DI TREVISO description is associated with 6 codes: [50502.05 50502.02 50502.07 50502.01 50502.04 50502.06]\n",
      "The OSPEDALI DI VICENZA description is associated with 5 codes: [50508.01 50508.06 50508.03 50508.05 50508.04]\n",
      "The OSPEDALI EUGANEA description is associated with 4 codes: [50506.04 50506.01 50506.05 50506.02]\n",
      "The OSPEDALI RIUNITI A.S.L. TO 5 description is associated with 3 codes: [10004.02 10004.01 10004.03]\n",
      "The OSPEDALI RIUNITI AREA NOLANA description is associated with 2 codes: [150436.01 150436.02]\n",
      "The OSPEDALI RIUNITI ASL AL description is associated with 4 codes: [10026.01 10026.05 10026.03 10026.04]\n",
      "The OSPEDALI RIUNITI DEL CANAVESE description is associated with 2 codes: [10023.01 10023.02]\n",
      "The OSPEDALI RIUNITI PENISOLA SORRENTINA description is associated with 2 codes: [150417.01 150417.02]\n",
      "The OSPEDALI RIUNITI RIVOLI description is associated with 2 codes: [10079.01 10079.04]\n",
      "The OSPEDALI ULSS 1 DOLOMITI description is associated with 3 codes: [50501.04 50501.01 50501.02]\n",
      "The Ospedale Spoke Cetraro-Paola description is associated with 2 codes: [180012.02 180012.01]\n",
      "The P.O. 'San Daniele del Friuli e Tolmezzo' description is associated with 2 codes: [60045.02 60045.01]\n",
      "The PO 'Latisana e Palmanova' description is associated with 2 codes: [60044.01 60044.02]\n",
      "The PO UNIFICATO :: FROSINONE - ALATRI description is associated with 2 codes: [120216.01 120216.02]\n",
      "The POLICLINICO A. GEMELLI E C.I.C. description is associated with 2 codes: [120905.01 120905.02]\n",
      "The PRESIDIO LEVANTE description is associated with 2 codes: [70212.04 70212.03]\n",
      "The PRESIDIO OSPEDALERO CENTRALE TARANTO description is associated with 3 codes: [160172.03 160172.01 160172.04]\n",
      "The PRESIDIO OSPEDALIERO -  MATERA description is associated with 2 codes: [170011.01 170011.02]\n",
      "The PRESIDIO OSPEDALIERO ALTO TEVERE description is associated with 2 codes: [100801.01 100801.02]\n",
      "The PRESIDIO OSPEDALIERO AREA NORD - CN1 description is associated with 2 codes: [10126.01 10126.02]\n",
      "The PRESIDIO OSPEDALIERO AREA SUD - CN1 description is associated with 2 codes: [10124.01 10124.02]\n",
      "The PRESIDIO OSPEDALIERO ASL 11 EMPOLI description is associated with 2 codes: [90642.02 90642.03]\n",
      "The PRESIDIO OSPEDALIERO ASL4 CHIAVARESE description is associated with 3 codes: [70039.01 70039.02 70039.05]\n",
      "The PRESIDIO OSPEDALIERO AST2 description is associated with 3 codes: [110002.01 110002.02 110002.04]\n",
      "The PRESIDIO OSPEDALIERO AZIENDALE (AUSL PAR description is associated with 2 codes: [80013.01 80013.03]\n",
      "The PRESIDIO OSPEDALIERO DEL LEVANTE LIGURE description is associated with 2 codes: [70058.01 70058.04]\n",
      "The PRESIDIO OSPEDALIERO DEL VERBANO description is associated with 2 codes: [30282.01 30282.02]\n",
      "The PRESIDIO OSPEDALIERO DI VARESE description is associated with 2 codes: [30901.01 30901.02]\n",
      "The PRESIDIO OSPEDALIERO IMOLA - CASTEL S. P description is associated with 2 codes: [80044.02 80044.01]\n",
      "The PRESIDIO OSPEDALIERO METROPOLITANO description is associated with 2 codes: [70301.04 70301.03]\n",
      "The PRESIDIO OSPEDALIERO NARNI AMELIA description is associated with 2 codes: [100807.01 100807.02]\n",
      "The PRESIDIO OSPEDALIERO PROVINCIALE description is associated with 4 codes: [80031.04 80031.08 80031.05 80031.09]\n",
      "The PRESIDIO OSPEDALIERO PROVINCIALE DI REGG description is associated with 7 codes: [80021.01 80021.03 80021.05 80021.06 80021.07 80021.02 80021.04]\n",
      "The PRESIDIO OSPEDALIERO SAN FILIPPO NERI description is associated with 2 codes: [120285.01 120285.03]\n",
      "The PRESIDIO OSPEDALIERO UNICO description is associated with 3 codes: [80068.06 80068.03 80068.04]\n",
      "The PRESIDIO OSPEDALIERO UNICO - AZIENDA DI description is associated with 5 codes: [80053.01 80053.02 80053.07 80053.09 80053.04]\n",
      "The PRESIDIO OSPEDALIERO UNIFICATO description is associated with 5 codes: [ 70001.02  70001.01 100803.01  70001.03 100803.07]\n",
      "The PRESIDIO PONENTE description is associated with 2 codes: [70211.01 70211.02]\n",
      "The PRESIDIO UNICO PIACENZA description is associated with 3 codes: [80004.03 80004.01 80004.06]\n",
      "The Presidio ospedaliero San Vito al Tagliam description is associated with 2 codes: [60042.01 60042.02]\n",
      "--> NOT unique correlation between codice_struttura_erogazione and struttura_erogazione\n",
      "\n",
      "Unique correlation between codice_tipologia_struttura_erogazione and tipologia_struttura_erogazione. Column codice_tipologia_struttura_erogazione removed.\n",
      "Unique correlation between codice_tipologia_professionista_sanitario and tipologia_professionista_sanitario. Column codice_tipologia_professionista_sanitario removed.\n"
     ]
    }
   ],
   "source": [
    "print(\"------------ check unique correlation between codes and descriptions: ------------\\n\")\n",
    "columns_pairs_updated = remove_columns_with_unique_correlation(df, columns_pairs)"
   ]
  },
  {
   "cell_type": "code",
   "execution_count": 7,
   "metadata": {},
   "outputs": [],
   "source": [
    "def clean_codice_struttura_erogazione(df, column = 'codice_struttura_erogazione'):\n",
    "    df[column] = df[column].astype(int)\n",
    "    return df"
   ]
  },
  {
   "cell_type": "code",
   "execution_count": 8,
   "metadata": {},
   "outputs": [
    {
     "name": "stdout",
     "output_type": "stream",
     "text": [
      "[160172.01 160172.03 160172.04]\n",
      "after\n",
      "[160172]\n"
     ]
    }
   ],
   "source": [
    "print(df[df['struttura_erogazione'] == 'PRESIDIO OSPEDALERO CENTRALE TARANTO'].codice_struttura_erogazione.sort_values(ascending=True).unique())\n",
    "\n",
    "\n",
    "df = clean_codice_struttura_erogazione(df)\n",
    "\n",
    "print('after')\n",
    "print(df[df['struttura_erogazione'] == 'PRESIDIO OSPEDALERO CENTRALE TARANTO'].codice_struttura_erogazione.sort_values(ascending=True).unique())"
   ]
  },
  {
   "cell_type": "code",
   "execution_count": 10,
   "metadata": {},
   "outputs": [
    {
     "name": "stdout",
     "output_type": "stream",
     "text": [
      "------------ check unique correlation between codes and descriptions with cleared codice_struttura: ------------\n",
      "\n",
      "The PRESIDIO OSPEDALIERO UNIFICATO description is associated with 2 codes: [ 70001 100803]\n",
      "--> NOT unique correlation between codice_struttura_erogazione and struttura_erogazione\n",
      "\n"
     ]
    }
   ],
   "source": [
    "print(\"------------ check unique correlation between codes and descriptions with cleared codice_struttura: ------------\\n\")\n",
    "columns_pairs_updated = remove_columns_with_unique_correlation(df, columns_pairs_updated)"
   ]
  },
  {
   "cell_type": "code",
   "execution_count": 18,
   "metadata": {},
   "outputs": [
    {
     "data": {
      "text/plain": [
       "[('codice_struttura_erogazione', 'struttura_erogazione')]"
      ]
     },
     "execution_count": 18,
     "metadata": {},
     "output_type": "execute_result"
    }
   ],
   "source": [
    "columns_pairs_updated"
   ]
  },
  {
   "cell_type": "code",
   "execution_count": 14,
   "metadata": {},
   "outputs": [
    {
     "data": {
      "text/plain": [
       "codice_struttura_erogazione\n",
       "70001     1665\n",
       "100803      60\n",
       "Name: count, dtype: int64"
      ]
     },
     "execution_count": 14,
     "metadata": {},
     "output_type": "execute_result"
    }
   ],
   "source": [
    "df[df['struttura_erogazione'] == 'PRESIDIO OSPEDALIERO UNIFICATO']['codice_struttura_erogazione'].value_counts()"
   ]
  },
  {
   "cell_type": "code",
   "execution_count": 15,
   "metadata": {},
   "outputs": [],
   "source": [
    "def remove_data_disdetta(df) -> pd.DataFrame:\n",
    "    df.drop(columns=['data_disdetta'], inplace=True)\n",
    "    return df"
   ]
  },
  {
   "cell_type": "code",
   "execution_count": 16,
   "metadata": {},
   "outputs": [
    {
     "data": {
      "text/plain": [
       "Index(['id_prenotazione', 'id_paziente', 'data_nascita', 'sesso',\n",
       "       'regione_residenza', 'asl_residenza', 'provincia_residenza',\n",
       "       'comune_residenza', 'tipologia_servizio', 'descrizione_attivita',\n",
       "       'data_contatto', 'regione_erogazione', 'asl_erogazione',\n",
       "       'provincia_erogazione', 'struttura_erogazione',\n",
       "       'codice_struttura_erogazione', 'tipologia_struttura_erogazione',\n",
       "       'id_professionista_sanitario', 'tipologia_professionista_sanitario',\n",
       "       'data_erogazione', 'ora_inizio_erogazione', 'ora_fine_erogazione',\n",
       "       'data_disdetta'],\n",
       "      dtype='object')"
      ]
     },
     "execution_count": 16,
     "metadata": {},
     "output_type": "execute_result"
    }
   ],
   "source": [
    "df.columns"
   ]
  },
  {
   "cell_type": "code",
   "execution_count": 17,
   "metadata": {},
   "outputs": [
    {
     "data": {
      "text/plain": [
       "Index(['id_prenotazione', 'id_paziente', 'data_nascita', 'sesso',\n",
       "       'regione_residenza', 'asl_residenza', 'provincia_residenza',\n",
       "       'comune_residenza', 'tipologia_servizio', 'descrizione_attivita',\n",
       "       'data_contatto', 'regione_erogazione', 'asl_erogazione',\n",
       "       'provincia_erogazione', 'struttura_erogazione',\n",
       "       'codice_struttura_erogazione', 'tipologia_struttura_erogazione',\n",
       "       'id_professionista_sanitario', 'tipologia_professionista_sanitario',\n",
       "       'data_erogazione', 'ora_inizio_erogazione', 'ora_fine_erogazione'],\n",
       "      dtype='object')"
      ]
     },
     "execution_count": 17,
     "metadata": {},
     "output_type": "execute_result"
    }
   ],
   "source": [
    "remove_data_disdetta(df)\n",
    "df.columns"
   ]
  },
  {
   "cell_type": "code",
   "execution_count": null,
   "metadata": {},
   "outputs": [],
   "source": []
  }
 ],
 "metadata": {
  "kernelspec": {
   "display_name": ".venv",
   "language": "python",
   "name": "python3"
  },
  "language_info": {
   "codemirror_mode": {
    "name": "ipython",
    "version": 3
   },
   "file_extension": ".py",
   "mimetype": "text/x-python",
   "name": "python",
   "nbconvert_exporter": "python",
   "pygments_lexer": "ipython3",
   "version": "3.10.12"
  }
 },
 "nbformat": 4,
 "nbformat_minor": 2
}
