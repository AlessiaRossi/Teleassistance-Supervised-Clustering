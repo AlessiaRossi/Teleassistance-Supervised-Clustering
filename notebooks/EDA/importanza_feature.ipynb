{
 "cells": [
  {
   "cell_type": "code",
   "execution_count": 1,
   "metadata": {},
   "outputs": [],
   "source": [
    "import pandas as pd\n",
    "import numpy as np\n",
    "from sklearn.model_selection import train_test_split\n",
    "from sklearn.ensemble import RandomForestRegressor\n",
    "import matplotlib.pyplot as plt\n",
    "\n"
   ]
  },
  {
   "cell_type": "code",
   "execution_count": 2,
   "metadata": {},
   "outputs": [
    {
     "data": {
      "text/html": [
       "<div>\n",
       "<style scoped>\n",
       "    .dataframe tbody tr th:only-of-type {\n",
       "        vertical-align: middle;\n",
       "    }\n",
       "\n",
       "    .dataframe tbody tr th {\n",
       "        vertical-align: top;\n",
       "    }\n",
       "\n",
       "    .dataframe thead th {\n",
       "        text-align: right;\n",
       "    }\n",
       "</style>\n",
       "<table border=\"1\" class=\"dataframe\">\n",
       "  <thead>\n",
       "    <tr style=\"text-align: right;\">\n",
       "      <th></th>\n",
       "      <th>sesso</th>\n",
       "      <th>regione_residenza</th>\n",
       "      <th>tipologia_professionista_sanitario</th>\n",
       "      <th>eta</th>\n",
       "      <th>num_servizi</th>\n",
       "      <th>incremento</th>\n",
       "    </tr>\n",
       "  </thead>\n",
       "  <tbody>\n",
       "    <tr>\n",
       "      <th>0</th>\n",
       "      <td>M</td>\n",
       "      <td>Sud</td>\n",
       "      <td>Infermiere</td>\n",
       "      <td>38</td>\n",
       "      <td>3</td>\n",
       "      <td>9.858197</td>\n",
       "    </tr>\n",
       "    <tr>\n",
       "      <th>1</th>\n",
       "      <td>F</td>\n",
       "      <td>Nord</td>\n",
       "      <td>Medico</td>\n",
       "      <td>55</td>\n",
       "      <td>2</td>\n",
       "      <td>13.444343</td>\n",
       "    </tr>\n",
       "    <tr>\n",
       "      <th>2</th>\n",
       "      <td>M</td>\n",
       "      <td>Nord</td>\n",
       "      <td>Medico</td>\n",
       "      <td>48</td>\n",
       "      <td>5</td>\n",
       "      <td>27.261960</td>\n",
       "    </tr>\n",
       "    <tr>\n",
       "      <th>3</th>\n",
       "      <td>M</td>\n",
       "      <td>Sud</td>\n",
       "      <td>Infermiere</td>\n",
       "      <td>37</td>\n",
       "      <td>4</td>\n",
       "      <td>25.504138</td>\n",
       "    </tr>\n",
       "    <tr>\n",
       "      <th>4</th>\n",
       "      <td>M</td>\n",
       "      <td>Nord</td>\n",
       "      <td>Infermiere</td>\n",
       "      <td>21</td>\n",
       "      <td>5</td>\n",
       "      <td>26.437103</td>\n",
       "    </tr>\n",
       "  </tbody>\n",
       "</table>\n",
       "</div>"
      ],
      "text/plain": [
       "  sesso regione_residenza tipologia_professionista_sanitario  eta  \\\n",
       "0     M               Sud                         Infermiere   38   \n",
       "1     F              Nord                             Medico   55   \n",
       "2     M              Nord                             Medico   48   \n",
       "3     M               Sud                         Infermiere   37   \n",
       "4     M              Nord                         Infermiere   21   \n",
       "\n",
       "   num_servizi  incremento  \n",
       "0            3    9.858197  \n",
       "1            2   13.444343  \n",
       "2            5   27.261960  \n",
       "3            4   25.504138  \n",
       "4            5   26.437103  "
      ]
     },
     "execution_count": 2,
     "metadata": {},
     "output_type": "execute_result"
    }
   ],
   "source": [
    "# Imposta un seed per la riproducibilità\n",
    "np.random.seed(42)\n",
    "\n",
    "# Genera dati sintetici\n",
    "n_samples = 500\n",
    "\n",
    "# Variabili categoriche\n",
    "sesso = np.random.choice(['M', 'F'], size=n_samples)\n",
    "regione_residenza = np.random.choice(['Nord', 'Centro', 'Sud'], size=n_samples)\n",
    "tipologia_professionista_sanitario = np.random.choice(['Medico', 'Infermiere', 'Tecnico'], size=n_samples)\n",
    "\n",
    "# Variabili numeriche\n",
    "eta = np.random.randint(20, 65, size=n_samples)\n",
    "num_servizi = np.random.poisson(lam=5, size=n_samples)\n",
    "\n",
    "# Variabile target (incremento)\n",
    "incremento = (eta * 0.2) + (num_servizi * 2) + np.random.normal(0, 10, size=n_samples)\n",
    "\n",
    "# Creazione del DataFrame\n",
    "df = pd.DataFrame({\n",
    "    'sesso': sesso,\n",
    "    'regione_residenza': regione_residenza,\n",
    "    'tipologia_professionista_sanitario': tipologia_professionista_sanitario,\n",
    "    'eta': eta,\n",
    "    'num_servizi': num_servizi,\n",
    "    'incremento': incremento\n",
    "})\n",
    "\n",
    "df.head()\n"
   ]
  },
  {
   "cell_type": "code",
   "execution_count": 6,
   "metadata": {},
   "outputs": [
    {
     "name": "stdout",
     "output_type": "stream",
     "text": [
      "Requirement already satisfied: scikit-learn in /home/ignazio/ucbm/fia/Teleassistance-Supervised-Clustering/.venv/lib/python3.10/site-packages (1.5.1)\n",
      "Requirement already satisfied: threadpoolctl>=3.1.0 in /home/ignazio/ucbm/fia/Teleassistance-Supervised-Clustering/.venv/lib/python3.10/site-packages (from scikit-learn) (3.5.0)\n",
      "Requirement already satisfied: scipy>=1.6.0 in /home/ignazio/ucbm/fia/Teleassistance-Supervised-Clustering/.venv/lib/python3.10/site-packages (from scikit-learn) (1.14.0)\n",
      "Requirement already satisfied: numpy>=1.19.5 in /home/ignazio/ucbm/fia/Teleassistance-Supervised-Clustering/.venv/lib/python3.10/site-packages (from scikit-learn) (2.0.1)\n",
      "Requirement already satisfied: joblib>=1.2.0 in /home/ignazio/ucbm/fia/Teleassistance-Supervised-Clustering/.venv/lib/python3.10/site-packages (from scikit-learn) (1.4.2)\n",
      "Note: you may need to restart the kernel to use updated packages.\n"
     ]
    }
   ],
   "source": [
    "from sklearn.preprocessing import OneHotEncoder\n",
    "%pip install -U scikit-learn"
   ]
  },
  {
   "cell_type": "code",
   "execution_count": 10,
   "metadata": {},
   "outputs": [],
   "source": [
    "# Seleziona le colonne categoriche\n",
    "categorical_cols = ['sesso', 'regione_residenza', 'tipologia_professionista_sanitario']\n",
    "\n",
    "# One-Hot Encoding\n",
    "encoder = OneHotEncoder(drop='first')\n",
    "encoded_categorical_cols = encoder.fit_transform(df[categorical_cols])\n",
    "\n",
    "# Converti in DataFrame\n",
    "encoded_df = pd.DataFrame(encoded_categorical_cols.toarray(), columns=encoder.get_feature_names_out(categorical_cols))\n",
    "\n",
    "# Unisci con le colonne numeriche\n",
    "X = pd.concat([encoded_df, df[['eta', 'num_servizi']]], axis=1)\n",
    "y = df['incremento']\n"
   ]
  },
  {
   "cell_type": "code",
   "execution_count": 11,
   "metadata": {},
   "outputs": [
    {
     "data": {
      "text/html": [
       "<div>\n",
       "<style scoped>\n",
       "    .dataframe tbody tr th:only-of-type {\n",
       "        vertical-align: middle;\n",
       "    }\n",
       "\n",
       "    .dataframe tbody tr th {\n",
       "        vertical-align: top;\n",
       "    }\n",
       "\n",
       "    .dataframe thead th {\n",
       "        text-align: right;\n",
       "    }\n",
       "</style>\n",
       "<table border=\"1\" class=\"dataframe\">\n",
       "  <thead>\n",
       "    <tr style=\"text-align: right;\">\n",
       "      <th></th>\n",
       "      <th>Feature</th>\n",
       "      <th>Importance</th>\n",
       "    </tr>\n",
       "  </thead>\n",
       "  <tbody>\n",
       "    <tr>\n",
       "      <th>5</th>\n",
       "      <td>eta</td>\n",
       "      <td>0.428487</td>\n",
       "    </tr>\n",
       "    <tr>\n",
       "      <th>6</th>\n",
       "      <td>num_servizi</td>\n",
       "      <td>0.293598</td>\n",
       "    </tr>\n",
       "    <tr>\n",
       "      <th>0</th>\n",
       "      <td>sesso_M</td>\n",
       "      <td>0.067558</td>\n",
       "    </tr>\n",
       "    <tr>\n",
       "      <th>1</th>\n",
       "      <td>regione_residenza_Nord</td>\n",
       "      <td>0.057510</td>\n",
       "    </tr>\n",
       "    <tr>\n",
       "      <th>4</th>\n",
       "      <td>tipologia_professionista_sanitario_Tecnico</td>\n",
       "      <td>0.052137</td>\n",
       "    </tr>\n",
       "    <tr>\n",
       "      <th>2</th>\n",
       "      <td>regione_residenza_Sud</td>\n",
       "      <td>0.051796</td>\n",
       "    </tr>\n",
       "    <tr>\n",
       "      <th>3</th>\n",
       "      <td>tipologia_professionista_sanitario_Medico</td>\n",
       "      <td>0.048913</td>\n",
       "    </tr>\n",
       "  </tbody>\n",
       "</table>\n",
       "</div>"
      ],
      "text/plain": [
       "                                      Feature  Importance\n",
       "5                                         eta    0.428487\n",
       "6                                 num_servizi    0.293598\n",
       "0                                     sesso_M    0.067558\n",
       "1                      regione_residenza_Nord    0.057510\n",
       "4  tipologia_professionista_sanitario_Tecnico    0.052137\n",
       "2                       regione_residenza_Sud    0.051796\n",
       "3   tipologia_professionista_sanitario_Medico    0.048913"
      ]
     },
     "execution_count": 11,
     "metadata": {},
     "output_type": "execute_result"
    }
   ],
   "source": [
    "# Inizializza e addestra il modello\n",
    "model = RandomForestRegressor(random_state=42)\n",
    "model.fit(X, y)\n",
    "\n",
    "# Ottieni l'importanza delle feature\n",
    "feature_importance = model.feature_importances_\n",
    "\n",
    "# Creazione di un DataFrame per visualizzare i risultati\n",
    "importance_df = pd.DataFrame({\n",
    "    'Feature': X.columns,\n",
    "    'Importance': feature_importance\n",
    "}).sort_values(by='Importance', ascending=False)\n",
    "\n",
    "importance_df\n"
   ]
  },
  {
   "cell_type": "code",
   "execution_count": 12,
   "metadata": {},
   "outputs": [
    {
     "data": {
      "image/png": "[encoded data removed]",
      "text/plain": [
       "<Figure size 1000x600 with 1 Axes>"
      ]
     },
     "metadata": {},
     "output_type": "display_data"
    }
   ],
   "source": [
    "# Visualizzazione con un grafico a barre\n",
    "plt.figure(figsize=(10, 6))\n",
    "plt.barh(importance_df['Feature'], importance_df['Importance'])\n",
    "plt.xlabel('Importance')\n",
    "plt.title('Feature Importance')\n",
    "plt.gca().invert_yaxis()\n",
    "plt.show()\n"
   ]
  },
  {
   "cell_type": "code",
   "execution_count": null,
   "metadata": {},
   "outputs": [],
   "source": []
  }
 ],
 "metadata": {
  "kernelspec": {
   "display_name": ".venv",
   "language": "python",
   "name": "python3"
  },
  "language_info": {
   "codemirror_mode": {
    "name": "ipython",
    "version": 3
   },
   "file_extension": ".py",
   "mimetype": "text/x-python",
   "name": "python",
   "nbconvert_exporter": "python",
   "pygments_lexer": "ipython3",
   "version": "3.10.12"
  }
 },
 "nbformat": 4,
 "nbformat_minor": 2
}
