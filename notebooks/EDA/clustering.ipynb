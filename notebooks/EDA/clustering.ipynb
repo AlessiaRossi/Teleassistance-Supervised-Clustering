{
 "cells": [
  {
   "cell_type": "code",
   "execution_count": 18,
   "metadata": {},
   "outputs": [],
   "source": [
    "import pandas as pd\n",
    "import numpy as np\n",
    "from kmodes.kprototypes import KPrototypes\n",
    "import matplotlib.pyplot as plt\n",
    "from sklearn.decomposition import PCA\n",
    "\n",
    "df = pd.read_parquet('../../data/processed/ds_labeled.parquet')"
   ]
  },
  {
   "cell_type": "code",
   "execution_count": 19,
   "metadata": {},
   "outputs": [
    {
     "name": "stdout",
     "output_type": "stream",
     "text": [
      "<class 'pandas.core.frame.DataFrame'>\n",
      "RangeIndex: 460509 entries, 0 to 460508\n",
      "Data columns (total 17 columns):\n",
      " #   Column                              Non-Null Count   Dtype              \n",
      "---  ------                              --------------   -----              \n",
      " 0   id_prenotazione                     460509 non-null  object             \n",
      " 1   id_paziente                         460509 non-null  object             \n",
      " 2   data_nascita                        460509 non-null  datetime64[ns, UTC]\n",
      " 3   sesso                               460509 non-null  object             \n",
      " 4   regione_residenza                   460509 non-null  object             \n",
      " 5   tipologia_servizio                  460509 non-null  object             \n",
      " 6   descrizione_attivita                460509 non-null  object             \n",
      " 7   data_contatto                       460509 non-null  object             \n",
      " 8   tipologia_struttura_erogazione      460509 non-null  object             \n",
      " 9   id_professionista_sanitario         460509 non-null  object             \n",
      " 10  tipologia_professionista_sanitario  460509 non-null  object             \n",
      " 11  data_erogazione                     460509 non-null  datetime64[ns, UTC]\n",
      " 12  durata_erogazione_sec               460509 non-null  int64              \n",
      " 13  eta                                 460509 non-null  int64              \n",
      " 14  anno                                460509 non-null  int32              \n",
      " 15  quadrimestre                        460509 non-null  int32              \n",
      " 16  incremento_teleassistenze           460509 non-null  object             \n",
      "dtypes: datetime64[ns, UTC](2), int32(2), int64(2), object(11)\n",
      "memory usage: 56.2+ MB\n"
     ]
    }
   ],
   "source": [
    "df.info()"
   ]
  },
  {
   "cell_type": "code",
   "execution_count": 20,
   "metadata": {},
   "outputs": [],
   "source": [
    "cols_to_drop = df.columns[[0,1,2,5,6,7,9,10,11,16]]\n",
    "df = df.drop(columns=cols_to_drop)"
   ]
  },
  {
   "cell_type": "markdown",
   "metadata": {},
   "source": [
    "- n_clusters=3`: Questo è il numero di cluster che l'algoritmo cercherà di identificare nei tuoi dati. In questo caso, stai chiedendo all'algoritmo di trovare 3 cluster.\n",
    "- init='Huang'`: Questo è il metodo di inizializzazione che l'algoritmo utilizzerà per inizializzare i centroidi. In questo caso, stai utilizzando il metodo di inizializzazione di Huang.\n",
    "- n_init=5`: Questo è il numero di volte che l'algoritmo verrà eseguito con diverse inizializzazioni dei centroidi. L'algoritmo restituirà il modello con la migliore inizializzazione.\n",
    "- verbose=1`: Questo è il livello di verbosità dell'algoritmo. Più alto è il valore, più informazioni verranno stampate a schermo durante l'esecuzione dell'algoritmo."
   ]
  },
  {
   "cell_type": "code",
   "execution_count": 21,
   "metadata": {},
   "outputs": [
    {
     "name": "stdout",
     "output_type": "stream",
     "text": [
      "<class 'pandas.core.frame.DataFrame'>\n",
      "RangeIndex: 460509 entries, 0 to 460508\n",
      "Data columns (total 7 columns):\n",
      " #   Column                          Non-Null Count   Dtype \n",
      "---  ------                          --------------   ----- \n",
      " 0   sesso                           460509 non-null  object\n",
      " 1   regione_residenza               460509 non-null  object\n",
      " 2   tipologia_struttura_erogazione  460509 non-null  object\n",
      " 3   durata_erogazione_sec           460509 non-null  int64 \n",
      " 4   eta                             460509 non-null  int64 \n",
      " 5   anno                            460509 non-null  int32 \n",
      " 6   quadrimestre                    460509 non-null  int32 \n",
      "dtypes: int32(2), int64(2), object(3)\n",
      "memory usage: 21.1+ MB\n"
     ]
    }
   ],
   "source": [
    "df.info()"
   ]
  },
  {
   "cell_type": "code",
   "execution_count": 14,
   "metadata": {},
   "outputs": [],
   "source": [
    "# Crea un'istanza dell'algoritmo K-Prototype\n",
    "kproto = KPrototypes(n_clusters=3, init='Huang', n_init=5, verbose=1)\n"
   ]
  },
  {
   "cell_type": "code",
   "execution_count": 22,
   "metadata": {},
   "outputs": [
    {
     "name": "stdout",
     "output_type": "stream",
     "text": [
      "Init: initializing centroids\n",
      "Init: initializing clusters\n",
      "Starting iterations...\n",
      "Run: 1, iteration: 1/100, moves: 83980, ncost: 77510815790.69794\n",
      "Run: 1, iteration: 2/100, moves: 41742, ncost: 70376580319.88188\n",
      "Run: 1, iteration: 3/100, moves: 20773, ncost: 68728184957.19243\n",
      "Run: 1, iteration: 4/100, moves: 10074, ncost: 68346200166.185425\n",
      "Run: 1, iteration: 5/100, moves: 4904, ncost: 68253807496.46059\n",
      "Run: 1, iteration: 6/100, moves: 2483, ncost: 68230387593.145706\n",
      "Run: 1, iteration: 7/100, moves: 1314, ncost: 68223835929.8386\n",
      "Run: 1, iteration: 8/100, moves: 646, ncost: 68222222703.48359\n",
      "Run: 1, iteration: 9/100, moves: 280, ncost: 68221903276.495636\n",
      "Run: 1, iteration: 10/100, moves: 87, ncost: 68221871914.61936\n",
      "Run: 1, iteration: 11/100, moves: 0, ncost: 68221871914.61936\n",
      "Init: initializing centroids\n",
      "Init: initializing clusters\n",
      "Starting iterations...\n",
      "Run: 2, iteration: 1/100, moves: 87605, ncost: 70336746097.53539\n",
      "Run: 2, iteration: 2/100, moves: 19496, ncost: 68716893938.08699\n",
      "Run: 2, iteration: 3/100, moves: 9925, ncost: 68344374185.561195\n",
      "Run: 2, iteration: 4/100, moves: 4868, ncost: 68253355569.06643\n",
      "Run: 2, iteration: 5/100, moves: 2456, ncost: 68230321516.95219\n",
      "Run: 2, iteration: 6/100, moves: 1306, ncost: 68223829286.075264\n",
      "Run: 2, iteration: 7/100, moves: 644, ncost: 68222222703.48359\n",
      "Run: 2, iteration: 8/100, moves: 280, ncost: 68221903276.495636\n",
      "Run: 2, iteration: 9/100, moves: 87, ncost: 68221871914.61936\n",
      "Run: 2, iteration: 10/100, moves: 0, ncost: 68221871914.61936\n",
      "Init: initializing centroids\n",
      "Init: initializing clusters\n",
      "Starting iterations...\n",
      "Run: 3, iteration: 1/100, moves: 40565, ncost: 73675014283.88385\n",
      "Run: 3, iteration: 2/100, moves: 30301, ncost: 69945260950.55782\n",
      "Run: 3, iteration: 3/100, moves: 17905, ncost: 68704220837.12009\n",
      "Run: 3, iteration: 4/100, moves: 9606, ncost: 68352588085.347916\n",
      "Run: 3, iteration: 5/100, moves: 5026, ncost: 68255671540.60018\n",
      "Run: 3, iteration: 6/100, moves: 2518, ncost: 68231075346.257744\n",
      "Run: 3, iteration: 7/100, moves: 1285, ncost: 68224628837.13606\n",
      "Run: 3, iteration: 8/100, moves: 716, ncost: 68222690336.67396\n",
      "Run: 3, iteration: 9/100, moves: 360, ncost: 68222165930.561356\n",
      "Run: 3, iteration: 10/100, moves: 232, ncost: 68221942893.8757\n",
      "Run: 3, iteration: 11/100, moves: 0, ncost: 68221942893.8757\n",
      "Init: initializing centroids\n",
      "Init: initializing clusters\n",
      "Starting iterations...\n",
      "Run: 4, iteration: 1/100, moves: 55423, ncost: 79712805873.01376\n",
      "Run: 4, iteration: 2/100, moves: 42557, ncost: 72326185826.72754\n",
      "Run: 4, iteration: 3/100, moves: 27204, ncost: 69436595294.35764\n",
      "Run: 4, iteration: 4/100, moves: 15278, ncost: 68550125468.683815\n",
      "Run: 4, iteration: 5/100, moves: 7937, ncost: 68309849601.4446\n",
      "Run: 4, iteration: 6/100, moves: 4163, ncost: 68244362063.07423\n",
      "Run: 4, iteration: 7/100, moves: 2097, ncost: 68227766601.10515\n",
      "Run: 4, iteration: 8/100, moves: 1015, ncost: 68223737135.823746\n",
      "Run: 4, iteration: 9/100, moves: 613, ncost: 68222339729.86009\n",
      "Run: 4, iteration: 10/100, moves: 272, ncost: 68222023460.968124\n",
      "Run: 4, iteration: 11/100, moves: 139, ncost: 68221942893.8757\n",
      "Run: 4, iteration: 12/100, moves: 0, ncost: 68221942893.8757\n",
      "Init: initializing centroids\n",
      "Init: initializing clusters\n",
      "Starting iterations...\n",
      "Run: 5, iteration: 1/100, moves: 41377, ncost: 68422281471.0343\n",
      "Run: 5, iteration: 2/100, moves: 6721, ncost: 68262426966.032745\n",
      "Run: 5, iteration: 3/100, moves: 2773, ncost: 68232473697.59506\n",
      "Run: 5, iteration: 4/100, moves: 1385, ncost: 68224974928.72527\n",
      "Run: 5, iteration: 5/100, moves: 730, ncost: 68222843994.12182\n",
      "Run: 5, iteration: 6/100, moves: 391, ncost: 68222228817.77237\n",
      "Run: 5, iteration: 7/100, moves: 254, ncost: 68221947971.33461\n",
      "Run: 5, iteration: 8/100, moves: 33, ncost: 68221942893.8757\n",
      "Run: 5, iteration: 9/100, moves: 0, ncost: 68221942893.8757\n",
      "Best run was number 1\n"
     ]
    }
   ],
   "source": [
    "# Adatta l'algoritmo ai dati\n",
    "# Devi specificare le colonne dei dati categorici\n",
    "clusters = kproto.fit_predict(df, categorical=[0, 1, 2])  # sostituisci con le tue colonne categoriche"
   ]
  }
 ],
 "metadata": {
  "kernelspec": {
   "display_name": "venv",
   "language": "python",
   "name": "python3"
  },
  "language_info": {
   "codemirror_mode": {
    "name": "ipython",
    "version": 3
   },
   "file_extension": ".py",
   "mimetype": "text/x-python",
   "name": "python",
   "nbconvert_exporter": "python",
   "pygments_lexer": "ipython3",
   "version": "3.10.14"
  }
 },
 "nbformat": 4,
 "nbformat_minor": 2
}
