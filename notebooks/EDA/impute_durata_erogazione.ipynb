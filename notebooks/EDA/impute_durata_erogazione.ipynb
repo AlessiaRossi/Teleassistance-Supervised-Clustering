{
 "cells": [
  {
   "cell_type": "code",
   "execution_count": 23,
   "metadata": {},
   "outputs": [],
   "source": [
    "import pandas as pd\n",
    "\n",
    "file_path = '../../data/raw/challenge_campus_biomedico_2024.parquet'\n",
    "df = pd.read_parquet(file_path, engine= 'pyarrow')"
   ]
  },
  {
   "cell_type": "code",
   "execution_count": 24,
   "metadata": {},
   "outputs": [],
   "source": [
    "# Convert 'ora_inizio_erogazione' and 'ora_fine_erogazione' to datetime\n",
    "df['ora_inizio_erogazione'] = pd.to_datetime(df['ora_inizio_erogazione'], utc=True, errors='coerce')\n",
    "df['ora_fine_erogazione'] = pd.to_datetime(df['ora_fine_erogazione'], utc=True, errors='coerce')"
   ]
  },
  {
   "cell_type": "code",
   "execution_count": 25,
   "metadata": {},
   "outputs": [],
   "source": [
    "df['durata_erogazione_min'] = (df['ora_fine_erogazione'] - df['ora_inizio_erogazione']).dt.total_seconds() / 60"
   ]
  },
  {
   "cell_type": "code",
   "execution_count": 26,
   "metadata": {},
   "outputs": [
    {
     "data": {
      "text/html": [
       "<div>\n",
       "<style scoped>\n",
       "    .dataframe tbody tr th:only-of-type {\n",
       "        vertical-align: middle;\n",
       "    }\n",
       "\n",
       "    .dataframe tbody tr th {\n",
       "        vertical-align: top;\n",
       "    }\n",
       "\n",
       "    .dataframe thead th {\n",
       "        text-align: right;\n",
       "    }\n",
       "</style>\n",
       "<table border=\"1\" class=\"dataframe\">\n",
       "  <thead>\n",
       "    <tr style=\"text-align: right;\">\n",
       "      <th></th>\n",
       "      <th>id_prenotazione</th>\n",
       "      <th>codice_descrizione_attivita</th>\n",
       "      <th>durata_erogazione_min</th>\n",
       "    </tr>\n",
       "  </thead>\n",
       "  <tbody>\n",
       "    <tr>\n",
       "      <th>8</th>\n",
       "      <td>HW4SL1FPUBFGQOM</td>\n",
       "      <td>8</td>\n",
       "      <td>NaN</td>\n",
       "    </tr>\n",
       "    <tr>\n",
       "      <th>14</th>\n",
       "      <td>XVEOUZTWGNCPHZ9</td>\n",
       "      <td>16</td>\n",
       "      <td>NaN</td>\n",
       "    </tr>\n",
       "    <tr>\n",
       "      <th>30</th>\n",
       "      <td>F53FM9I9FGJ8QXN</td>\n",
       "      <td>57</td>\n",
       "      <td>NaN</td>\n",
       "    </tr>\n",
       "    <tr>\n",
       "      <th>38</th>\n",
       "      <td>9QJK1Z8R9M8DTDR</td>\n",
       "      <td>5</td>\n",
       "      <td>NaN</td>\n",
       "    </tr>\n",
       "    <tr>\n",
       "      <th>42</th>\n",
       "      <td>ICSC7LMYSW7JQSW</td>\n",
       "      <td>10</td>\n",
       "      <td>NaN</td>\n",
       "    </tr>\n",
       "  </tbody>\n",
       "</table>\n",
       "</div>"
      ],
      "text/plain": [
       "    id_prenotazione  codice_descrizione_attivita  durata_erogazione_min\n",
       "8   HW4SL1FPUBFGQOM                            8                    NaN\n",
       "14  XVEOUZTWGNCPHZ9                           16                    NaN\n",
       "30  F53FM9I9FGJ8QXN                           57                    NaN\n",
       "38  9QJK1Z8R9M8DTDR                            5                    NaN\n",
       "42  ICSC7LMYSW7JQSW                           10                    NaN"
      ]
     },
     "execution_count": 26,
     "metadata": {},
     "output_type": "execute_result"
    }
   ],
   "source": [
    "app = df[df['durata_erogazione_min'].isnull()]\n",
    "app[['id_prenotazione', 'codice_descrizione_attivita', 'durata_erogazione_min']].head()"
   ]
  },
  {
   "cell_type": "code",
   "execution_count": 27,
   "metadata": {},
   "outputs": [],
   "source": [
    "mean_duration = df.groupby('codice_descrizione_attivita')['durata_erogazione_min'].mean()"
   ]
  },
  {
   "cell_type": "code",
   "execution_count": 37,
   "metadata": {},
   "outputs": [
    {
     "data": {
      "text/plain": [
       "codice_descrizione_attivita\n",
       "16    33.859661\n",
       "Name: durata_erogazione_min, dtype: float64"
      ]
     },
     "execution_count": 37,
     "metadata": {},
     "output_type": "execute_result"
    }
   ],
   "source": [
    "mean_duration[mean_duration.index == 16]"
   ]
  },
  {
   "cell_type": "code",
   "execution_count": 29,
   "metadata": {},
   "outputs": [],
   "source": [
    "# Impute missing values in 'durata_erogazione_min' with the mean duration\n",
    "# df['durata_erogazione_min'].fillna(mean_duration, inplace=True)"
   ]
  },
  {
   "cell_type": "code",
   "execution_count": 30,
   "metadata": {},
   "outputs": [],
   "source": [
    "# app = df[df['id_prenotazione'] == 'TEXVMH532SWPKQL']\n",
    "# app[['id_prenotazione', 'codice_descrizione_attivita', 'durata_erogazione_min']].head()"
   ]
  },
  {
   "cell_type": "code",
   "execution_count": null,
   "metadata": {},
   "outputs": [],
   "source": []
  },
  {
   "cell_type": "code",
   "execution_count": 31,
   "metadata": {},
   "outputs": [
    {
     "data": {
      "text/plain": [
       "(484291, 34)"
      ]
     },
     "execution_count": 31,
     "metadata": {},
     "output_type": "execute_result"
    }
   ],
   "source": [
    "df.shape"
   ]
  },
  {
   "cell_type": "code",
   "execution_count": 32,
   "metadata": {},
   "outputs": [],
   "source": [
    "# train['Age'] = train.groupby('Title')['Age'].transform(lambda x: x.fillna(x.mean()))\n",
    "\n",
    "df['durata_erogazione_min'] = df.groupby('codice_descrizione_attivita')['durata_erogazione_min'].transform(lambda x: x.fillna(x.mean()))"
   ]
  },
  {
   "cell_type": "code",
   "execution_count": 33,
   "metadata": {},
   "outputs": [
    {
     "data": {
      "text/plain": [
       "(484291, 34)"
      ]
     },
     "execution_count": 33,
     "metadata": {},
     "output_type": "execute_result"
    }
   ],
   "source": [
    "df.shape"
   ]
  },
  {
   "cell_type": "code",
   "execution_count": 34,
   "metadata": {},
   "outputs": [
    {
     "data": {
      "text/plain": [
       "np.int64(0)"
      ]
     },
     "execution_count": 34,
     "metadata": {},
     "output_type": "execute_result"
    }
   ],
   "source": [
    "df['durata_erogazione_min'].isnull().sum()"
   ]
  },
  {
   "cell_type": "code",
   "execution_count": 38,
   "metadata": {},
   "outputs": [
    {
     "data": {
      "text/html": [
       "<div>\n",
       "<style scoped>\n",
       "    .dataframe tbody tr th:only-of-type {\n",
       "        vertical-align: middle;\n",
       "    }\n",
       "\n",
       "    .dataframe tbody tr th {\n",
       "        vertical-align: top;\n",
       "    }\n",
       "\n",
       "    .dataframe thead th {\n",
       "        text-align: right;\n",
       "    }\n",
       "</style>\n",
       "<table border=\"1\" class=\"dataframe\">\n",
       "  <thead>\n",
       "    <tr style=\"text-align: right;\">\n",
       "      <th></th>\n",
       "      <th>id_prenotazione</th>\n",
       "      <th>id_paziente</th>\n",
       "      <th>data_nascita</th>\n",
       "      <th>sesso</th>\n",
       "      <th>regione_residenza</th>\n",
       "      <th>codice_regione_residenza</th>\n",
       "      <th>asl_residenza</th>\n",
       "      <th>codice_asl_residenza</th>\n",
       "      <th>provincia_residenza</th>\n",
       "      <th>codice_provincia_residenza</th>\n",
       "      <th>...</th>\n",
       "      <th>tipologia_struttura_erogazione</th>\n",
       "      <th>codice_tipologia_struttura_erogazione</th>\n",
       "      <th>id_professionista_sanitario</th>\n",
       "      <th>tipologia_professionista_sanitario</th>\n",
       "      <th>codice_tipologia_professionista_sanitario</th>\n",
       "      <th>data_erogazione</th>\n",
       "      <th>ora_inizio_erogazione</th>\n",
       "      <th>ora_fine_erogazione</th>\n",
       "      <th>data_disdetta</th>\n",
       "      <th>durata_erogazione_min</th>\n",
       "    </tr>\n",
       "  </thead>\n",
       "  <tbody>\n",
       "    <tr>\n",
       "      <th>14</th>\n",
       "      <td>XVEOUZTWGNCPHZ9</td>\n",
       "      <td>WJISDX16K80A828P</td>\n",
       "      <td>1971-05-15</td>\n",
       "      <td>male</td>\n",
       "      <td>Veneto</td>\n",
       "      <td>50</td>\n",
       "      <td>AZIENDA ULSS N. 9 SCALIGERA</td>\n",
       "      <td>50509</td>\n",
       "      <td>Verona</td>\n",
       "      <td>VR</td>\n",
       "      <td>...</td>\n",
       "      <td>Ospedale a gestione diretta</td>\n",
       "      <td>osp-dir</td>\n",
       "      <td>BLZAAN93J26Y713E</td>\n",
       "      <td>Infermiere</td>\n",
       "      <td>INF</td>\n",
       "      <td>2019-02-06T12:00:00+01:00</td>\n",
       "      <td>NaT</td>\n",
       "      <td>NaT</td>\n",
       "      <td>2019-01-26T11:33:50+01:00</td>\n",
       "      <td>33.859661</td>\n",
       "    </tr>\n",
       "  </tbody>\n",
       "</table>\n",
       "<p>1 rows × 34 columns</p>\n",
       "</div>"
      ],
      "text/plain": [
       "    id_prenotazione       id_paziente data_nascita sesso regione_residenza  \\\n",
       "14  XVEOUZTWGNCPHZ9  WJISDX16K80A828P   1971-05-15  male            Veneto   \n",
       "\n",
       "    codice_regione_residenza                asl_residenza  \\\n",
       "14                        50  AZIENDA ULSS N. 9 SCALIGERA   \n",
       "\n",
       "    codice_asl_residenza provincia_residenza codice_provincia_residenza  ...  \\\n",
       "14                 50509              Verona                         VR  ...   \n",
       "\n",
       "   tipologia_struttura_erogazione  codice_tipologia_struttura_erogazione  \\\n",
       "14    Ospedale a gestione diretta                                osp-dir   \n",
       "\n",
       "   id_professionista_sanitario tipologia_professionista_sanitario  \\\n",
       "14            BLZAAN93J26Y713E                         Infermiere   \n",
       "\n",
       "    codice_tipologia_professionista_sanitario            data_erogazione  \\\n",
       "14                                        INF  2019-02-06T12:00:00+01:00   \n",
       "\n",
       "   ora_inizio_erogazione  ora_fine_erogazione              data_disdetta  \\\n",
       "14                   NaT                  NaT  2019-01-26T11:33:50+01:00   \n",
       "\n",
       "    durata_erogazione_min  \n",
       "14              33.859661  \n",
       "\n",
       "[1 rows x 34 columns]"
      ]
     },
     "execution_count": 38,
     "metadata": {},
     "output_type": "execute_result"
    }
   ],
   "source": [
    "df[df['id_prenotazione'] == 'XVEOUZTWGNCPHZ9']\n"
   ]
  },
  {
   "cell_type": "code",
   "execution_count": null,
   "metadata": {},
   "outputs": [],
   "source": []
  }
 ],
 "metadata": {
  "kernelspec": {
   "display_name": ".venv",
   "language": "python",
   "name": "python3"
  },
  "language_info": {
   "codemirror_mode": {
    "name": "ipython",
    "version": 3
   },
   "file_extension": ".py",
   "mimetype": "text/x-python",
   "name": "python",
   "nbconvert_exporter": "python",
   "pygments_lexer": "ipython3",
   "version": "3.10.12"
  }
 },
 "nbformat": 4,
 "nbformat_minor": 2
}
