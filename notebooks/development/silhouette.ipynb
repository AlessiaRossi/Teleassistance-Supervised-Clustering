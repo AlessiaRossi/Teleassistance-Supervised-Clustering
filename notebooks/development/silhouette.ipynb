{
 "cells": [
  {
   "cell_type": "code",
   "execution_count": 1,
   "metadata": {
    "ExecuteTime": {
     "end_time": "2024-08-22T12:49:57.513722Z",
     "start_time": "2024-08-22T12:49:57.142150Z"
    }
   },
   "outputs": [],
   "source": [
    "import pandas as pd\n",
    "import numpy as np\n",
    "from sklearn.metrics import silhouette_samples, silhouette_score\n",
    "from sklearn.preprocessing import LabelEncoder\n",
    "from sklearn.preprocessing import StandardScaler\n",
    "\n",
    "import matplotlib.pyplot as plt"
   ]
  },
  {
   "cell_type": "code",
   "execution_count": 2,
   "metadata": {
    "ExecuteTime": {
     "end_time": "2024-08-22T12:55:38.830215Z",
     "start_time": "2024-08-22T12:55:37.576005Z"
    }
   },
   "outputs": [],
   "source": [
    "# Load the clustered data\n",
    "df_labeled = pd.read_parquet('../../data/processed/clustered_data.parquet')"
   ]
  },
  {
   "cell_type": "code",
   "execution_count": 3,
   "metadata": {
    "ExecuteTime": {
     "end_time": "2024-08-22T13:05:06.220318Z",
     "start_time": "2024-08-22T13:05:05.783217Z"
    }
   },
   "outputs": [],
   "source": [
    "# Extract clusters and true labels\n",
    "clusters = df_labeled['cluster'].to_numpy()\n",
    "# Remove the cluster column to get the feature data\n",
    "feature_columns = df_labeled.drop(columns=['cluster'])"
   ]
  },
  {
   "cell_type": "code",
   "execution_count": 4,
   "metadata": {
    "collapsed": false
   },
   "outputs": [
    {
     "name": "stdout",
     "output_type": "stream",
     "text": [
      "<class 'pandas.core.frame.DataFrame'>\n",
      "RangeIndex: 460509 entries, 0 to 460508\n",
      "Data columns (total 6 columns):\n",
      " #   Column                              Non-Null Count   Dtype \n",
      "---  ------                              --------------   ----- \n",
      " 0   regione_residenza                   460509 non-null  object\n",
      " 1   descrizione_attivita                460509 non-null  object\n",
      " 2   tipologia_struttura_erogazione      460509 non-null  object\n",
      " 3   tipologia_professionista_sanitario  460509 non-null  object\n",
      " 4   fascia_eta                          460509 non-null  object\n",
      " 5   incremento_teleassistenze           460509 non-null  object\n",
      "dtypes: object(6)\n",
      "memory usage: 21.1+ MB\n"
     ]
    }
   ],
   "source": [
    "feature_columns.info()"
   ]
  },
  {
   "cell_type": "code",
   "execution_count": 5,
   "metadata": {
    "ExecuteTime": {
     "end_time": "2024-08-22T13:09:38.055877Z",
     "start_time": "2024-08-22T13:09:34.773708Z"
    },
    "collapsed": false
   },
   "outputs": [],
   "source": [
    "# NOTE this is not needed, cause these columns are note used in the clustering\n",
    "\n",
    "# Convert the datetime columns to Unix timestamp\n",
    "# feature_columns['data_erogazione'] = feature_columns['data_erogazione'].apply(lambda x: x.timestamp() if pd.notnull(x) else np.nan)\n",
    "# feature_columns['data_nascita'] = feature_columns['data_nascita'].apply(lambda x: x.timestamp() if pd.notnull(x) else np.nan)"
   ]
  },
  {
   "cell_type": "code",
   "execution_count": 6,
   "metadata": {
    "ExecuteTime": {
     "end_time": "2024-08-22T13:09:52.287163Z",
     "start_time": "2024-08-22T13:09:46.919532Z"
    },
    "collapsed": false
   },
   "outputs": [],
   "source": [
    "# Convert non-numeric columns to numeric using LabelEncoder\n",
    "for column in feature_columns.columns:\n",
    "    if feature_columns[column].dtype == 'object':\n",
    "        le = LabelEncoder()\n",
    "        feature_columns[column] = le.fit_transform(feature_columns[column])\n",
    "        \n",
    "# NOTE Sarebbe meglio usare OneHotEncoder ma avendo un dataset molto grande non posso permettermi di fare one hot encoding in quanto la memoria non basta"
   ]
  },
  {
   "cell_type": "code",
   "execution_count": 7,
   "metadata": {},
   "outputs": [],
   "source": [
    "# supponendo che X sia il tuo dataframe o array di feature\n",
    "scaler = StandardScaler()\n",
    "X_standardized = scaler.fit_transform(feature_columns)"
   ]
  },
  {
   "cell_type": "code",
   "execution_count": 8,
   "metadata": {},
   "outputs": [
    {
     "name": "stdout",
     "output_type": "stream",
     "text": [
      "          0         1         2         3         4         5\n",
      "0  0.250476 -0.308295 -1.828384 -0.086304 -0.037535 -0.602746\n",
      "1  1.284751  0.515240 -1.416034 -0.086304  0.449775 -0.602746\n",
      "2 -0.956180  0.412298  0.645713 -1.538514 -0.037535 -0.602746\n",
      "3 -1.128559  1.184363 -1.828384  1.849977  0.449775 -0.602746\n",
      "4 -1.645697  0.412298  0.645713 -1.538514  0.937085 -0.602746\n"
     ]
    }
   ],
   "source": [
    "X_standardized_df = pd.DataFrame(X_standardized)\n",
    "print(X_standardized_df.head())"
   ]
  },
  {
   "cell_type": "code",
   "execution_count": 9,
   "metadata": {
    "ExecuteTime": {
     "end_time": "2024-08-22T13:11:15.685310Z",
     "start_time": "2024-08-22T13:11:15.671369Z"
    }
   },
   "outputs": [],
   "source": [
    "# Function to calculate and normalize Silhouette Score\n",
    "def calculate_silhouette_score(features , clusters):\n",
    "    # Calculate the silhouette scores for each sample\n",
    "    silhouette_vals = silhouette_samples(features, clusters)\n",
    "    \n",
    "    print(silhouette_vals)\n",
    "\n",
    "    # Calculate the mean silhouette score\n",
    "    # NOTE, OPTIMIZE: the code work, but the mean silhouette can be calulated in a more efficient way. \"np.mean(silhouette_vals)\" is enough\n",
    "    # mean_silhouette = silhouette_score(features, clusters)\n",
    "\n",
    "    # Normalize the silhouette scores to a range between 0 and 1\n",
    "    normalized_silhouette_vals = (silhouette_vals - silhouette_vals.min()) / (silhouette_vals.max() - silhouette_vals.min())\n",
    "\n",
    "    # NOTE, OPTIMIZE: the code work, but the mean silhouette can be calulated in a more efficient way. \"np.mean(normalized_silhouette_vals)\" is enough\n",
    "    # normalized_mean_silhouette = (mean_silhouette - silhouette_vals.min()) / (silhouette_vals.max() - silhouette_vals.min())\n",
    "\n",
    "    return normalized_silhouette_vals, silhouette_vals"
   ]
  },
  {
   "cell_type": "code",
   "execution_count": null,
   "metadata": {},
   "outputs": [],
   "source": []
  },
  {
   "cell_type": "code",
   "execution_count": 10,
   "metadata": {
    "ExecuteTime": {
     "start_time": "2024-08-22T13:11:16.066939Z"
    },
    "is_executing": true
   },
   "outputs": [
    {
     "name": "stdout",
     "output_type": "stream",
     "text": [
      "[ 0.06012689 -0.00852486  0.01855274 ... -0.17188138  0.12656364\n",
      "  0.1911706 ]\n"
     ]
    }
   ],
   "source": [
    "# Calculate the normalized silhouette values\n",
    "normalized_silhouette_vals, silhouette_vals = calculate_silhouette_score(X_standardized_df, clusters)  "
   ]
  },
  {
   "cell_type": "code",
   "execution_count": 11,
   "metadata": {},
   "outputs": [
    {
     "name": "stdout",
     "output_type": "stream",
     "text": [
      "Normalized Silhouette Values: [0.62218476 0.50189498 0.54933963 ... 0.21566601 0.73859349 0.8517961 ]\n"
     ]
    }
   ],
   "source": [
    "# Print the results\n",
    "# print('Normalized Mean Silhouette Score:', normalized_mean_silhouette)\n",
    "print('Normalized Silhouette Values:', normalized_silhouette_vals)"
   ]
  },
  {
   "cell_type": "code",
   "execution_count": 12,
   "metadata": {},
   "outputs": [
    {
     "data": {
      "text/plain": [
       "array([ 0.06012689, -0.00852486,  0.01855274, ..., -0.17188138,\n",
       "        0.12656364,  0.1911706 ])"
      ]
     },
     "execution_count": 12,
     "metadata": {},
     "output_type": "execute_result"
    }
   ],
   "source": [
    "silhouette_vals"
   ]
  },
  {
   "cell_type": "code",
   "execution_count": 13,
   "metadata": {},
   "outputs": [
    {
     "data": {
      "text/plain": [
       "np.float64(0.037066135194397096)"
      ]
     },
     "execution_count": 13,
     "metadata": {},
     "output_type": "execute_result"
    }
   ],
   "source": [
    "np.mean(silhouette_vals)"
   ]
  },
  {
   "cell_type": "code",
   "execution_count": 14,
   "metadata": {},
   "outputs": [],
   "source": [
    "silhouette_vals_norm = (silhouette_vals - silhouette_vals.min()) / (silhouette_vals.max() - silhouette_vals.min())"
   ]
  },
  {
   "cell_type": "code",
   "execution_count": 15,
   "metadata": {},
   "outputs": [
    {
     "data": {
      "text/plain": [
       "np.float64(0.5817783244970017)"
      ]
     },
     "execution_count": 15,
     "metadata": {},
     "output_type": "execute_result"
    }
   ],
   "source": [
    "np.mean(silhouette_vals_norm)"
   ]
  },
  {
   "cell_type": "code",
   "execution_count": 16,
   "metadata": {},
   "outputs": [
    {
     "data": {
      "text/plain": [
       "np.float64(0.5817783244970017)"
      ]
     },
     "execution_count": 16,
     "metadata": {},
     "output_type": "execute_result"
    }
   ],
   "source": [
    "np.mean(normalized_silhouette_vals)"
   ]
  },
  {
   "cell_type": "code",
   "execution_count": null,
   "metadata": {},
   "outputs": [],
   "source": []
  },
  {
   "cell_type": "code",
   "execution_count": 17,
   "metadata": {},
   "outputs": [
    {
     "data": {
      "image/png": "[encoded data removed]",
      "text/plain": [
       "<Figure size 1000x700 with 1 Axes>"
      ]
     },
     "metadata": {},
     "output_type": "display_data"
    }
   ],
   "source": [
    "# Plot the silhouette values for each sample\n",
    "plt.figure(figsize=(10, 7))\n",
    "y_lower = 10\n",
    "for i in np.unique(clusters):\n",
    "    ith_cluster_silhouette_vals = silhouette_vals[clusters == i]\n",
    "    ith_cluster_silhouette_vals.sort()\n",
    "    size_cluster_i = ith_cluster_silhouette_vals.shape[0]\n",
    "    y_upper = y_lower + size_cluster_i\n",
    "\n",
    "    plt.fill_betweenx(np.arange(y_lower, y_upper), 0, ith_cluster_silhouette_vals, alpha=0.7)\n",
    "    plt.text(-0.05, y_lower + 0.5 * size_cluster_i, str(i))\n",
    "\n",
    "    y_lower = y_upper + 10"
   ]
  },
  {
   "cell_type": "code",
   "execution_count": 18,
   "metadata": {},
   "outputs": [
    {
     "ename": "NameError",
     "evalue": "name 'mean_silhouette' is not defined",
     "output_type": "error",
     "traceback": [
      "\u001b[0;31m---------------------------------------------------------------------------\u001b[0m",
      "\u001b[0;31mNameError\u001b[0m                                 Traceback (most recent call last)",
      "Cell \u001b[0;32mIn[18], line 4\u001b[0m\n\u001b[1;32m      2\u001b[0m plt\u001b[38;5;241m.\u001b[39mxlabel(\u001b[38;5;124m'\u001b[39m\u001b[38;5;124mSilhouette coefficient values\u001b[39m\u001b[38;5;124m'\u001b[39m)\n\u001b[1;32m      3\u001b[0m plt\u001b[38;5;241m.\u001b[39mylabel(\u001b[38;5;124m'\u001b[39m\u001b[38;5;124mCluster label\u001b[39m\u001b[38;5;124m'\u001b[39m)\n\u001b[0;32m----> 4\u001b[0m plt\u001b[38;5;241m.\u001b[39maxvline(x\u001b[38;5;241m=\u001b[39m\u001b[43mmean_silhouette\u001b[49m, color\u001b[38;5;241m=\u001b[39m\u001b[38;5;124m\"\u001b[39m\u001b[38;5;124mred\u001b[39m\u001b[38;5;124m\"\u001b[39m, linestyle\u001b[38;5;241m=\u001b[39m\u001b[38;5;124m\"\u001b[39m\u001b[38;5;124m--\u001b[39m\u001b[38;5;124m\"\u001b[39m)\n\u001b[1;32m      5\u001b[0m plt\u001b[38;5;241m.\u001b[39myticks([])\n\u001b[1;32m      6\u001b[0m plt\u001b[38;5;241m.\u001b[39mshow()\n",
      "\u001b[0;31mNameError\u001b[0m: name 'mean_silhouette' is not defined"
     ]
    },
    {
     "data": {
      "image/png": "[encoded data removed]",
      "text/plain": [
       "<Figure size 640x480 with 1 Axes>"
      ]
     },
     "metadata": {},
     "output_type": "display_data"
    }
   ],
   "source": [
    "plt.title('Silhouette plot for the various clusters')\n",
    "plt.xlabel('Silhouette coefficient values')\n",
    "plt.ylabel('Cluster label')\n",
    "plt.axvline(x=mean_silhouette, color=\"red\", linestyle=\"--\")\n",
    "plt.yticks([])\n",
    "plt.show()"
   ]
  }
 ],
 "metadata": {
  "kernelspec": {
   "display_name": ".venv",
   "language": "python",
   "name": "python3"
  },
  "language_info": {
   "codemirror_mode": {
    "name": "ipython",
    "version": 3
   },
   "file_extension": ".py",
   "mimetype": "text/x-python",
   "name": "python",
   "nbconvert_exporter": "python",
   "pygments_lexer": "ipython3",
   "version": "3.10.12"
  }
 },
 "nbformat": 4,
 "nbformat_minor": 2
}
