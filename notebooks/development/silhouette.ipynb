{
 "cells": [
  {
   "cell_type": "code",
   "execution_count": 1,
   "metadata": {
    "ExecuteTime": {
     "end_time": "2024-08-22T12:49:57.513722Z",
     "start_time": "2024-08-22T12:49:57.142150Z"
    }
   },
   "outputs": [],
   "source": [
    "import pandas as pd\n",
    "import numpy as np\n",
    "from sklearn.metrics import silhouette_samples, silhouette_score\n",
    "from sklearn.preprocessing import LabelEncoder\n",
    "\n",
    "import matplotlib.pyplot as plt"
   ]
  },
  {
   "cell_type": "code",
   "execution_count": 12,
   "metadata": {
    "ExecuteTime": {
     "end_time": "2024-08-22T12:55:38.830215Z",
     "start_time": "2024-08-22T12:55:37.576005Z"
    }
   },
   "outputs": [],
   "source": [
    "# Load the clustered data\n",
    "df_labeled = pd.read_parquet('../../data/processed/clustered_data.parquet')"
   ]
  },
  {
   "cell_type": "code",
   "execution_count": 21,
   "metadata": {
    "ExecuteTime": {
     "end_time": "2024-08-22T13:05:06.220318Z",
     "start_time": "2024-08-22T13:05:05.783217Z"
    }
   },
   "outputs": [
    {
     "name": "stdout",
     "output_type": "stream",
     "text": [
      "<class 'pandas.core.frame.DataFrame'>\n",
      "RangeIndex: 460509 entries, 0 to 460508\n",
      "Data columns (total 17 columns):\n",
      " #   Column                              Non-Null Count   Dtype              \n",
      "---  ------                              --------------   -----              \n",
      " 0   id_prenotazione                     460509 non-null  object             \n",
      " 1   id_paziente                         460509 non-null  object             \n",
      " 2   data_nascita                        460509 non-null  datetime64[ns, UTC]\n",
      " 3   sesso                               460509 non-null  object             \n",
      " 4   regione_residenza                   460509 non-null  object             \n",
      " 5   tipologia_servizio                  460509 non-null  object             \n",
      " 6   descrizione_attivita                460509 non-null  object             \n",
      " 7   data_contatto                       460509 non-null  object             \n",
      " 8   tipologia_struttura_erogazione      460509 non-null  object             \n",
      " 9   id_professionista_sanitario         460509 non-null  object             \n",
      " 10  tipologia_professionista_sanitario  460509 non-null  object             \n",
      " 11  data_erogazione                     460509 non-null  datetime64[ns, UTC]\n",
      " 12  durata_erogazione_sec               460509 non-null  int64              \n",
      " 13  fascia_eta                          460509 non-null  object             \n",
      " 14  anno                                460509 non-null  int32              \n",
      " 15  quadrimestre                        460509 non-null  int32              \n",
      " 16  incremento_teleassistenze           460509 non-null  object             \n",
      "dtypes: datetime64[ns, UTC](2), int32(2), int64(1), object(12)\n",
      "memory usage: 56.2+ MB\n"
     ]
    }
   ],
   "source": [
    "# Extract clusters and true labels\n",
    "clusters = df_labeled['cluster'].to_numpy()\n",
    "# Remove the cluster column to get the feature data\n",
    "feature_columns = df_labeled.drop(columns=['cluster'])"
   ]
  },
  {
   "cell_type": "code",
   "outputs": [],
   "source": [
    "feature_columns.info()\n",
    "#OSS si può pensare di droppare anche  data_erogazione e data_nascita cosi poi da non convertorle in numeriche"
   ],
   "metadata": {
    "collapsed": false
   }
  },
  {
   "cell_type": "code",
   "outputs": [],
   "source": [
    "# Convert the datetime columns to Unix timestamp\n",
    "feature_columns['data_erogazione'] = feature_columns['data_erogazione'].apply(lambda x: x.timestamp() if pd.notnull(x) else np.nan)\n",
    "feature_columns['data_nascita'] = feature_columns['data_nascita'].apply(lambda x: x.timestamp() if pd.notnull(x) else np.nan)"
   ],
   "metadata": {
    "collapsed": false,
    "ExecuteTime": {
     "end_time": "2024-08-22T13:09:38.055877Z",
     "start_time": "2024-08-22T13:09:34.773708Z"
    }
   },
   "execution_count": 22
  },
  {
   "cell_type": "code",
   "outputs": [],
   "source": [
    "# Convert non-numeric columns to numeric using LabelEncoder\n",
    "for column in feature_columns.columns:\n",
    "    if feature_columns[column].dtype == 'object':\n",
    "        le = LabelEncoder()\n",
    "        feature_columns[column] = le.fit_transform(feature_columns[column])\n",
    "# OSS Sarebbe meglio usare OneHotEncoder ma avendo un dataset molto grande non posso permettermi di fare one hot encoding in quanto la memoria non basta"
   ],
   "metadata": {
    "collapsed": false,
    "ExecuteTime": {
     "end_time": "2024-08-22T13:09:52.287163Z",
     "start_time": "2024-08-22T13:09:46.919532Z"
    }
   },
   "execution_count": 23
  },
  {
   "cell_type": "code",
   "execution_count": 26,
   "metadata": {
    "ExecuteTime": {
     "end_time": "2024-08-22T13:11:15.685310Z",
     "start_time": "2024-08-22T13:11:15.671369Z"
    }
   },
   "outputs": [],
   "source": [
    "# Function to calculate and normalize Silhouette Score\n",
    "def calculate_silhouette_score(features , clusters):\n",
    "    # Calculate the silhouette scores for each sample\n",
    "    silhouette_vals = silhouette_samples(features, clusters)\n",
    "\n",
    "    # Calculate the mean silhouette score\n",
    "    mean_silhouette = silhouette_score(features, clusters)\n",
    "\n",
    "    # Normalize the silhouette scores to a range between 0 and 1\n",
    "    normalized_silhouette_vals = (silhouette_vals - silhouette_vals.min()) / (silhouette_vals.max() - silhouette_vals.min())\n",
    "    normalized_mean_silhouette = (mean_silhouette - silhouette_vals.min()) / (silhouette_vals.max() - silhouette_vals.min())\n",
    "\n",
    "    return normalized_mean_silhouette, normalized_silhouette_vals, mean_silhouette, silhouette_vals"
   ]
  },
  {
   "cell_type": "code",
   "execution_count": null,
   "metadata": {
    "is_executing": true,
    "ExecuteTime": {
     "start_time": "2024-08-22T13:11:16.066939Z"
    }
   },
   "outputs": [],
   "source": [
    "# Calculate the normalized silhouette values\n",
    "normalized_mean_silhouette, normalized_silhouette_vals,mean_silhouette, silhouette_vals = calculate_silhouette_score(feature_columns, clusters)  "
   ]
  },
  {
   "cell_type": "code",
   "execution_count": null,
   "metadata": {},
   "outputs": [],
   "source": [
    "# Print the results\n",
    "print('Normalized Mean Silhouette Score:', normalized_mean_silhouette)\n",
    "print('Normalized Silhouette Values:', normalized_silhouette_vals)"
   ]
  },
  {
   "cell_type": "code",
   "execution_count": null,
   "metadata": {},
   "outputs": [],
   "source": [
    "# Plot the silhouette values for each sample\n",
    "plt.figure(figsize=(10, 7))\n",
    "y_lower = 10\n",
    "for i in np.unique(clusters):\n",
    "    ith_cluster_silhouette_vals = silhouette_vals[clusters == i]\n",
    "    ith_cluster_silhouette_vals.sort()\n",
    "    size_cluster_i = ith_cluster_silhouette_vals.shape[0]\n",
    "    y_upper = y_lower + size_cluster_i\n",
    "\n",
    "    plt.fill_betweenx(np.arange(y_lower, y_upper), 0, ith_cluster_silhouette_vals, alpha=0.7)\n",
    "    plt.text(-0.05, y_lower + 0.5 * size_cluster_i, str(i))\n",
    "\n",
    "    y_lower = y_upper + 10"
   ]
  },
  {
   "cell_type": "code",
   "execution_count": null,
   "metadata": {},
   "outputs": [],
   "source": [
    "plt.title('Silhouette plot for the various clusters')\n",
    "plt.xlabel('Silhouette coefficient values')\n",
    "plt.ylabel('Cluster label')\n",
    "plt.axvline(x=mean_silhouette, color=\"red\", linestyle=\"--\")\n",
    "plt.yticks([])\n",
    "plt.show()"
   ]
  }
 ],
 "metadata": {
  "kernelspec": {
   "display_name": ".venv",
   "language": "python",
   "name": "python3"
  },
  "language_info": {
   "codemirror_mode": {
    "name": "ipython",
    "version": 3
   },
   "file_extension": ".py",
   "mimetype": "text/x-python",
   "name": "python",
   "nbconvert_exporter": "python",
   "pygments_lexer": "ipython3",
   "version": "3.10.12"
  }
 },
 "nbformat": 4,
 "nbformat_minor": 2
}
