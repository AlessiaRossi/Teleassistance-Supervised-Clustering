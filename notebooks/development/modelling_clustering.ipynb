{
 "cells": [
  {
   "cell_type": "code",
   "execution_count": 4,
   "metadata": {},
   "outputs": [],
   "source": [
    "import pandas as pd\n",
    "import numpy as np\n",
    "from kmodes.kprototypes import KPrototypes\n",
    "from kmodes.kmodes import KModes\n",
    "import matplotlib.pyplot as plt\n",
    "# from sklearn.decomposition import PCA"
   ]
  },
  {
   "cell_type": "code",
   "execution_count": 5,
   "metadata": {},
   "outputs": [],
   "source": [
    "df_labeled = pd.read_parquet('../../data/processed/ds_labeled.parquet')"
   ]
  },
  {
   "cell_type": "code",
   "execution_count": 6,
   "metadata": {},
   "outputs": [
    {
     "name": "stdout",
     "output_type": "stream",
     "text": [
      "<class 'pandas.core.frame.DataFrame'>\n",
      "RangeIndex: 460509 entries, 0 to 460508\n",
      "Data columns (total 17 columns):\n",
      " #   Column                              Non-Null Count   Dtype              \n",
      "---  ------                              --------------   -----              \n",
      " 0   id_prenotazione                     460509 non-null  object             \n",
      " 1   id_paziente                         460509 non-null  object             \n",
      " 2   data_nascita                        460509 non-null  datetime64[ns, UTC]\n",
      " 3   sesso                               460509 non-null  object             \n",
      " 4   regione_residenza                   460509 non-null  object             \n",
      " 5   tipologia_servizio                  460509 non-null  object             \n",
      " 6   descrizione_attivita                460509 non-null  object             \n",
      " 7   data_contatto                       460509 non-null  object             \n",
      " 8   tipologia_struttura_erogazione      460509 non-null  object             \n",
      " 9   id_professionista_sanitario         460509 non-null  object             \n",
      " 10  tipologia_professionista_sanitario  460509 non-null  object             \n",
      " 11  data_erogazione                     460509 non-null  datetime64[ns, UTC]\n",
      " 12  durata_erogazione_sec               460509 non-null  int64              \n",
      " 13  fascia_eta                          460509 non-null  object             \n",
      " 14  anno                                460509 non-null  int32              \n",
      " 15  quadrimestre                        460509 non-null  int32              \n",
      " 16  incremento_teleassistenze           460509 non-null  object             \n",
      "dtypes: datetime64[ns, UTC](2), int32(2), int64(1), object(12)\n",
      "memory usage: 56.2+ MB\n"
     ]
    }
   ],
   "source": [
    "df_labeled.info()"
   ]
  },
  {
   "cell_type": "code",
   "execution_count": 7,
   "metadata": {},
   "outputs": [],
   "source": [
    "cols_to_drop = df_labeled.columns[[0,1,2,3,5,7,9,11,12,14,15]]\n",
    "df = df_labeled.drop(columns=cols_to_drop)"
   ]
  },
  {
   "cell_type": "code",
   "execution_count": 8,
   "metadata": {},
   "outputs": [
    {
     "name": "stdout",
     "output_type": "stream",
     "text": [
      "<class 'pandas.core.frame.DataFrame'>\n",
      "RangeIndex: 460509 entries, 0 to 460508\n",
      "Data columns (total 6 columns):\n",
      " #   Column                              Non-Null Count   Dtype \n",
      "---  ------                              --------------   ----- \n",
      " 0   regione_residenza                   460509 non-null  object\n",
      " 1   descrizione_attivita                460509 non-null  object\n",
      " 2   tipologia_struttura_erogazione      460509 non-null  object\n",
      " 3   tipologia_professionista_sanitario  460509 non-null  object\n",
      " 4   fascia_eta                          460509 non-null  object\n",
      " 5   incremento_teleassistenze           460509 non-null  object\n",
      "dtypes: object(6)\n",
      "memory usage: 21.1+ MB\n"
     ]
    }
   ],
   "source": [
    "df.info()"
   ]
  },
  {
   "cell_type": "code",
   "execution_count": 9,
   "metadata": {},
   "outputs": [
    {
     "data": {
      "text/plain": [
       "Index(['regione_residenza', 'descrizione_attivita',\n",
       "       'tipologia_struttura_erogazione', 'tipologia_professionista_sanitario',\n",
       "       'fascia_eta', 'incremento_teleassistenze'],\n",
       "      dtype='object')"
      ]
     },
     "execution_count": 9,
     "metadata": {},
     "output_type": "execute_result"
    }
   ],
   "source": [
    "df.columns"
   ]
  },
  {
   "cell_type": "code",
   "execution_count": null,
   "metadata": {},
   "outputs": [],
   "source": []
  },
  {
   "cell_type": "markdown",
   "metadata": {},
   "source": [
    "## Elbow Method\n",
    "\n",
    "L'Elbow Method consiste nel:\n",
    "\n",
    "1. Eseguire K-Prototypes per una gamma di valori di \n",
    "𝑘 (ad esempio, da 1 a 10).\n",
    "2. Calcolare il \"Costo\" (o l'inertia): La funzione di costo (inertia) misura la somma delle distanze tra i punti dati e i loro rispettivi centroidi.\n",
    "3. Tracciare il Costo: Tracciare il costo rispetto ai diversi valori di \n",
    "𝑘.\n",
    "4. Identificare l'Elbow (gomito): Il punto in cui il tasso di riduzione della funzione di costo inizia a diminuire significativamente. Questo punto rappresenta il numero ottimale di cluster."
   ]
  },
  {
   "cell_type": "code",
   "execution_count": 10,
   "metadata": {},
   "outputs": [],
   "source": [
    "#X = df.to_numpy()"
   ]
  },
  {
   "cell_type": "code",
   "execution_count": 11,
   "metadata": {},
   "outputs": [],
   "source": [
    "categorical_columns = [0,1,2,3,4,5]"
   ]
  },
  {
   "cell_type": "code",
   "execution_count": 12,
   "metadata": {},
   "outputs": [],
   "source": [
    "cost = []\n",
    "K = range(1, 13) # Range di valori per k (numero di cluster)"
   ]
  },
  {
   "cell_type": "code",
   "execution_count": null,
   "metadata": {},
   "outputs": [],
   "source": []
  },
  {
   "cell_type": "code",
   "execution_count": null,
   "metadata": {},
   "outputs": [
    {
     "name": "stdout",
     "output_type": "stream",
     "text": [
      "Init: initializing centroids\n",
      "Init: initializing clusters\n",
      "Starting iterations...\n",
      "Run 1, iteration: 1/100, moves: 0, cost: 1839308.0\n",
      "Init: initializing centroids\n",
      "Init: initializing clusters\n",
      "Starting iterations...\n",
      "Run 2, iteration: 1/100, moves: 0, cost: 1839308.0\n",
      "Init: initializing centroids\n",
      "Init: initializing clusters\n",
      "Starting iterations...\n",
      "Run 3, iteration: 1/100, moves: 0, cost: 1839308.0\n",
      "Init: initializing centroids\n",
      "Init: initializing clusters\n",
      "Starting iterations...\n",
      "Run 4, iteration: 1/100, moves: 0, cost: 1839308.0\n",
      "Init: initializing centroids\n",
      "Init: initializing clusters\n",
      "Starting iterations...\n",
      "Run 5, iteration: 1/100, moves: 0, cost: 1839308.0\n",
      "Best run was number 1\n",
      "Init: initializing centroids\n",
      "Init: initializing clusters\n",
      "Starting iterations...\n",
      "Run 1, iteration: 1/100, moves: 161388, cost: 1620717.0\n",
      "Run 1, iteration: 2/100, moves: 11579, cost: 1620717.0\n",
      "Init: initializing centroids\n",
      "Init: initializing clusters\n",
      "Starting iterations...\n",
      "Run 2, iteration: 1/100, moves: 99203, cost: 1643331.0\n",
      "Run 2, iteration: 2/100, moves: 23816, cost: 1643331.0\n",
      "Init: initializing centroids\n",
      "Init: initializing clusters\n",
      "Starting iterations...\n",
      "Run 3, iteration: 1/100, moves: 55750, cost: 1637704.0\n",
      "Init: initializing centroids\n",
      "Init: initializing clusters\n",
      "Starting iterations...\n",
      "Run 4, iteration: 1/100, moves: 12057, cost: 1722092.0\n",
      "Init: initializing centroids\n",
      "Init: initializing clusters\n",
      "Starting iterations...\n",
      "Run 5, iteration: 1/100, moves: 187551, cost: 1622940.0\n",
      "Run 5, iteration: 2/100, moves: 47389, cost: 1622940.0\n",
      "Best run was number 1\n",
      "Init: initializing centroids\n",
      "Init: initializing clusters\n",
      "Starting iterations...\n",
      "Run 1, iteration: 1/100, moves: 106986, cost: 1569053.0\n",
      "Init: initializing centroids\n",
      "Init: initializing clusters\n",
      "Starting iterations...\n",
      "Run 2, iteration: 1/100, moves: 43877, cost: 1565509.0\n",
      "Init: initializing centroids\n",
      "Init: initializing clusters\n",
      "Starting iterations...\n",
      "Run 3, iteration: 1/100, moves: 137972, cost: 1565681.0\n",
      "Init: initializing centroids\n",
      "Init: initializing clusters\n",
      "Starting iterations...\n",
      "Run 4, iteration: 1/100, moves: 63069, cost: 1617668.0\n",
      "Init: initializing centroids\n",
      "Init: initializing clusters\n",
      "Starting iterations...\n",
      "Run 5, iteration: 1/100, moves: 172114, cost: 1557096.0\n",
      "Run 5, iteration: 2/100, moves: 2720, cost: 1557096.0\n",
      "Best run was number 5\n",
      "Init: initializing centroids\n",
      "Init: initializing clusters\n",
      "Starting iterations...\n",
      "Run 1, iteration: 1/100, moves: 175994, cost: 1522070.0\n",
      "Init: initializing centroids\n",
      "Init: initializing clusters\n",
      "Starting iterations...\n",
      "Run 2, iteration: 1/100, moves: 147775, cost: 1558189.0\n",
      "Run 2, iteration: 2/100, moves: 5668, cost: 1558189.0\n",
      "Init: initializing centroids\n",
      "Init: initializing clusters\n",
      "Starting iterations...\n",
      "Run 3, iteration: 1/100, moves: 100736, cost: 1518064.0\n",
      "Init: initializing centroids\n",
      "Init: initializing clusters\n",
      "Starting iterations...\n",
      "Run 4, iteration: 1/100, moves: 90370, cost: 1513422.0\n",
      "Run 4, iteration: 2/100, moves: 3128, cost: 1513422.0\n",
      "Init: initializing centroids\n",
      "Init: initializing clusters\n",
      "Starting iterations...\n",
      "Run 5, iteration: 1/100, moves: 117979, cost: 1489587.0\n",
      "Run 5, iteration: 2/100, moves: 12695, cost: 1489587.0\n",
      "Best run was number 5\n",
      "Init: initializing centroids\n",
      "Init: initializing clusters\n",
      "Starting iterations...\n",
      "Run 1, iteration: 1/100, moves: 159498, cost: 1464532.0\n",
      "Run 1, iteration: 2/100, moves: 31165, cost: 1458245.0\n",
      "Run 1, iteration: 3/100, moves: 2299, cost: 1458245.0\n",
      "Init: initializing centroids\n",
      "Init: initializing clusters\n",
      "Starting iterations...\n",
      "Run 2, iteration: 1/100, moves: 81995, cost: 1439512.0\n",
      "Run 2, iteration: 2/100, moves: 12301, cost: 1439512.0\n",
      "Init: initializing centroids\n",
      "Init: initializing clusters\n",
      "Starting iterations...\n",
      "Run 3, iteration: 1/100, moves: 115528, cost: 1455658.0\n",
      "Run 3, iteration: 2/100, moves: 1073, cost: 1455658.0\n",
      "Init: initializing centroids\n",
      "Init: initializing clusters\n",
      "Starting iterations...\n",
      "Run 4, iteration: 1/100, moves: 158840, cost: 1463710.0\n",
      "Run 4, iteration: 2/100, moves: 1458, cost: 1463710.0\n",
      "Init: initializing centroids\n",
      "Init: initializing clusters\n",
      "Starting iterations...\n",
      "Run 5, iteration: 1/100, moves: 145023, cost: 1460524.0\n",
      "Run 5, iteration: 2/100, moves: 25585, cost: 1460524.0\n",
      "Best run was number 2\n",
      "Init: initializing centroids\n",
      "Init: initializing clusters\n",
      "Starting iterations...\n",
      "Run 1, iteration: 1/100, moves: 75652, cost: 1487092.0\n",
      "Run 1, iteration: 2/100, moves: 72489, cost: 1472483.0\n",
      "Run 1, iteration: 3/100, moves: 28238, cost: 1465008.0\n",
      "Run 1, iteration: 4/100, moves: 4677, cost: 1465008.0\n",
      "Init: initializing centroids\n",
      "Init: initializing clusters\n",
      "Starting iterations...\n",
      "Run 2, iteration: 1/100, moves: 94551, cost: 1404774.0\n",
      "Run 2, iteration: 2/100, moves: 588, cost: 1404774.0\n",
      "Init: initializing centroids\n",
      "Init: initializing clusters\n",
      "Starting iterations...\n",
      "Run 3, iteration: 1/100, moves: 96644, cost: 1435200.0\n",
      "Init: initializing centroids\n",
      "Init: initializing clusters\n",
      "Starting iterations...\n",
      "Run 4, iteration: 1/100, moves: 131481, cost: 1431350.0\n",
      "Run 4, iteration: 2/100, moves: 10216, cost: 1431350.0\n",
      "Init: initializing centroids\n",
      "Init: initializing clusters\n",
      "Starting iterations...\n",
      "Run 5, iteration: 1/100, moves: 170263, cost: 1412368.0\n",
      "Run 5, iteration: 2/100, moves: 4708, cost: 1412368.0\n",
      "Best run was number 2\n",
      "Init: initializing centroids\n",
      "Init: initializing clusters\n",
      "Starting iterations...\n",
      "Run 1, iteration: 1/100, moves: 148189, cost: 1416348.0\n",
      "Run 1, iteration: 2/100, moves: 40190, cost: 1416348.0\n",
      "Init: initializing centroids\n",
      "Init: initializing clusters\n",
      "Starting iterations...\n",
      "Run 2, iteration: 1/100, moves: 180713, cost: 1400318.0\n",
      "Run 2, iteration: 2/100, moves: 7643, cost: 1400318.0\n",
      "Init: initializing centroids\n",
      "Init: initializing clusters\n",
      "Starting iterations...\n",
      "Run 3, iteration: 1/100, moves: 111398, cost: 1392000.0\n",
      "Run 3, iteration: 2/100, moves: 27311, cost: 1392000.0\n",
      "Init: initializing centroids\n",
      "Init: initializing clusters\n",
      "Starting iterations...\n",
      "Run 4, iteration: 1/100, moves: 124371, cost: 1383738.0\n",
      "Run 4, iteration: 2/100, moves: 34388, cost: 1380911.0\n",
      "Run 4, iteration: 3/100, moves: 386, cost: 1380911.0\n",
      "Init: initializing centroids\n",
      "Init: initializing clusters\n",
      "Starting iterations...\n",
      "Run 5, iteration: 1/100, moves: 121818, cost: 1398392.0\n",
      "Run 5, iteration: 2/100, moves: 3386, cost: 1398392.0\n",
      "Best run was number 4\n",
      "Init: initializing centroids\n",
      "Init: initializing clusters\n",
      "Starting iterations...\n",
      "Run 1, iteration: 1/100, moves: 126251, cost: 1400203.0\n",
      "Run 1, iteration: 2/100, moves: 19547, cost: 1400203.0\n",
      "Init: initializing centroids\n",
      "Init: initializing clusters\n",
      "Starting iterations...\n",
      "Run 2, iteration: 1/100, moves: 117150, cost: 1393741.0\n",
      "Init: initializing centroids\n",
      "Init: initializing clusters\n",
      "Starting iterations...\n",
      "Run 3, iteration: 1/100, moves: 131310, cost: 1392201.0\n",
      "Run 3, iteration: 2/100, moves: 9181, cost: 1392201.0\n",
      "Init: initializing centroids\n",
      "Init: initializing clusters\n",
      "Starting iterations...\n",
      "Run 4, iteration: 1/100, moves: 138301, cost: 1384973.0\n",
      "Run 4, iteration: 2/100, moves: 36009, cost: 1373509.0\n",
      "Run 4, iteration: 3/100, moves: 9451, cost: 1373509.0\n",
      "Init: initializing centroids\n",
      "Init: initializing clusters\n",
      "Starting iterations...\n",
      "Run 5, iteration: 1/100, moves: 76271, cost: 1365321.0\n",
      "Run 5, iteration: 2/100, moves: 43729, cost: 1365321.0\n",
      "Best run was number 5\n",
      "Init: initializing centroids\n",
      "Init: initializing clusters\n",
      "Starting iterations...\n",
      "Run 1, iteration: 1/100, moves: 85257, cost: 1378052.0\n",
      "Run 1, iteration: 2/100, moves: 31429, cost: 1364243.0\n",
      "Run 1, iteration: 3/100, moves: 713, cost: 1364243.0\n",
      "Init: initializing centroids\n",
      "Init: initializing clusters\n",
      "Starting iterations...\n",
      "Run 2, iteration: 1/100, moves: 149711, cost: 1340866.0\n",
      "Run 2, iteration: 2/100, moves: 2822, cost: 1340866.0\n",
      "Init: initializing centroids\n",
      "Init: initializing clusters\n",
      "Starting iterations...\n",
      "Run 3, iteration: 1/100, moves: 129173, cost: 1355851.0\n",
      "Run 3, iteration: 2/100, moves: 9903, cost: 1355851.0\n",
      "Init: initializing centroids\n",
      "Init: initializing clusters\n",
      "Starting iterations...\n",
      "Run 4, iteration: 1/100, moves: 20592, cost: 1358854.0\n",
      "Init: initializing centroids\n",
      "Init: initializing clusters\n",
      "Starting iterations...\n",
      "Run 5, iteration: 1/100, moves: 168225, cost: 1320671.0\n",
      "Run 5, iteration: 2/100, moves: 16178, cost: 1320671.0\n",
      "Best run was number 5\n",
      "Init: initializing centroids\n",
      "Init: initializing clusters\n",
      "Starting iterations...\n",
      "Run 1, iteration: 1/100, moves: 167312, cost: 1302920.0\n",
      "Run 1, iteration: 2/100, moves: 21201, cost: 1302920.0\n",
      "Init: initializing centroids\n",
      "Init: initializing clusters\n",
      "Starting iterations...\n",
      "Run 2, iteration: 1/100, moves: 85304, cost: 1356443.0\n",
      "Run 2, iteration: 2/100, moves: 4741, cost: 1356443.0\n",
      "Init: initializing centroids\n",
      "Init: initializing clusters\n",
      "Starting iterations...\n",
      "Run 3, iteration: 1/100, moves: 121751, cost: 1335934.0\n",
      "Run 3, iteration: 2/100, moves: 9097, cost: 1335934.0\n",
      "Init: initializing centroids\n",
      "Init: initializing clusters\n",
      "Starting iterations...\n",
      "Run 4, iteration: 1/100, moves: 171409, cost: 1330500.0\n",
      "Run 4, iteration: 2/100, moves: 8915, cost: 1330500.0\n",
      "Init: initializing centroids\n",
      "Init: initializing clusters\n",
      "Starting iterations...\n",
      "Run 5, iteration: 1/100, moves: 108671, cost: 1319265.0\n",
      "Run 5, iteration: 2/100, moves: 9930, cost: 1319265.0\n",
      "Best run was number 1\n",
      "Init: initializing centroids\n",
      "Init: initializing clusters\n",
      "Starting iterations...\n",
      "Run 1, iteration: 1/100, moves: 198498, cost: 1315840.0\n",
      "Run 1, iteration: 2/100, moves: 59990, cost: 1312719.0\n",
      "Run 1, iteration: 3/100, moves: 188, cost: 1312719.0\n",
      "Init: initializing centroids\n",
      "Init: initializing clusters\n",
      "Starting iterations...\n",
      "Run 2, iteration: 1/100, moves: 94971, cost: 1339486.0\n",
      "Run 2, iteration: 2/100, moves: 7933, cost: 1339486.0\n",
      "Init: initializing centroids\n",
      "Init: initializing clusters\n",
      "Starting iterations...\n",
      "Run 3, iteration: 1/100, moves: 65771, cost: 1329403.0\n",
      "Init: initializing centroids\n",
      "Init: initializing clusters\n",
      "Starting iterations...\n",
      "Run 4, iteration: 1/100, moves: 52916, cost: 1312887.0\n",
      "Run 4, iteration: 2/100, moves: 20518, cost: 1312887.0\n",
      "Init: initializing centroids\n",
      "Init: initializing clusters\n",
      "Starting iterations...\n",
      "Run 5, iteration: 1/100, moves: 141366, cost: 1311743.0\n",
      "Run 5, iteration: 2/100, moves: 8298, cost: 1311743.0\n",
      "Best run was number 5\n",
      "Init: initializing centroids\n",
      "Init: initializing clusters\n",
      "Starting iterations...\n",
      "Run 1, iteration: 1/100, moves: 101282, cost: 1299535.0\n",
      "Run 1, iteration: 2/100, moves: 2482, cost: 1299535.0\n",
      "Init: initializing centroids\n",
      "Init: initializing clusters\n",
      "Starting iterations...\n",
      "Run 2, iteration: 1/100, moves: 69995, cost: 1328261.0\n",
      "Init: initializing centroids\n",
      "Init: initializing clusters\n",
      "Starting iterations...\n",
      "Run 3, iteration: 1/100, moves: 110499, cost: 1327144.0\n",
      "Run 3, iteration: 2/100, moves: 5616, cost: 1327144.0\n",
      "Init: initializing centroids\n",
      "Init: initializing clusters\n",
      "Starting iterations...\n",
      "Run 4, iteration: 1/100, moves: 87007, cost: 1314094.0\n",
      "Run 4, iteration: 2/100, moves: 5512, cost: 1314094.0\n",
      "Init: initializing centroids\n",
      "Init: initializing clusters\n",
      "Starting iterations...\n",
      "Run 5, iteration: 1/100, moves: 75917, cost: 1341148.0\n",
      "Best run was number 1\n"
     ]
    }
   ],
   "source": [
    "for numero_cluster in K:\n",
    "    kmodes = KModes(n_clusters=numero_cluster, init='Huang', n_init=5, verbose=1)\n",
    "    kmodes.fit_predict(df)\n",
    "    cost.append(kmodes.cost_) # Calcolo del costo"
   ]
  },
  {
   "cell_type": "code",
   "execution_count": 48,
   "metadata": {},
   "outputs": [],
   "source": [
    "# for numero_cluster in K:\n",
    "#     kproto = KPrototypes(n_clusters=numero_cluster, init='Huang', n_init = 3 , verbose=1)\n",
    "#     kproto.fit_predict(df, categorical = categorical_columns)\n",
    "#     cost.append(kproto.cost_)"
   ]
  },
  {
   "cell_type": "code",
   "execution_count": 49,
   "metadata": {},
   "outputs": [
    {
     "data": {
      "image/png": "[encoded data removed]",
      "text/plain": [
       "<Figure size 640x480 with 1 Axes>"
      ]
     },
     "metadata": {},
     "output_type": "display_data"
    }
   ],
   "source": [
    "# Grafica il costo per ogni k\n",
    "plt.plot(K, cost, 'bx-')\n",
    "plt.xlabel('Number of clusters (k)')\n",
    "plt.ylabel('Cost')\n",
    "plt.title('Elbow Method For Optimal k')\n",
    "plt.savefig('../../data/graph/elbow_method.png')\n",
    "plt.show()"
   ]
  },
  {
   "cell_type": "code",
   "execution_count": null,
   "metadata": {},
   "outputs": [],
   "source": []
  },
  {
   "cell_type": "code",
   "execution_count": null,
   "metadata": {},
   "outputs": [],
   "source": []
  },
  {
   "cell_type": "code",
   "execution_count": 13,
   "metadata": {},
   "outputs": [],
   "source": [
    "kmodes = KModes(n_clusters=4, init='Huang', n_init=10, verbose=1)"
   ]
  },
  {
   "cell_type": "code",
   "execution_count": 14,
   "metadata": {},
   "outputs": [
    {
     "name": "stdout",
     "output_type": "stream",
     "text": [
      "Init: initializing centroids\n",
      "Init: initializing clusters\n",
      "Starting iterations...\n",
      "Run 1, iteration: 1/100, moves: 39236, cost: 1523403.0\n",
      "Init: initializing centroids\n",
      "Init: initializing clusters\n",
      "Starting iterations...\n",
      "Run 2, iteration: 1/100, moves: 157615, cost: 1487982.0\n",
      "Run 2, iteration: 2/100, moves: 45716, cost: 1487982.0\n",
      "Init: initializing centroids\n",
      "Init: initializing clusters\n",
      "Starting iterations...\n",
      "Run 3, iteration: 1/100, moves: 170048, cost: 1507698.0\n",
      "Init: initializing centroids\n",
      "Init: initializing clusters\n",
      "Starting iterations...\n",
      "Run 4, iteration: 1/100, moves: 124638, cost: 1559583.0\n",
      "Run 4, iteration: 2/100, moves: 4839, cost: 1559583.0\n",
      "Init: initializing centroids\n",
      "Init: initializing clusters\n",
      "Starting iterations...\n",
      "Run 5, iteration: 1/100, moves: 88699, cost: 1505299.0\n",
      "Run 5, iteration: 2/100, moves: 19094, cost: 1496915.0\n",
      "Run 5, iteration: 3/100, moves: 4651, cost: 1496915.0\n",
      "Init: initializing centroids\n",
      "Init: initializing clusters\n",
      "Starting iterations...\n",
      "Run 6, iteration: 1/100, moves: 121082, cost: 1530037.0\n",
      "Run 6, iteration: 2/100, moves: 2526, cost: 1530037.0\n",
      "Init: initializing centroids\n",
      "Init: initializing clusters\n",
      "Starting iterations...\n",
      "Run 7, iteration: 1/100, moves: 143552, cost: 1496724.0\n",
      "Run 7, iteration: 2/100, moves: 13835, cost: 1496724.0\n",
      "Init: initializing centroids\n",
      "Init: initializing clusters\n",
      "Starting iterations...\n",
      "Run 8, iteration: 1/100, moves: 141779, cost: 1528441.0\n",
      "Run 8, iteration: 2/100, moves: 25863, cost: 1528441.0\n",
      "Init: initializing centroids\n",
      "Init: initializing clusters\n",
      "Starting iterations...\n",
      "Run 9, iteration: 1/100, moves: 97987, cost: 1536513.0\n",
      "Run 9, iteration: 2/100, moves: 3902, cost: 1536513.0\n",
      "Init: initializing centroids\n",
      "Init: initializing clusters\n",
      "Starting iterations...\n",
      "Run 10, iteration: 1/100, moves: 141469, cost: 1520190.0\n",
      "Best run was number 2\n"
     ]
    }
   ],
   "source": [
    "clusters = kmodes.fit_predict(df)"
   ]
  },
  {
   "cell_type": "code",
   "execution_count": null,
   "metadata": {},
   "outputs": [],
   "source": []
  },
  {
   "cell_type": "code",
   "execution_count": null,
   "metadata": {},
   "outputs": [],
   "source": []
  },
  {
   "cell_type": "markdown",
   "metadata": {},
   "source": [
    "## KPrototypes\n"
   ]
  },
  {
   "cell_type": "markdown",
   "metadata": {},
   "source": [
    "\n",
    "- n_clusters=3`: Questo è il numero di cluster che l'algoritmo cercherà di identificare nei tuoi dati. In questo caso, stai chiedendo all'algoritmo di trovare 3 cluster.\n",
    "- init='Huang'`: Questo è il metodo di inizializzazione che l'algoritmo utilizzerà per inizializzare i centroidi. In questo caso, stai utilizzando il metodo di inizializzazione di Huang.\n",
    "- n_init=5`: Questo è il numero di volte che l'algoritmo verrà eseguito con diverse inizializzazioni dei centroidi. L'algoritmo restituirà il modello con la migliore inizializzazione.\n",
    "- verbose=1`: Questo è il livello di verbosità dell'algoritmo. Più alto è il valore, più informazioni verranno stampate a schermo durante l'esecuzione dell'algoritmo."
   ]
  },
  {
   "cell_type": "code",
   "execution_count": 15,
   "metadata": {},
   "outputs": [],
   "source": [
    "# Crea un'istanza dell'algoritmo K-Prototype\n",
    "# kproto = KPrototypes(n_clusters=6, init='Huang', n_init=5, verbose=1)\n"
   ]
  },
  {
   "cell_type": "code",
   "execution_count": 16,
   "metadata": {},
   "outputs": [],
   "source": [
    "# Adatta l'algoritmo ai dati\n",
    "# Devi specificare le colonne dei dati categorici\n",
    "# clusters = kproto.fit_predict(df, categorical=[0, 1, 2])  # sostituisci con le tue colonne categoriche"
   ]
  },
  {
   "cell_type": "code",
   "execution_count": 17,
   "metadata": {},
   "outputs": [
    {
     "data": {
      "text/plain": [
       "array([0, 1, 2, 3], dtype=uint16)"
      ]
     },
     "execution_count": 17,
     "metadata": {},
     "output_type": "execute_result"
    }
   ],
   "source": [
    "np.unique(clusters) "
   ]
  },
  {
   "cell_type": "code",
   "execution_count": 18,
   "metadata": {},
   "outputs": [],
   "source": [
    "df['cluster'] = clusters"
   ]
  },
  {
   "cell_type": "code",
   "execution_count": 19,
   "metadata": {},
   "outputs": [],
   "source": [
    "df.to_parquet('../../data/processed/clustered_data.parquet')"
   ]
  },
  {
   "cell_type": "code",
   "execution_count": 20,
   "metadata": {},
   "outputs": [
    {
     "data": {
      "text/html": [
       "<div>\n",
       "<style scoped>\n",
       "    .dataframe tbody tr th:only-of-type {\n",
       "        vertical-align: middle;\n",
       "    }\n",
       "\n",
       "    .dataframe tbody tr th {\n",
       "        vertical-align: top;\n",
       "    }\n",
       "\n",
       "    .dataframe thead th {\n",
       "        text-align: right;\n",
       "    }\n",
       "</style>\n",
       "<table border=\"1\" class=\"dataframe\">\n",
       "  <thead>\n",
       "    <tr style=\"text-align: right;\">\n",
       "      <th></th>\n",
       "      <th>regione_residenza</th>\n",
       "      <th>descrizione_attivita</th>\n",
       "      <th>tipologia_struttura_erogazione</th>\n",
       "      <th>tipologia_professionista_sanitario</th>\n",
       "      <th>fascia_eta</th>\n",
       "      <th>incremento_teleassistenze</th>\n",
       "      <th>cluster</th>\n",
       "    </tr>\n",
       "  </thead>\n",
       "  <tbody>\n",
       "    <tr>\n",
       "      <th>0</th>\n",
       "      <td>Piemonte</td>\n",
       "      <td>Insegnamento al paziente e/o alla sua famiglia...</td>\n",
       "      <td>Azienda Ospedaliera</td>\n",
       "      <td>Infermiere</td>\n",
       "      <td>36-47</td>\n",
       "      <td>high_increment</td>\n",
       "      <td>2</td>\n",
       "    </tr>\n",
       "    <tr>\n",
       "      <th>1</th>\n",
       "      <td>Toscana</td>\n",
       "      <td>Prestazione infermieristica connessa alla nece...</td>\n",
       "      <td>Azienda Ospedaliera Universitaria</td>\n",
       "      <td>Infermiere</td>\n",
       "      <td>48-59</td>\n",
       "      <td>high_increment</td>\n",
       "      <td>0</td>\n",
       "    </tr>\n",
       "    <tr>\n",
       "      <th>2</th>\n",
       "      <td>Emilia romagna</td>\n",
       "      <td>Prestazione dietistica</td>\n",
       "      <td>Ospedale a gestione diretta</td>\n",
       "      <td>Dietista</td>\n",
       "      <td>36-47</td>\n",
       "      <td>high_increment</td>\n",
       "      <td>0</td>\n",
       "    </tr>\n",
       "    <tr>\n",
       "      <th>3</th>\n",
       "      <td>Campania</td>\n",
       "      <td>Psicoterapia individuale</td>\n",
       "      <td>Azienda Ospedaliera</td>\n",
       "      <td>Psicologo</td>\n",
       "      <td>48-59</td>\n",
       "      <td>high_increment</td>\n",
       "      <td>2</td>\n",
       "    </tr>\n",
       "    <tr>\n",
       "      <th>4</th>\n",
       "      <td>Abruzzo</td>\n",
       "      <td>Prestazione dietistica</td>\n",
       "      <td>Ospedale a gestione diretta</td>\n",
       "      <td>Dietista</td>\n",
       "      <td>60-69</td>\n",
       "      <td>high_increment</td>\n",
       "      <td>0</td>\n",
       "    </tr>\n",
       "  </tbody>\n",
       "</table>\n",
       "</div>"
      ],
      "text/plain": [
       "  regione_residenza                               descrizione_attivita  \\\n",
       "0          Piemonte  Insegnamento al paziente e/o alla sua famiglia...   \n",
       "1           Toscana  Prestazione infermieristica connessa alla nece...   \n",
       "2    Emilia romagna                             Prestazione dietistica   \n",
       "3          Campania                           Psicoterapia individuale   \n",
       "4           Abruzzo                             Prestazione dietistica   \n",
       "\n",
       "      tipologia_struttura_erogazione tipologia_professionista_sanitario  \\\n",
       "0                Azienda Ospedaliera                         Infermiere   \n",
       "1  Azienda Ospedaliera Universitaria                         Infermiere   \n",
       "2        Ospedale a gestione diretta                           Dietista   \n",
       "3                Azienda Ospedaliera                          Psicologo   \n",
       "4        Ospedale a gestione diretta                           Dietista   \n",
       "\n",
       "  fascia_eta incremento_teleassistenze  cluster  \n",
       "0      36-47            high_increment        2  \n",
       "1      48-59            high_increment        0  \n",
       "2      36-47            high_increment        0  \n",
       "3      48-59            high_increment        2  \n",
       "4      60-69            high_increment        0  "
      ]
     },
     "execution_count": 20,
     "metadata": {},
     "output_type": "execute_result"
    }
   ],
   "source": [
    "df.head()"
   ]
  },
  {
   "cell_type": "code",
   "execution_count": null,
   "metadata": {},
   "outputs": [],
   "source": []
  },
  {
   "cell_type": "markdown",
   "metadata": {},
   "source": [
    "# Calculate Purity"
   ]
  },
  {
   "cell_type": "code",
   "execution_count": 21,
   "metadata": {},
   "outputs": [],
   "source": [
    "true_labels = df_labeled.incremento_teleassistenze.to_numpy()"
   ]
  },
  {
   "cell_type": "code",
   "execution_count": 22,
   "metadata": {},
   "outputs": [
    {
     "data": {
      "text/plain": [
       "array(['high_increment', 'high_increment', 'high_increment', ...,\n",
       "       'high_increment', 'high_increment', 'high_increment'], dtype=object)"
      ]
     },
     "execution_count": 22,
     "metadata": {},
     "output_type": "execute_result"
    }
   ],
   "source": [
    "true_labels"
   ]
  },
  {
   "cell_type": "code",
   "execution_count": 23,
   "metadata": {},
   "outputs": [],
   "source": [
    "from collections import Counter"
   ]
  },
  {
   "cell_type": "code",
   "execution_count": 24,
   "metadata": {},
   "outputs": [],
   "source": [
    "def calculate_purity(clusters, true_labels):\n",
    "    print('Clusters:', clusters)\n",
    "\n",
    "    N = len(true_labels) # number of data points\n",
    "    purity_sum = 0\n",
    "\n",
    "    for cluster_id in np.unique(clusters):\n",
    "        # Obtain the indices of data points in the cluster\n",
    "        print(cluster_id)\n",
    "\n",
    "        cluster_indices = np.where(clusters == cluster_id)[0] # [0] to get the array from the tuple, as np.where returns a tuple\n",
    "        print('Cluster indices:', cluster_indices)\n",
    "\n",
    "        # Obtain the true labels of data points in the cluster\n",
    "        cluster_labels = true_labels[cluster_indices]\n",
    "        print('Cluster labels', cluster_labels)\n",
    "\n",
    "        # Count the number of data points in each class\n",
    "        most_common_label, count = Counter(cluster_labels).most_common(1)[0] # most_common returns a list of tuples, we take the first one\n",
    "        print(f'Most common label: {most_common_label}, count: {count}')\n",
    "\n",
    "        purity_sum += count\n",
    "        print('\\n')\n",
    "\n",
    "    purity = purity_sum / N\n",
    "    return purity\n",
    "\n"
   ]
  },
  {
   "cell_type": "code",
   "execution_count": 25,
   "metadata": {},
   "outputs": [
    {
     "name": "stdout",
     "output_type": "stream",
     "text": [
      "Clusters: [2 0 0 ... 0 0 0]\n",
      "0\n",
      "Cluster indices: [     1      2      4 ... 460506 460507 460508]\n",
      "Cluster labels ['high_increment' 'high_increment' 'high_increment' ... 'high_increment'\n",
      " 'high_increment' 'high_increment']\n",
      "Most common label: high_increment, count: 162436\n",
      "\n",
      "\n",
      "1\n",
      "Cluster indices: [    35     50     56 ... 460499 460501 460504]\n",
      "Cluster labels ['high_increment' 'high_increment' 'medium_increment' ... 'low_increment'\n",
      " 'low_increment' 'constant_increment']\n",
      "Most common label: low_increment, count: 93819\n",
      "\n",
      "\n",
      "2\n",
      "Cluster indices: [     0      3     12 ... 460469 460485 460502]\n",
      "Cluster labels ['high_increment' 'high_increment' 'high_increment' ... 'medium_increment'\n",
      " 'low_increment' 'low_increment']\n",
      "Most common label: medium_increment, count: 27304\n",
      "\n",
      "\n",
      "3\n",
      "Cluster indices: [    96    303    512 ... 460500 460503 460505]\n",
      "Cluster labels ['medium_increment' 'high_increment' 'high_increment' ... 'low_increment'\n",
      " 'low_increment' 'low_increment']\n",
      "Most common label: low_increment, count: 56033\n",
      "\n",
      "\n",
      "Purity is: 0.7374274987025227\n"
     ]
    }
   ],
   "source": [
    "purity = calculate_purity(clusters, true_labels)\n",
    "print('Purity is:', purity)"
   ]
  },
  {
   "cell_type": "code",
   "execution_count": null,
   "metadata": {},
   "outputs": [],
   "source": []
  },
  {
   "cell_type": "code",
   "execution_count": null,
   "metadata": {},
   "outputs": [],
   "source": []
  }
 ],
 "metadata": {
  "kernelspec": {
   "display_name": "venv",
   "language": "python",
   "name": "python3"
  },
  "language_info": {
   "codemirror_mode": {
    "name": "ipython",
    "version": 3
   },
   "file_extension": ".py",
   "mimetype": "text/x-python",
   "name": "python",
   "nbconvert_exporter": "python",
   "pygments_lexer": "ipython3",
   "version": "3.10.12"
  }
 },
 "nbformat": 4,
 "nbformat_minor": 2
}
