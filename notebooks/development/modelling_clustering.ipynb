{
 "cells": [
  {
   "cell_type": "code",
   "execution_count": 6,
   "metadata": {},
   "outputs": [],
   "source": [
    "import pandas as pd\n",
    "import numpy as np\n",
    "from kmodes.kprototypes import KPrototypes\n",
    "from kmodes.kmodes import KModes\n",
    "import matplotlib.pyplot as plt\n",
    "# from sklearn.decomposition import PCA"
   ]
  },
  {
   "cell_type": "code",
   "execution_count": 7,
   "metadata": {},
   "outputs": [],
   "source": [
    "df_labeled = pd.read_parquet('../../data/processed/ds_labeled.parquet')"
   ]
  },
  {
   "cell_type": "code",
   "execution_count": 8,
   "metadata": {},
   "outputs": [
    {
     "name": "stdout",
     "output_type": "stream",
     "text": [
      "<class 'pandas.core.frame.DataFrame'>\n",
      "RangeIndex: 460509 entries, 0 to 460508\n",
      "Data columns (total 17 columns):\n",
      " #   Column                              Non-Null Count   Dtype              \n",
      "---  ------                              --------------   -----              \n",
      " 0   id_prenotazione                     460509 non-null  object             \n",
      " 1   id_paziente                         460509 non-null  object             \n",
      " 2   data_nascita                        460509 non-null  datetime64[ns, UTC]\n",
      " 3   sesso                               460509 non-null  object             \n",
      " 4   regione_residenza                   460509 non-null  object             \n",
      " 5   tipologia_servizio                  460509 non-null  object             \n",
      " 6   descrizione_attivita                460509 non-null  object             \n",
      " 7   data_contatto                       460509 non-null  object             \n",
      " 8   tipologia_struttura_erogazione      460509 non-null  object             \n",
      " 9   id_professionista_sanitario         460509 non-null  object             \n",
      " 10  tipologia_professionista_sanitario  460509 non-null  object             \n",
      " 11  data_erogazione                     460509 non-null  datetime64[ns, UTC]\n",
      " 12  durata_erogazione_sec               460509 non-null  int64              \n",
      " 13  fascia_eta                          460509 non-null  object             \n",
      " 14  anno                                460509 non-null  int32              \n",
      " 15  quadrimestre                        460509 non-null  int32              \n",
      " 16  incremento_teleassistenze           460509 non-null  object             \n",
      "dtypes: datetime64[ns, UTC](2), int32(2), int64(1), object(12)\n",
      "memory usage: 56.2+ MB\n"
     ]
    }
   ],
   "source": [
    "df_labeled.info()"
   ]
  },
  {
   "cell_type": "code",
   "execution_count": 9,
   "metadata": {},
   "outputs": [],
   "source": [
    "cols_to_drop = df_labeled.columns[[0,1,2,3,5,6,7,9,11,12,14,15]]\n",
    "df = df_labeled.drop(columns=cols_to_drop)"
   ]
  },
  {
   "cell_type": "markdown",
   "metadata": {},
   "source": []
  },
  {
   "cell_type": "code",
   "execution_count": 10,
   "metadata": {},
   "outputs": [
    {
     "name": "stdout",
     "output_type": "stream",
     "text": [
      "<class 'pandas.core.frame.DataFrame'>\n",
      "RangeIndex: 460509 entries, 0 to 460508\n",
      "Data columns (total 5 columns):\n",
      " #   Column                              Non-Null Count   Dtype \n",
      "---  ------                              --------------   ----- \n",
      " 0   regione_residenza                   460509 non-null  object\n",
      " 1   tipologia_struttura_erogazione      460509 non-null  object\n",
      " 2   tipologia_professionista_sanitario  460509 non-null  object\n",
      " 3   fascia_eta                          460509 non-null  object\n",
      " 4   incremento_teleassistenze           460509 non-null  object\n",
      "dtypes: object(5)\n",
      "memory usage: 17.6+ MB\n"
     ]
    }
   ],
   "source": [
    "df.info()"
   ]
  },
  {
   "cell_type": "markdown",
   "metadata": {},
   "source": [
    "## Elbow Method\n",
    "\n",
    "L'Elbow Method consiste nel:\n",
    "\n",
    "1. Eseguire K-Prototypes per una gamma di valori di \n",
    "𝑘 (ad esempio, da 1 a 10).\n",
    "2. Calcolare il \"Costo\" (o l'inertia): La funzione di costo (inertia) misura la somma delle distanze tra i punti dati e i loro rispettivi centroidi.\n",
    "3. Tracciare il Costo: Tracciare il costo rispetto ai diversi valori di \n",
    "𝑘.\n",
    "4. Identificare l'Elbow (gomito): Il punto in cui il tasso di riduzione della funzione di costo inizia a diminuire significativamente. Questo punto rappresenta il numero ottimale di cluster."
   ]
  },
  {
   "cell_type": "code",
   "execution_count": 11,
   "metadata": {},
   "outputs": [],
   "source": [
    "#X = df.to_numpy()"
   ]
  },
  {
   "cell_type": "code",
   "execution_count": 12,
   "metadata": {},
   "outputs": [],
   "source": [
    "categorical_columns = [0,1,2,3,4]"
   ]
  },
  {
   "cell_type": "code",
   "execution_count": 13,
   "metadata": {},
   "outputs": [],
   "source": [
    "cost = []\n",
    "K = range(1, 13) # Range di valori per k (numero di cluster)"
   ]
  },
  {
   "cell_type": "code",
   "execution_count": null,
   "metadata": {},
   "outputs": [],
   "source": []
  },
  {
   "cell_type": "code",
   "execution_count": 14,
   "metadata": {},
   "outputs": [
    {
     "name": "stdout",
     "output_type": "stream",
     "text": [
      "Init: initializing centroids\n",
      "Init: initializing clusters\n",
      "Starting iterations...\n",
      "Run 1, iteration: 1/100, moves: 0, cost: 1400832.0\n",
      "Init: initializing centroids\n",
      "Init: initializing clusters\n",
      "Starting iterations...\n",
      "Run 2, iteration: 1/100, moves: 0, cost: 1400832.0\n",
      "Init: initializing centroids\n",
      "Init: initializing clusters\n",
      "Starting iterations...\n",
      "Run 3, iteration: 1/100, moves: 0, cost: 1400832.0\n",
      "Init: initializing centroids\n",
      "Init: initializing clusters\n",
      "Starting iterations...\n",
      "Run 4, iteration: 1/100, moves: 0, cost: 1400832.0\n",
      "Init: initializing centroids\n",
      "Init: initializing clusters\n",
      "Starting iterations...\n",
      "Run 5, iteration: 1/100, moves: 0, cost: 1400832.0\n",
      "Best run was number 1\n",
      "Init: initializing centroids\n",
      "Init: initializing clusters\n",
      "Starting iterations...\n",
      "Run 1, iteration: 1/100, moves: 135993, cost: 1211968.0\n",
      "Init: initializing centroids\n",
      "Init: initializing clusters\n",
      "Starting iterations...\n",
      "Run 2, iteration: 1/100, moves: 62817, cost: 1266384.0\n",
      "Init: initializing centroids\n",
      "Init: initializing clusters\n",
      "Starting iterations...\n",
      "Run 3, iteration: 1/100, moves: 67833, cost: 1250550.0\n",
      "Init: initializing centroids\n",
      "Init: initializing clusters\n",
      "Starting iterations...\n",
      "Run 4, iteration: 1/100, moves: 12823, cost: 1190947.0\n",
      "Init: initializing centroids\n",
      "Init: initializing clusters\n",
      "Starting iterations...\n",
      "Run 5, iteration: 1/100, moves: 86079, cost: 1205840.0\n",
      "Best run was number 4\n",
      "Init: initializing centroids\n",
      "Init: initializing clusters\n",
      "Starting iterations...\n",
      "Run 1, iteration: 1/100, moves: 84401, cost: 1092472.0\n",
      "Init: initializing centroids\n",
      "Init: initializing clusters\n",
      "Starting iterations...\n",
      "Run 2, iteration: 1/100, moves: 44291, cost: 1180041.0\n",
      "Init: initializing centroids\n",
      "Init: initializing clusters\n",
      "Starting iterations...\n",
      "Run 3, iteration: 1/100, moves: 38995, cost: 1235133.0\n",
      "Run 3, iteration: 2/100, moves: 3205, cost: 1235133.0\n",
      "Init: initializing centroids\n",
      "Init: initializing clusters\n",
      "Starting iterations...\n",
      "Run 4, iteration: 1/100, moves: 131625, cost: 1126856.0\n",
      "Init: initializing centroids\n",
      "Init: initializing clusters\n",
      "Starting iterations...\n",
      "Run 5, iteration: 1/100, moves: 155628, cost: 1136361.0\n",
      "Run 5, iteration: 2/100, moves: 24554, cost: 1136361.0\n",
      "Best run was number 1\n",
      "Init: initializing centroids\n",
      "Init: initializing clusters\n",
      "Starting iterations...\n",
      "Run 1, iteration: 1/100, moves: 198878, cost: 1050252.0\n",
      "Init: initializing centroids\n",
      "Init: initializing clusters\n",
      "Starting iterations...\n",
      "Run 2, iteration: 1/100, moves: 127634, cost: 1054057.0\n",
      "Run 2, iteration: 2/100, moves: 4796, cost: 1054057.0\n",
      "Init: initializing centroids\n",
      "Init: initializing clusters\n",
      "Starting iterations...\n",
      "Run 3, iteration: 1/100, moves: 70828, cost: 1094496.0\n",
      "Init: initializing centroids\n",
      "Init: initializing clusters\n",
      "Starting iterations...\n",
      "Run 4, iteration: 1/100, moves: 88490, cost: 1035911.0\n",
      "Init: initializing centroids\n",
      "Init: initializing clusters\n",
      "Starting iterations...\n",
      "Run 5, iteration: 1/100, moves: 130078, cost: 1072321.0\n",
      "Run 5, iteration: 2/100, moves: 46973, cost: 1072321.0\n",
      "Best run was number 4\n",
      "Init: initializing centroids\n",
      "Init: initializing clusters\n",
      "Starting iterations...\n",
      "Run 1, iteration: 1/100, moves: 112937, cost: 1057638.0\n",
      "Init: initializing centroids\n",
      "Init: initializing clusters\n",
      "Starting iterations...\n",
      "Run 2, iteration: 1/100, moves: 162819, cost: 1055528.0\n",
      "Init: initializing centroids\n",
      "Init: initializing clusters\n",
      "Starting iterations...\n",
      "Run 3, iteration: 1/100, moves: 0, cost: 1051619.0\n",
      "Init: initializing centroids\n",
      "Init: initializing clusters\n",
      "Starting iterations...\n",
      "Run 4, iteration: 1/100, moves: 131026, cost: 1018126.0\n",
      "Init: initializing centroids\n",
      "Init: initializing clusters\n",
      "Starting iterations...\n",
      "Run 5, iteration: 1/100, moves: 39481, cost: 1083564.0\n",
      "Best run was number 4\n",
      "Init: initializing centroids\n",
      "Init: initializing clusters\n",
      "Starting iterations...\n",
      "Run 1, iteration: 1/100, moves: 87296, cost: 1050892.0\n",
      "Init: initializing centroids\n",
      "Init: initializing clusters\n",
      "Starting iterations...\n",
      "Run 2, iteration: 1/100, moves: 0, cost: 1051638.0\n",
      "Init: initializing centroids\n",
      "Init: initializing clusters\n",
      "Starting iterations...\n",
      "Run 3, iteration: 1/100, moves: 176124, cost: 977125.0\n",
      "Init: initializing centroids\n",
      "Init: initializing clusters\n",
      "Starting iterations...\n",
      "Run 4, iteration: 1/100, moves: 92386, cost: 1049239.0\n",
      "Init: initializing centroids\n",
      "Init: initializing clusters\n",
      "Starting iterations...\n",
      "Run 5, iteration: 1/100, moves: 98727, cost: 1033940.0\n",
      "Best run was number 3\n",
      "Init: initializing centroids\n",
      "Init: initializing clusters\n",
      "Starting iterations...\n",
      "Run 1, iteration: 1/100, moves: 138477, cost: 1008662.0\n",
      "Init: initializing centroids\n",
      "Init: initializing clusters\n",
      "Starting iterations...\n",
      "Run 2, iteration: 1/100, moves: 99242, cost: 949744.0\n",
      "Init: initializing centroids\n",
      "Init: initializing clusters\n",
      "Starting iterations...\n",
      "Run 3, iteration: 1/100, moves: 103794, cost: 969924.0\n",
      "Init: initializing centroids\n",
      "Init: initializing clusters\n",
      "Starting iterations...\n",
      "Run 4, iteration: 1/100, moves: 204788, cost: 1012504.0\n",
      "Run 4, iteration: 2/100, moves: 19292, cost: 1012504.0\n",
      "Init: initializing centroids\n",
      "Init: initializing clusters\n",
      "Starting iterations...\n",
      "Run 5, iteration: 1/100, moves: 54343, cost: 987465.0\n",
      "Run 5, iteration: 2/100, moves: 35997, cost: 987465.0\n",
      "Best run was number 2\n",
      "Init: initializing centroids\n",
      "Init: initializing clusters\n",
      "Starting iterations...\n",
      "Run 1, iteration: 1/100, moves: 138904, cost: 957770.0\n",
      "Init: initializing centroids\n",
      "Init: initializing clusters\n",
      "Starting iterations...\n",
      "Run 2, iteration: 1/100, moves: 18114, cost: 970821.0\n",
      "Init: initializing centroids\n",
      "Init: initializing clusters\n",
      "Starting iterations...\n",
      "Run 3, iteration: 1/100, moves: 47568, cost: 962114.0\n",
      "Run 3, iteration: 2/100, moves: 10194, cost: 962114.0\n",
      "Init: initializing centroids\n",
      "Init: initializing clusters\n",
      "Starting iterations...\n",
      "Run 4, iteration: 1/100, moves: 83197, cost: 958422.0\n",
      "Init: initializing centroids\n",
      "Init: initializing clusters\n",
      "Starting iterations...\n",
      "Run 5, iteration: 1/100, moves: 107575, cost: 931732.0\n",
      "Best run was number 5\n",
      "Init: initializing centroids\n",
      "Init: initializing clusters\n",
      "Starting iterations...\n",
      "Run 1, iteration: 1/100, moves: 143878, cost: 952762.0\n",
      "Init: initializing centroids\n",
      "Init: initializing clusters\n",
      "Starting iterations...\n",
      "Run 2, iteration: 1/100, moves: 54708, cost: 943369.0\n",
      "Run 2, iteration: 2/100, moves: 46582, cost: 939708.0\n",
      "Run 2, iteration: 3/100, moves: 12672, cost: 939708.0\n",
      "Init: initializing centroids\n",
      "Init: initializing clusters\n",
      "Starting iterations...\n",
      "Run 3, iteration: 1/100, moves: 60589, cost: 962264.0\n",
      "Init: initializing centroids\n",
      "Init: initializing clusters\n",
      "Starting iterations...\n",
      "Run 4, iteration: 1/100, moves: 145391, cost: 900491.0\n",
      "Run 4, iteration: 2/100, moves: 6888, cost: 900491.0\n",
      "Init: initializing centroids\n",
      "Init: initializing clusters\n",
      "Starting iterations...\n",
      "Run 5, iteration: 1/100, moves: 174541, cost: 943778.0\n",
      "Best run was number 4\n",
      "Init: initializing centroids\n",
      "Init: initializing clusters\n",
      "Starting iterations...\n",
      "Run 1, iteration: 1/100, moves: 27932, cost: 1003791.0\n",
      "Run 1, iteration: 2/100, moves: 6535, cost: 1003791.0\n",
      "Init: initializing centroids\n",
      "Init: initializing clusters\n",
      "Starting iterations...\n",
      "Run 2, iteration: 1/100, moves: 149097, cost: 877743.0\n",
      "Init: initializing centroids\n",
      "Init: initializing clusters\n",
      "Starting iterations...\n",
      "Run 3, iteration: 1/100, moves: 108971, cost: 898069.0\n",
      "Init: initializing centroids\n",
      "Init: initializing clusters\n",
      "Starting iterations...\n",
      "Run 4, iteration: 1/100, moves: 118300, cost: 909977.0\n",
      "Run 4, iteration: 2/100, moves: 13489, cost: 909977.0\n",
      "Init: initializing centroids\n",
      "Init: initializing clusters\n",
      "Starting iterations...\n",
      "Run 5, iteration: 1/100, moves: 94589, cost: 919553.0\n",
      "Run 5, iteration: 2/100, moves: 15408, cost: 914280.0\n",
      "Run 5, iteration: 3/100, moves: 7392, cost: 914280.0\n",
      "Best run was number 2\n",
      "Init: initializing centroids\n",
      "Init: initializing clusters\n",
      "Starting iterations...\n",
      "Run 1, iteration: 1/100, moves: 69729, cost: 916574.0\n",
      "Run 1, iteration: 2/100, moves: 25898, cost: 916574.0\n",
      "Init: initializing centroids\n",
      "Init: initializing clusters\n",
      "Starting iterations...\n",
      "Run 2, iteration: 1/100, moves: 172325, cost: 901644.0\n",
      "Init: initializing centroids\n",
      "Init: initializing clusters\n",
      "Starting iterations...\n",
      "Run 3, iteration: 1/100, moves: 165667, cost: 913155.0\n",
      "Init: initializing centroids\n",
      "Init: initializing clusters\n",
      "Starting iterations...\n",
      "Run 4, iteration: 1/100, moves: 32740, cost: 873133.0\n",
      "Init: initializing centroids\n",
      "Init: initializing clusters\n",
      "Starting iterations...\n",
      "Run 5, iteration: 1/100, moves: 156927, cost: 882629.0\n",
      "Run 5, iteration: 2/100, moves: 4838, cost: 882629.0\n",
      "Best run was number 4\n",
      "Init: initializing centroids\n",
      "Init: initializing clusters\n",
      "Starting iterations...\n",
      "Run 1, iteration: 1/100, moves: 73794, cost: 884149.0\n",
      "Init: initializing centroids\n",
      "Init: initializing clusters\n",
      "Starting iterations...\n",
      "Run 2, iteration: 1/100, moves: 102802, cost: 862586.0\n",
      "Run 2, iteration: 2/100, moves: 10751, cost: 862586.0\n",
      "Init: initializing centroids\n",
      "Init: initializing clusters\n",
      "Starting iterations...\n",
      "Run 3, iteration: 1/100, moves: 85126, cost: 887551.0\n",
      "Run 3, iteration: 2/100, moves: 23952, cost: 887551.0\n",
      "Init: initializing centroids\n",
      "Init: initializing clusters\n",
      "Starting iterations...\n",
      "Run 4, iteration: 1/100, moves: 0, cost: 936932.0\n",
      "Init: initializing centroids\n",
      "Init: initializing clusters\n",
      "Starting iterations...\n",
      "Run 5, iteration: 1/100, moves: 104163, cost: 903369.0\n",
      "Run 5, iteration: 2/100, moves: 37340, cost: 903369.0\n",
      "Best run was number 2\n"
     ]
    }
   ],
   "source": [
    "for numero_cluster in K:\n",
    "    kmodes = KModes(n_clusters=numero_cluster, init='Huang', n_init=5, verbose=1)\n",
    "    kmodes.fit_predict(df)\n",
    "    cost.append(kmodes.cost_) # Calcolo del costo"
   ]
  },
  {
   "cell_type": "code",
   "execution_count": 15,
   "metadata": {},
   "outputs": [],
   "source": [
    "# for numero_cluster in K:\n",
    "#     kproto = KPrototypes(n_clusters=numero_cluster, init='Huang', n_init = 3 , verbose=1)\n",
    "#     kproto.fit_predict(df, categorical = categorical_columns)\n",
    "#     cost.append(kproto.cost_)"
   ]
  },
  {
   "cell_type": "code",
   "execution_count": 16,
   "metadata": {},
   "outputs": [
    {
     "data": {
      "image/png": "[encoded data removed]",
      "text/plain": [
       "<Figure size 640x480 with 1 Axes>"
      ]
     },
     "metadata": {},
     "output_type": "display_data"
    }
   ],
   "source": [
    "# Grafica il costo per ogni k\n",
    "plt.plot(K, cost, 'bx-')\n",
    "plt.xlabel('Number of clusters (k)')\n",
    "plt.ylabel('Cost')\n",
    "plt.title('Elbow Method For Optimal k')\n",
    "plt.savefig('../../data/graph/elbow_method.png')\n",
    "plt.show()"
   ]
  },
  {
   "cell_type": "code",
   "execution_count": null,
   "metadata": {},
   "outputs": [],
   "source": []
  },
  {
   "cell_type": "code",
   "execution_count": null,
   "metadata": {},
   "outputs": [],
   "source": []
  },
  {
   "cell_type": "code",
   "execution_count": 43,
   "metadata": {},
   "outputs": [],
   "source": [
    "kmodes = KModes(n_clusters=5, init='Huang', n_init=5, verbose=1)"
   ]
  },
  {
   "cell_type": "code",
   "execution_count": 44,
   "metadata": {},
   "outputs": [
    {
     "name": "stdout",
     "output_type": "stream",
     "text": [
      "Init: initializing centroids\n",
      "Init: initializing clusters\n",
      "Starting iterations...\n",
      "Run 1, iteration: 1/100, moves: 89919, cost: 1112544.0\n",
      "Run 1, iteration: 2/100, moves: 13283, cost: 1112544.0\n",
      "Init: initializing centroids\n",
      "Init: initializing clusters\n",
      "Starting iterations...\n",
      "Run 2, iteration: 1/100, moves: 81422, cost: 1051082.0\n",
      "Init: initializing centroids\n",
      "Init: initializing clusters\n",
      "Starting iterations...\n",
      "Run 3, iteration: 1/100, moves: 35978, cost: 1086668.0\n",
      "Run 3, iteration: 2/100, moves: 13400, cost: 1086668.0\n",
      "Init: initializing centroids\n",
      "Init: initializing clusters\n",
      "Starting iterations...\n",
      "Run 4, iteration: 1/100, moves: 158481, cost: 1083087.0\n",
      "Run 4, iteration: 2/100, moves: 2718, cost: 1083087.0\n",
      "Init: initializing centroids\n",
      "Init: initializing clusters\n",
      "Starting iterations...\n",
      "Run 5, iteration: 1/100, moves: 127357, cost: 1074711.0\n",
      "Best run was number 2\n"
     ]
    }
   ],
   "source": [
    "clusters = kmodes.fit_predict(df)"
   ]
  },
  {
   "cell_type": "code",
   "execution_count": null,
   "metadata": {},
   "outputs": [],
   "source": []
  },
  {
   "cell_type": "code",
   "execution_count": null,
   "metadata": {},
   "outputs": [],
   "source": []
  },
  {
   "cell_type": "markdown",
   "metadata": {},
   "source": [
    "## KPrototypes\n"
   ]
  },
  {
   "cell_type": "markdown",
   "metadata": {},
   "source": [
    "\n",
    "- n_clusters=3`: Questo è il numero di cluster che l'algoritmo cercherà di identificare nei tuoi dati. In questo caso, stai chiedendo all'algoritmo di trovare 3 cluster.\n",
    "- init='Huang'`: Questo è il metodo di inizializzazione che l'algoritmo utilizzerà per inizializzare i centroidi. In questo caso, stai utilizzando il metodo di inizializzazione di Huang.\n",
    "- n_init=5`: Questo è il numero di volte che l'algoritmo verrà eseguito con diverse inizializzazioni dei centroidi. L'algoritmo restituirà il modello con la migliore inizializzazione.\n",
    "- verbose=1`: Questo è il livello di verbosità dell'algoritmo. Più alto è il valore, più informazioni verranno stampate a schermo durante l'esecuzione dell'algoritmo."
   ]
  },
  {
   "cell_type": "code",
   "execution_count": 45,
   "metadata": {},
   "outputs": [],
   "source": [
    "# Crea un'istanza dell'algoritmo K-Prototype\n",
    "# kproto = KPrototypes(n_clusters=6, init='Huang', n_init=5, verbose=1)\n"
   ]
  },
  {
   "cell_type": "code",
   "execution_count": 46,
   "metadata": {},
   "outputs": [],
   "source": [
    "# Adatta l'algoritmo ai dati\n",
    "# Devi specificare le colonne dei dati categorici\n",
    "# clusters = kproto.fit_predict(df, categorical=[0, 1, 2])  # sostituisci con le tue colonne categoriche"
   ]
  },
  {
   "cell_type": "code",
   "execution_count": 47,
   "metadata": {},
   "outputs": [
    {
     "data": {
      "text/plain": [
       "array([0, 1, 2, 3], dtype=uint16)"
      ]
     },
     "execution_count": 47,
     "metadata": {},
     "output_type": "execute_result"
    }
   ],
   "source": [
    "np.unique(clusters) "
   ]
  },
  {
   "cell_type": "code",
   "execution_count": 48,
   "metadata": {},
   "outputs": [],
   "source": [
    "df_labeled['cluster'] = clusters"
   ]
  },
  {
   "cell_type": "code",
   "execution_count": 49,
   "metadata": {},
   "outputs": [],
   "source": [
    "df_labeled.to_parquet('../../data/processed/clustered_data.parquet')"
   ]
  },
  {
   "cell_type": "code",
   "execution_count": 50,
   "metadata": {},
   "outputs": [
    {
     "data": {
      "text/html": [
       "<div>\n",
       "<style scoped>\n",
       "    .dataframe tbody tr th:only-of-type {\n",
       "        vertical-align: middle;\n",
       "    }\n",
       "\n",
       "    .dataframe tbody tr th {\n",
       "        vertical-align: top;\n",
       "    }\n",
       "\n",
       "    .dataframe thead th {\n",
       "        text-align: right;\n",
       "    }\n",
       "</style>\n",
       "<table border=\"1\" class=\"dataframe\">\n",
       "  <thead>\n",
       "    <tr style=\"text-align: right;\">\n",
       "      <th></th>\n",
       "      <th>id_prenotazione</th>\n",
       "      <th>id_paziente</th>\n",
       "      <th>data_nascita</th>\n",
       "      <th>sesso</th>\n",
       "      <th>regione_residenza</th>\n",
       "      <th>tipologia_servizio</th>\n",
       "      <th>descrizione_attivita</th>\n",
       "      <th>data_contatto</th>\n",
       "      <th>tipologia_struttura_erogazione</th>\n",
       "      <th>id_professionista_sanitario</th>\n",
       "      <th>tipologia_professionista_sanitario</th>\n",
       "      <th>data_erogazione</th>\n",
       "      <th>durata_erogazione_sec</th>\n",
       "      <th>fascia_eta</th>\n",
       "      <th>anno</th>\n",
       "      <th>quadrimestre</th>\n",
       "      <th>incremento_teleassistenze</th>\n",
       "      <th>cluster</th>\n",
       "    </tr>\n",
       "  </thead>\n",
       "  <tbody>\n",
       "    <tr>\n",
       "      <th>0</th>\n",
       "      <td>JUOCPQCUG1H96QO</td>\n",
       "      <td>LCWFXF28X79P382V</td>\n",
       "      <td>1980-04-24 00:00:00+00:00</td>\n",
       "      <td>male</td>\n",
       "      <td>Piemonte</td>\n",
       "      <td>Teleassistenza</td>\n",
       "      <td>Insegnamento al paziente e/o alla sua famiglia...</td>\n",
       "      <td>2019-01-09T11:21:54+01:00</td>\n",
       "      <td>Azienda Ospedaliera</td>\n",
       "      <td>MZRAER00D13A287J</td>\n",
       "      <td>Infermiere</td>\n",
       "      <td>2019-02-04 10:00:00+00:00</td>\n",
       "      <td>2925</td>\n",
       "      <td>36-47</td>\n",
       "      <td>2019</td>\n",
       "      <td>1</td>\n",
       "      <td>medium_increment</td>\n",
       "      <td>2</td>\n",
       "    </tr>\n",
       "    <tr>\n",
       "      <th>1</th>\n",
       "      <td>XDP99NXRHPOYFYU</td>\n",
       "      <td>LRFZOI94E58U012I</td>\n",
       "      <td>1972-01-30 00:00:00+00:00</td>\n",
       "      <td>female</td>\n",
       "      <td>Toscana</td>\n",
       "      <td>Teleassistenza</td>\n",
       "      <td>Prestazione infermieristica connessa alla nece...</td>\n",
       "      <td>2019-01-10T11:57:43+01:00</td>\n",
       "      <td>Azienda Ospedaliera Universitaria</td>\n",
       "      <td>EBCRPU12T24U316I</td>\n",
       "      <td>Infermiere</td>\n",
       "      <td>2019-02-01 10:00:00+00:00</td>\n",
       "      <td>1895</td>\n",
       "      <td>48-59</td>\n",
       "      <td>2019</td>\n",
       "      <td>1</td>\n",
       "      <td>high_increment</td>\n",
       "      <td>1</td>\n",
       "    </tr>\n",
       "    <tr>\n",
       "      <th>2</th>\n",
       "      <td>6VYI0AK57ECO5WU</td>\n",
       "      <td>JOBCGJ98A04B765H</td>\n",
       "      <td>1986-06-27 00:00:00+00:00</td>\n",
       "      <td>male</td>\n",
       "      <td>Emilia romagna</td>\n",
       "      <td>Teleassistenza</td>\n",
       "      <td>Prestazione dietistica</td>\n",
       "      <td>2019-01-11T07:04:17+01:00</td>\n",
       "      <td>Ospedale a gestione diretta</td>\n",
       "      <td>PMEJNL62M27F357I</td>\n",
       "      <td>Dietista</td>\n",
       "      <td>2019-02-03 06:00:00+00:00</td>\n",
       "      <td>1165</td>\n",
       "      <td>36-47</td>\n",
       "      <td>2019</td>\n",
       "      <td>1</td>\n",
       "      <td>high_increment</td>\n",
       "      <td>1</td>\n",
       "    </tr>\n",
       "    <tr>\n",
       "      <th>3</th>\n",
       "      <td>VLFS5J9E3Q74Q2W</td>\n",
       "      <td>TKROSE51Z77Q065E</td>\n",
       "      <td>1967-10-21 00:00:00+00:00</td>\n",
       "      <td>female</td>\n",
       "      <td>Campania</td>\n",
       "      <td>Teleassistenza</td>\n",
       "      <td>Psicoterapia individuale</td>\n",
       "      <td>2019-01-11T07:41:52+01:00</td>\n",
       "      <td>Azienda Ospedaliera</td>\n",
       "      <td>VNNRMQ15C69W200K</td>\n",
       "      <td>Psicologo</td>\n",
       "      <td>2019-02-01 06:00:00+00:00</td>\n",
       "      <td>1969</td>\n",
       "      <td>48-59</td>\n",
       "      <td>2019</td>\n",
       "      <td>1</td>\n",
       "      <td>high_increment</td>\n",
       "      <td>1</td>\n",
       "    </tr>\n",
       "    <tr>\n",
       "      <th>4</th>\n",
       "      <td>XD8SZX9JOVCMEXW</td>\n",
       "      <td>WRRVSK73Z45L640S</td>\n",
       "      <td>1963-08-24 00:00:00+00:00</td>\n",
       "      <td>male</td>\n",
       "      <td>Abruzzo</td>\n",
       "      <td>Teleassistenza</td>\n",
       "      <td>Prestazione dietistica</td>\n",
       "      <td>2019-01-11T15:33:29+01:00</td>\n",
       "      <td>Ospedale a gestione diretta</td>\n",
       "      <td>GIQCNR34T04P154U</td>\n",
       "      <td>Dietista</td>\n",
       "      <td>2019-02-05 14:00:00+00:00</td>\n",
       "      <td>3099</td>\n",
       "      <td>60-69</td>\n",
       "      <td>2019</td>\n",
       "      <td>1</td>\n",
       "      <td>high_increment</td>\n",
       "      <td>1</td>\n",
       "    </tr>\n",
       "  </tbody>\n",
       "</table>\n",
       "</div>"
      ],
      "text/plain": [
       "   id_prenotazione       id_paziente              data_nascita   sesso  \\\n",
       "0  JUOCPQCUG1H96QO  LCWFXF28X79P382V 1980-04-24 00:00:00+00:00    male   \n",
       "1  XDP99NXRHPOYFYU  LRFZOI94E58U012I 1972-01-30 00:00:00+00:00  female   \n",
       "2  6VYI0AK57ECO5WU  JOBCGJ98A04B765H 1986-06-27 00:00:00+00:00    male   \n",
       "3  VLFS5J9E3Q74Q2W  TKROSE51Z77Q065E 1967-10-21 00:00:00+00:00  female   \n",
       "4  XD8SZX9JOVCMEXW  WRRVSK73Z45L640S 1963-08-24 00:00:00+00:00    male   \n",
       "\n",
       "  regione_residenza tipologia_servizio  \\\n",
       "0          Piemonte     Teleassistenza   \n",
       "1           Toscana     Teleassistenza   \n",
       "2    Emilia romagna     Teleassistenza   \n",
       "3          Campania     Teleassistenza   \n",
       "4           Abruzzo     Teleassistenza   \n",
       "\n",
       "                                descrizione_attivita  \\\n",
       "0  Insegnamento al paziente e/o alla sua famiglia...   \n",
       "1  Prestazione infermieristica connessa alla nece...   \n",
       "2                             Prestazione dietistica   \n",
       "3                           Psicoterapia individuale   \n",
       "4                             Prestazione dietistica   \n",
       "\n",
       "               data_contatto     tipologia_struttura_erogazione  \\\n",
       "0  2019-01-09T11:21:54+01:00                Azienda Ospedaliera   \n",
       "1  2019-01-10T11:57:43+01:00  Azienda Ospedaliera Universitaria   \n",
       "2  2019-01-11T07:04:17+01:00        Ospedale a gestione diretta   \n",
       "3  2019-01-11T07:41:52+01:00                Azienda Ospedaliera   \n",
       "4  2019-01-11T15:33:29+01:00        Ospedale a gestione diretta   \n",
       "\n",
       "  id_professionista_sanitario tipologia_professionista_sanitario  \\\n",
       "0            MZRAER00D13A287J                         Infermiere   \n",
       "1            EBCRPU12T24U316I                         Infermiere   \n",
       "2            PMEJNL62M27F357I                           Dietista   \n",
       "3            VNNRMQ15C69W200K                          Psicologo   \n",
       "4            GIQCNR34T04P154U                           Dietista   \n",
       "\n",
       "            data_erogazione  durata_erogazione_sec fascia_eta  anno  \\\n",
       "0 2019-02-04 10:00:00+00:00                   2925      36-47  2019   \n",
       "1 2019-02-01 10:00:00+00:00                   1895      48-59  2019   \n",
       "2 2019-02-03 06:00:00+00:00                   1165      36-47  2019   \n",
       "3 2019-02-01 06:00:00+00:00                   1969      48-59  2019   \n",
       "4 2019-02-05 14:00:00+00:00                   3099      60-69  2019   \n",
       "\n",
       "   quadrimestre incremento_teleassistenze  cluster  \n",
       "0             1          medium_increment        2  \n",
       "1             1            high_increment        1  \n",
       "2             1            high_increment        1  \n",
       "3             1            high_increment        1  \n",
       "4             1            high_increment        1  "
      ]
     },
     "execution_count": 50,
     "metadata": {},
     "output_type": "execute_result"
    }
   ],
   "source": [
    "df_labeled.head()"
   ]
  },
  {
   "cell_type": "code",
   "execution_count": null,
   "metadata": {},
   "outputs": [],
   "source": []
  },
  {
   "cell_type": "markdown",
   "metadata": {},
   "source": [
    "# Calculate Purity"
   ]
  },
  {
   "cell_type": "code",
   "execution_count": 51,
   "metadata": {},
   "outputs": [],
   "source": [
    "true_labels = df_labeled.incremento_teleassistenze.to_numpy()"
   ]
  },
  {
   "cell_type": "code",
   "execution_count": 52,
   "metadata": {},
   "outputs": [
    {
     "data": {
      "text/plain": [
       "array(['medium_increment', 'high_increment', 'high_increment', ...,\n",
       "       'high_increment', 'high_increment', 'high_increment'], dtype=object)"
      ]
     },
     "execution_count": 52,
     "metadata": {},
     "output_type": "execute_result"
    }
   ],
   "source": [
    "true_labels"
   ]
  },
  {
   "cell_type": "code",
   "execution_count": 53,
   "metadata": {},
   "outputs": [],
   "source": [
    "from collections import Counter"
   ]
  },
  {
   "cell_type": "code",
   "execution_count": 54,
   "metadata": {},
   "outputs": [],
   "source": [
    "def calculate_purity(clusters, true_labels):\n",
    "    print('Clusters:', clusters)\n",
    "\n",
    "    N = len(true_labels) # number of data points\n",
    "    purity_sum = 0\n",
    "\n",
    "    for cluster_id in np.unique(clusters):\n",
    "        # Obtain the indices of data points in the cluster\n",
    "        print(cluster_id)\n",
    "\n",
    "        cluster_indices = np.where(clusters == cluster_id)[0] # [0] to get the array from the tuple, as np.where returns a tuple\n",
    "        print('Cluster indices:', cluster_indices)\n",
    "\n",
    "        # Obtain the true labels of data points in the cluster\n",
    "        cluster_labels = true_labels[cluster_indices]\n",
    "        print('Cluster labels', cluster_labels)\n",
    "\n",
    "        # Count the number of data points in each class\n",
    "        most_common_label, count = Counter(cluster_labels).most_common(1)[0] # most_common returns a list of tuples, we take the first one\n",
    "        print(f'Most common label: {most_common_label}, count: {count}')\n",
    "\n",
    "        purity_sum += count\n",
    "        print('\\n')\n",
    "\n",
    "    purity = purity_sum / N\n",
    "    return purity\n",
    "\n"
   ]
  },
  {
   "cell_type": "code",
   "execution_count": 55,
   "metadata": {},
   "outputs": [
    {
     "name": "stdout",
     "output_type": "stream",
     "text": [
      "Clusters: [2 1 1 ... 1 1 1]\n",
      "0\n",
      "Cluster indices: [     5      6      7 ... 460502 460503 460505]\n",
      "Cluster labels ['high_increment' 'high_increment' 'high_increment' ...\n",
      " 'constant_increment' 'low_increment' 'low_increment']\n",
      "Most common label: low_increment, count: 129488\n",
      "\n",
      "\n",
      "1\n",
      "Cluster indices: [     1      2      3 ... 460506 460507 460508]\n",
      "Cluster labels ['high_increment' 'high_increment' 'high_increment' ... 'high_increment'\n",
      " 'high_increment' 'high_increment']\n",
      "Most common label: high_increment, count: 130869\n",
      "\n",
      "\n",
      "2\n",
      "Cluster indices: [     0      9     50 ... 460488 460490 460504]\n",
      "Cluster labels ['medium_increment' 'high_increment' 'medium_increment' ...\n",
      " 'constant_increment' 'constant_increment' 'constant_increment']\n",
      "Most common label: low_increment, count: 29831\n",
      "\n",
      "\n",
      "3\n",
      "Cluster indices: [    14     34     56 ... 460479 460485 460492]\n",
      "Cluster labels ['medium_increment' 'medium_increment' 'medium_increment' ...\n",
      " 'medium_increment' 'medium_increment' 'constant_increment']\n",
      "Most common label: medium_increment, count: 59097\n",
      "\n",
      "\n",
      "Purity is: 0.7584759472670458\n"
     ]
    }
   ],
   "source": [
    "purity = calculate_purity(clusters, true_labels)\n",
    "print('Purity is:', purity)"
   ]
  },
  {
   "cell_type": "code",
   "execution_count": null,
   "metadata": {},
   "outputs": [],
   "source": []
  },
  {
   "cell_type": "code",
   "execution_count": null,
   "metadata": {},
   "outputs": [],
   "source": []
  }
 ],
 "metadata": {
  "kernelspec": {
   "display_name": "venv",
   "language": "python",
   "name": "python3"
  },
  "language_info": {
   "codemirror_mode": {
    "name": "ipython",
    "version": 3
   },
   "file_extension": ".py",
   "mimetype": "text/x-python",
   "name": "python",
   "nbconvert_exporter": "python",
   "pygments_lexer": "ipython3",
   "version": "3.10.12"
  }
 },
 "nbformat": 4,
 "nbformat_minor": 2
}
