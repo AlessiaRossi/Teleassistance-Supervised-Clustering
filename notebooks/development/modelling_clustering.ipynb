{
 "cells": [
  {
   "cell_type": "code",
<<<<<<< HEAD
   "execution_count": 1,
   "metadata": {
    "ExecuteTime": {
     "end_time": "2024-08-21T14:02:52.103987Z",
     "start_time": "2024-08-21T14:02:51.819691Z"
    }
   },
=======
   "execution_count": 6,
   "metadata": {},
>>>>>>> 8cb3e4105f714106ed2cf73207eb3be6ac6d5c2b
   "outputs": [],
   "source": [
    "import pandas as pd\n",
    "import numpy as np\n",
    "from kmodes.kprototypes import KPrototypes\n",
    "from kmodes.kmodes import KModes\n",
    "import matplotlib.pyplot as plt\n",
    "# from sklearn.decomposition import PCA"
   ]
  },
  {
   "cell_type": "code",
<<<<<<< HEAD
   "execution_count": 2,
   "metadata": {
    "ExecuteTime": {
     "end_time": "2024-08-21T14:02:53.260011Z",
     "start_time": "2024-08-21T14:02:52.105988Z"
    }
   },
=======
   "execution_count": 7,
   "metadata": {},
>>>>>>> 8cb3e4105f714106ed2cf73207eb3be6ac6d5c2b
   "outputs": [],
   "source": [
    "df_labeled = pd.read_parquet('../../data/processed/ds_labeled.parquet')"
   ]
  },
  {
   "cell_type": "code",
<<<<<<< HEAD
   "execution_count": 3,
   "metadata": {
    "ExecuteTime": {
     "end_time": "2024-08-21T14:02:54.936014Z",
     "start_time": "2024-08-21T14:02:54.706789Z"
    }
   },
=======
   "execution_count": 8,
   "metadata": {},
>>>>>>> 8cb3e4105f714106ed2cf73207eb3be6ac6d5c2b
   "outputs": [
    {
     "name": "stdout",
     "output_type": "stream",
     "text": [
      "<class 'pandas.core.frame.DataFrame'>\n",
      "RangeIndex: 460509 entries, 0 to 460508\n",
      "Data columns (total 17 columns):\n",
      " #   Column                              Non-Null Count   Dtype              \n",
      "---  ------                              --------------   -----              \n",
      " 0   id_prenotazione                     460509 non-null  object             \n",
      " 1   id_paziente                         460509 non-null  object             \n",
      " 2   data_nascita                        460509 non-null  datetime64[ns, UTC]\n",
      " 3   sesso                               460509 non-null  object             \n",
      " 4   regione_residenza                   460509 non-null  object             \n",
      " 5   tipologia_servizio                  460509 non-null  object             \n",
      " 6   descrizione_attivita                460509 non-null  object             \n",
      " 7   data_contatto                       460509 non-null  object             \n",
      " 8   tipologia_struttura_erogazione      460509 non-null  object             \n",
      " 9   id_professionista_sanitario         460509 non-null  object             \n",
      " 10  tipologia_professionista_sanitario  460509 non-null  object             \n",
      " 11  data_erogazione                     460509 non-null  datetime64[ns, UTC]\n",
      " 12  durata_erogazione_sec               460509 non-null  int64              \n",
      " 13  eta                                 460509 non-null  int64              \n",
      " 14  anno                                460509 non-null  int32              \n",
      " 15  quadrimestre                        460509 non-null  int32              \n",
      " 16  incremento_teleassistenze           460509 non-null  object             \n",
      "dtypes: datetime64[ns, UTC](2), int32(2), int64(2), object(11)\n",
      "memory usage: 56.2+ MB\n"
     ]
    }
   ],
   "source": [
    "df_labeled.info()"
   ]
  },
  {
   "cell_type": "code",
<<<<<<< HEAD
   "execution_count": 4,
   "metadata": {
    "ExecuteTime": {
     "end_time": "2024-08-21T14:02:56.823621Z",
     "start_time": "2024-08-21T14:02:56.794560Z"
    }
   },
=======
   "execution_count": 9,
   "metadata": {},
>>>>>>> 8cb3e4105f714106ed2cf73207eb3be6ac6d5c2b
   "outputs": [],
   "source": [
    "cols_to_drop = df_labeled.columns[[0,1,2,3,5,6,7,9,11,12,14,15]]\n",
    "df = df_labeled.drop(columns=cols_to_drop)"
   ]
  },
  {
   "cell_type": "markdown",
   "metadata": {},
   "source": []
  },
  {
   "cell_type": "code",
<<<<<<< HEAD
   "execution_count": 5,
   "metadata": {
    "ExecuteTime": {
     "end_time": "2024-08-21T14:02:59.017070Z",
     "start_time": "2024-08-21T14:02:58.884083Z"
    }
   },
=======
   "execution_count": 10,
   "metadata": {},
>>>>>>> 8cb3e4105f714106ed2cf73207eb3be6ac6d5c2b
   "outputs": [
    {
     "name": "stdout",
     "output_type": "stream",
     "text": [
      "<class 'pandas.core.frame.DataFrame'>\n",
      "RangeIndex: 460509 entries, 0 to 460508\n",
      "Data columns (total 5 columns):\n",
      " #   Column                              Non-Null Count   Dtype \n",
      "---  ------                              --------------   ----- \n",
<<<<<<< HEAD
      " 0   sesso                               460509 non-null  object\n",
      " 1   regione_residenza                   460509 non-null  object\n",
      " 2   tipologia_struttura_erogazione      460509 non-null  object\n",
      " 3   tipologia_professionista_sanitario  460509 non-null  object\n",
      " 4   eta                                 460509 non-null  int64 \n",
      " 5   incremento_teleassistenze           460509 non-null  object\n",
      "dtypes: int64(1), object(5)\n",
      "memory usage: 21.1+ MB\n"
=======
      " 0   regione_residenza                   460509 non-null  object\n",
      " 1   tipologia_struttura_erogazione      460509 non-null  object\n",
      " 2   tipologia_professionista_sanitario  460509 non-null  object\n",
      " 3   fascia_eta                          460509 non-null  object\n",
      " 4   incremento_teleassistenze           460509 non-null  object\n",
      "dtypes: object(5)\n",
      "memory usage: 17.6+ MB\n"
>>>>>>> 8cb3e4105f714106ed2cf73207eb3be6ac6d5c2b
     ]
    }
   ],
   "source": [
    "df.info()"
   ]
  },
  {
   "cell_type": "markdown",
   "metadata": {},
   "source": [
    "## Elbow Method\n",
    "\n",
    "L'Elbow Method consiste nel:\n",
    "\n",
    "1. Eseguire K-Prototypes per una gamma di valori di \n",
    "𝑘 (ad esempio, da 1 a 10).\n",
    "2. Calcolare il \"Costo\" (o l'inertia): La funzione di costo (inertia) misura la somma delle distanze tra i punti dati e i loro rispettivi centroidi.\n",
    "3. Tracciare il Costo: Tracciare il costo rispetto ai diversi valori di \n",
    "𝑘.\n",
    "4. Identificare l'Elbow (gomito): Il punto in cui il tasso di riduzione della funzione di costo inizia a diminuire significativamente. Questo punto rappresenta il numero ottimale di cluster."
   ]
  },
  {
   "cell_type": "code",
<<<<<<< HEAD
   "execution_count": 6,
   "metadata": {
    "ExecuteTime": {
     "end_time": "2024-08-21T14:03:01.694877Z",
     "start_time": "2024-08-21T14:03:01.689860Z"
    }
   },
=======
   "execution_count": 11,
   "metadata": {},
>>>>>>> 8cb3e4105f714106ed2cf73207eb3be6ac6d5c2b
   "outputs": [],
   "source": [
    "#X = df.to_numpy()"
   ]
  },
  {
   "cell_type": "code",
   "execution_count": 12,
   "metadata": {},
   "outputs": [],
   "source": [
    "categorical_columns = [0,1,2,3,4]"
   ]
  },
  {
   "cell_type": "code",
   "execution_count": 13,
   "metadata": {},
   "outputs": [],
   "source": [
    "cost = []\n",
    "K = range(1, 13) # Range di valori per k (numero di cluster)"
   ]
  },
  {
   "cell_type": "code",
   "execution_count": null,
   "metadata": {},
   "outputs": [],
   "source": []
  },
  {
   "cell_type": "code",
   "execution_count": 14,
   "metadata": {},
   "outputs": [
    {
     "name": "stdout",
     "output_type": "stream",
     "text": [
      "Init: initializing centroids\n",
      "Init: initializing clusters\n",
      "Starting iterations...\n",
      "Run 1, iteration: 1/100, moves: 0, cost: 1400832.0\n",
      "Init: initializing centroids\n",
      "Init: initializing clusters\n",
      "Starting iterations...\n",
      "Run 2, iteration: 1/100, moves: 0, cost: 1400832.0\n",
      "Init: initializing centroids\n",
      "Init: initializing clusters\n",
      "Starting iterations...\n",
      "Run 3, iteration: 1/100, moves: 0, cost: 1400832.0\n",
      "Init: initializing centroids\n",
      "Init: initializing clusters\n",
      "Starting iterations...\n",
      "Run 4, iteration: 1/100, moves: 0, cost: 1400832.0\n",
      "Init: initializing centroids\n",
      "Init: initializing clusters\n",
      "Starting iterations...\n",
      "Run 5, iteration: 1/100, moves: 0, cost: 1400832.0\n",
      "Best run was number 1\n",
      "Init: initializing centroids\n",
      "Init: initializing clusters\n",
      "Starting iterations...\n",
      "Run 1, iteration: 1/100, moves: 135993, cost: 1211968.0\n",
      "Init: initializing centroids\n",
      "Init: initializing clusters\n",
      "Starting iterations...\n",
      "Run 2, iteration: 1/100, moves: 62817, cost: 1266384.0\n",
      "Init: initializing centroids\n",
      "Init: initializing clusters\n",
      "Starting iterations...\n",
      "Run 3, iteration: 1/100, moves: 67833, cost: 1250550.0\n",
      "Init: initializing centroids\n",
      "Init: initializing clusters\n",
      "Starting iterations...\n",
      "Run 4, iteration: 1/100, moves: 12823, cost: 1190947.0\n",
      "Init: initializing centroids\n",
      "Init: initializing clusters\n",
      "Starting iterations...\n",
      "Run 5, iteration: 1/100, moves: 86079, cost: 1205840.0\n",
      "Best run was number 4\n",
      "Init: initializing centroids\n",
      "Init: initializing clusters\n",
      "Starting iterations...\n",
      "Run 1, iteration: 1/100, moves: 84401, cost: 1092472.0\n",
      "Init: initializing centroids\n",
      "Init: initializing clusters\n",
      "Starting iterations...\n",
      "Run 2, iteration: 1/100, moves: 44291, cost: 1180041.0\n",
      "Init: initializing centroids\n",
      "Init: initializing clusters\n",
      "Starting iterations...\n",
      "Run 3, iteration: 1/100, moves: 38995, cost: 1235133.0\n",
      "Run 3, iteration: 2/100, moves: 3205, cost: 1235133.0\n",
      "Init: initializing centroids\n",
      "Init: initializing clusters\n",
      "Starting iterations...\n",
      "Run 4, iteration: 1/100, moves: 131625, cost: 1126856.0\n",
      "Init: initializing centroids\n",
      "Init: initializing clusters\n",
      "Starting iterations...\n",
      "Run 5, iteration: 1/100, moves: 155628, cost: 1136361.0\n",
      "Run 5, iteration: 2/100, moves: 24554, cost: 1136361.0\n",
      "Best run was number 1\n",
      "Init: initializing centroids\n",
      "Init: initializing clusters\n",
      "Starting iterations...\n",
      "Run 1, iteration: 1/100, moves: 198878, cost: 1050252.0\n",
      "Init: initializing centroids\n",
      "Init: initializing clusters\n",
      "Starting iterations...\n",
      "Run 2, iteration: 1/100, moves: 127634, cost: 1054057.0\n",
      "Run 2, iteration: 2/100, moves: 4796, cost: 1054057.0\n",
      "Init: initializing centroids\n",
      "Init: initializing clusters\n",
      "Starting iterations...\n",
      "Run 3, iteration: 1/100, moves: 70828, cost: 1094496.0\n",
      "Init: initializing centroids\n",
      "Init: initializing clusters\n",
      "Starting iterations...\n",
      "Run 4, iteration: 1/100, moves: 88490, cost: 1035911.0\n",
      "Init: initializing centroids\n",
      "Init: initializing clusters\n",
      "Starting iterations...\n",
      "Run 5, iteration: 1/100, moves: 130078, cost: 1072321.0\n",
      "Run 5, iteration: 2/100, moves: 46973, cost: 1072321.0\n",
      "Best run was number 4\n",
      "Init: initializing centroids\n",
      "Init: initializing clusters\n",
      "Starting iterations...\n",
      "Run 1, iteration: 1/100, moves: 112937, cost: 1057638.0\n",
      "Init: initializing centroids\n",
      "Init: initializing clusters\n",
      "Starting iterations...\n",
      "Run 2, iteration: 1/100, moves: 162819, cost: 1055528.0\n",
      "Init: initializing centroids\n",
      "Init: initializing clusters\n",
      "Starting iterations...\n",
      "Run 3, iteration: 1/100, moves: 0, cost: 1051619.0\n",
      "Init: initializing centroids\n",
      "Init: initializing clusters\n",
      "Starting iterations...\n",
      "Run 4, iteration: 1/100, moves: 131026, cost: 1018126.0\n",
      "Init: initializing centroids\n",
      "Init: initializing clusters\n",
      "Starting iterations...\n",
      "Run 5, iteration: 1/100, moves: 39481, cost: 1083564.0\n",
      "Best run was number 4\n",
      "Init: initializing centroids\n",
      "Init: initializing clusters\n",
      "Starting iterations...\n",
      "Run 1, iteration: 1/100, moves: 87296, cost: 1050892.0\n",
      "Init: initializing centroids\n",
      "Init: initializing clusters\n",
      "Starting iterations...\n",
      "Run 2, iteration: 1/100, moves: 0, cost: 1051638.0\n",
      "Init: initializing centroids\n",
      "Init: initializing clusters\n",
      "Starting iterations...\n",
      "Run 3, iteration: 1/100, moves: 176124, cost: 977125.0\n",
      "Init: initializing centroids\n",
      "Init: initializing clusters\n",
      "Starting iterations...\n",
      "Run 4, iteration: 1/100, moves: 92386, cost: 1049239.0\n",
      "Init: initializing centroids\n",
      "Init: initializing clusters\n",
      "Starting iterations...\n",
      "Run 5, iteration: 1/100, moves: 98727, cost: 1033940.0\n",
      "Best run was number 3\n",
      "Init: initializing centroids\n",
      "Init: initializing clusters\n",
      "Starting iterations...\n",
      "Run 1, iteration: 1/100, moves: 138477, cost: 1008662.0\n",
      "Init: initializing centroids\n",
      "Init: initializing clusters\n",
      "Starting iterations...\n",
      "Run 2, iteration: 1/100, moves: 99242, cost: 949744.0\n",
      "Init: initializing centroids\n",
      "Init: initializing clusters\n",
      "Starting iterations...\n",
      "Run 3, iteration: 1/100, moves: 103794, cost: 969924.0\n",
      "Init: initializing centroids\n",
      "Init: initializing clusters\n",
      "Starting iterations...\n",
      "Run 4, iteration: 1/100, moves: 204788, cost: 1012504.0\n",
      "Run 4, iteration: 2/100, moves: 19292, cost: 1012504.0\n",
      "Init: initializing centroids\n",
      "Init: initializing clusters\n",
      "Starting iterations...\n",
      "Run 5, iteration: 1/100, moves: 54343, cost: 987465.0\n",
      "Run 5, iteration: 2/100, moves: 35997, cost: 987465.0\n",
      "Best run was number 2\n",
      "Init: initializing centroids\n",
      "Init: initializing clusters\n",
      "Starting iterations...\n",
      "Run 1, iteration: 1/100, moves: 138904, cost: 957770.0\n",
      "Init: initializing centroids\n",
      "Init: initializing clusters\n",
      "Starting iterations...\n",
      "Run 2, iteration: 1/100, moves: 18114, cost: 970821.0\n",
      "Init: initializing centroids\n",
      "Init: initializing clusters\n",
      "Starting iterations...\n",
      "Run 3, iteration: 1/100, moves: 47568, cost: 962114.0\n",
      "Run 3, iteration: 2/100, moves: 10194, cost: 962114.0\n",
      "Init: initializing centroids\n",
      "Init: initializing clusters\n",
      "Starting iterations...\n",
      "Run 4, iteration: 1/100, moves: 83197, cost: 958422.0\n",
      "Init: initializing centroids\n",
      "Init: initializing clusters\n",
      "Starting iterations...\n",
      "Run 5, iteration: 1/100, moves: 107575, cost: 931732.0\n",
      "Best run was number 5\n",
      "Init: initializing centroids\n",
      "Init: initializing clusters\n",
      "Starting iterations...\n",
      "Run 1, iteration: 1/100, moves: 143878, cost: 952762.0\n",
      "Init: initializing centroids\n",
      "Init: initializing clusters\n",
      "Starting iterations...\n",
      "Run 2, iteration: 1/100, moves: 54708, cost: 943369.0\n",
      "Run 2, iteration: 2/100, moves: 46582, cost: 939708.0\n",
      "Run 2, iteration: 3/100, moves: 12672, cost: 939708.0\n",
      "Init: initializing centroids\n",
      "Init: initializing clusters\n",
      "Starting iterations...\n",
      "Run 3, iteration: 1/100, moves: 60589, cost: 962264.0\n",
      "Init: initializing centroids\n",
      "Init: initializing clusters\n",
      "Starting iterations...\n",
      "Run 4, iteration: 1/100, moves: 145391, cost: 900491.0\n",
      "Run 4, iteration: 2/100, moves: 6888, cost: 900491.0\n",
      "Init: initializing centroids\n",
      "Init: initializing clusters\n",
      "Starting iterations...\n",
      "Run 5, iteration: 1/100, moves: 174541, cost: 943778.0\n",
      "Best run was number 4\n",
      "Init: initializing centroids\n",
      "Init: initializing clusters\n",
      "Starting iterations...\n",
      "Run 1, iteration: 1/100, moves: 27932, cost: 1003791.0\n",
      "Run 1, iteration: 2/100, moves: 6535, cost: 1003791.0\n",
      "Init: initializing centroids\n",
      "Init: initializing clusters\n",
      "Starting iterations...\n",
      "Run 2, iteration: 1/100, moves: 149097, cost: 877743.0\n",
      "Init: initializing centroids\n",
      "Init: initializing clusters\n",
      "Starting iterations...\n",
      "Run 3, iteration: 1/100, moves: 108971, cost: 898069.0\n",
      "Init: initializing centroids\n",
      "Init: initializing clusters\n",
      "Starting iterations...\n",
      "Run 4, iteration: 1/100, moves: 118300, cost: 909977.0\n",
      "Run 4, iteration: 2/100, moves: 13489, cost: 909977.0\n",
      "Init: initializing centroids\n",
      "Init: initializing clusters\n",
      "Starting iterations...\n",
      "Run 5, iteration: 1/100, moves: 94589, cost: 919553.0\n",
      "Run 5, iteration: 2/100, moves: 15408, cost: 914280.0\n",
      "Run 5, iteration: 3/100, moves: 7392, cost: 914280.0\n",
      "Best run was number 2\n",
      "Init: initializing centroids\n",
      "Init: initializing clusters\n",
      "Starting iterations...\n",
      "Run 1, iteration: 1/100, moves: 69729, cost: 916574.0\n",
      "Run 1, iteration: 2/100, moves: 25898, cost: 916574.0\n",
      "Init: initializing centroids\n",
      "Init: initializing clusters\n",
      "Starting iterations...\n",
      "Run 2, iteration: 1/100, moves: 172325, cost: 901644.0\n",
      "Init: initializing centroids\n",
      "Init: initializing clusters\n",
      "Starting iterations...\n",
      "Run 3, iteration: 1/100, moves: 165667, cost: 913155.0\n",
      "Init: initializing centroids\n",
      "Init: initializing clusters\n",
      "Starting iterations...\n",
      "Run 4, iteration: 1/100, moves: 32740, cost: 873133.0\n",
      "Init: initializing centroids\n",
      "Init: initializing clusters\n",
      "Starting iterations...\n",
      "Run 5, iteration: 1/100, moves: 156927, cost: 882629.0\n",
      "Run 5, iteration: 2/100, moves: 4838, cost: 882629.0\n",
      "Best run was number 4\n",
      "Init: initializing centroids\n",
      "Init: initializing clusters\n",
      "Starting iterations...\n",
      "Run 1, iteration: 1/100, moves: 73794, cost: 884149.0\n",
      "Init: initializing centroids\n",
      "Init: initializing clusters\n",
      "Starting iterations...\n",
      "Run 2, iteration: 1/100, moves: 102802, cost: 862586.0\n",
      "Run 2, iteration: 2/100, moves: 10751, cost: 862586.0\n",
      "Init: initializing centroids\n",
      "Init: initializing clusters\n",
      "Starting iterations...\n",
      "Run 3, iteration: 1/100, moves: 85126, cost: 887551.0\n",
      "Run 3, iteration: 2/100, moves: 23952, cost: 887551.0\n",
      "Init: initializing centroids\n",
      "Init: initializing clusters\n",
      "Starting iterations...\n",
      "Run 4, iteration: 1/100, moves: 0, cost: 936932.0\n",
      "Init: initializing centroids\n",
      "Init: initializing clusters\n",
      "Starting iterations...\n",
      "Run 5, iteration: 1/100, moves: 104163, cost: 903369.0\n",
      "Run 5, iteration: 2/100, moves: 37340, cost: 903369.0\n",
      "Best run was number 2\n"
     ]
    }
   ],
   "source": [
    "for numero_cluster in K:\n",
    "    kmodes = KModes(n_clusters=numero_cluster, init='Huang', n_init=5, verbose=1)\n",
    "    kmodes.fit_predict(df)\n",
    "    cost.append(kmodes.cost_) # Calcolo del costo"
   ]
  },
  {
   "cell_type": "code",
   "execution_count": 15,
   "metadata": {},
   "outputs": [],
   "source": [
    "# for numero_cluster in K:\n",
    "#     kproto = KPrototypes(n_clusters=numero_cluster, init='Huang', n_init = 3 , verbose=1)\n",
    "#     kproto.fit_predict(df, categorical = categorical_columns)\n",
    "#     cost.append(kproto.cost_)"
   ]
  },
  {
   "cell_type": "code",
   "execution_count": 16,
   "metadata": {},
   "outputs": [
    {
     "data": {
      "image/png": "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",
      "text/plain": [
       "<Figure size 640x480 with 1 Axes>"
      ]
     },
     "metadata": {},
     "output_type": "display_data"
    }
   ],
   "source": [
    "# Grafica il costo per ogni k\n",
    "plt.plot(K, cost, 'bx-')\n",
    "plt.xlabel('Number of clusters (k)')\n",
    "plt.ylabel('Cost')\n",
    "plt.title('Elbow Method For Optimal k')\n",
    "plt.savefig('../../data/graph/elbow_method.png')\n",
    "plt.show()"
   ]
  },
  {
   "cell_type": "code",
   "execution_count": null,
   "metadata": {},
   "outputs": [],
   "source": []
  },
  {
   "cell_type": "code",
   "execution_count": null,
   "metadata": {},
   "outputs": [],
   "source": []
  },
  {
   "cell_type": "code",
   "execution_count": 43,
   "metadata": {},
   "outputs": [],
   "source": [
    "kmodes = KModes(n_clusters=5, init='Huang', n_init=5, verbose=1)"
   ]
  },
  {
   "cell_type": "code",
   "execution_count": 44,
   "metadata": {},
   "outputs": [
    {
     "name": "stdout",
     "output_type": "stream",
     "text": [
      "Init: initializing centroids\n",
      "Init: initializing clusters\n",
      "Starting iterations...\n",
      "Run 1, iteration: 1/100, moves: 89919, cost: 1112544.0\n",
      "Run 1, iteration: 2/100, moves: 13283, cost: 1112544.0\n",
      "Init: initializing centroids\n",
      "Init: initializing clusters\n",
      "Starting iterations...\n",
      "Run 2, iteration: 1/100, moves: 81422, cost: 1051082.0\n",
      "Init: initializing centroids\n",
      "Init: initializing clusters\n",
      "Starting iterations...\n",
      "Run 3, iteration: 1/100, moves: 35978, cost: 1086668.0\n",
      "Run 3, iteration: 2/100, moves: 13400, cost: 1086668.0\n",
      "Init: initializing centroids\n",
      "Init: initializing clusters\n",
      "Starting iterations...\n",
      "Run 4, iteration: 1/100, moves: 158481, cost: 1083087.0\n",
      "Run 4, iteration: 2/100, moves: 2718, cost: 1083087.0\n",
      "Init: initializing centroids\n",
      "Init: initializing clusters\n",
      "Starting iterations...\n",
      "Run 5, iteration: 1/100, moves: 127357, cost: 1074711.0\n",
      "Best run was number 2\n"
     ]
    }
   ],
   "source": [
    "clusters = kmodes.fit_predict(df)"
   ]
  },
  {
   "cell_type": "code",
   "execution_count": null,
   "metadata": {},
   "outputs": [],
   "source": []
  },
  {
   "cell_type": "code",
   "execution_count": null,
   "metadata": {},
   "outputs": [],
   "source": []
  },
  {
   "cell_type": "markdown",
   "metadata": {},
   "source": [
    "## KPrototypes\n"
   ]
  },
  {
   "cell_type": "markdown",
   "metadata": {},
   "source": [
    "\n",
    "- n_clusters=3`: Questo è il numero di cluster che l'algoritmo cercherà di identificare nei tuoi dati. In questo caso, stai chiedendo all'algoritmo di trovare 3 cluster.\n",
    "- init='Huang'`: Questo è il metodo di inizializzazione che l'algoritmo utilizzerà per inizializzare i centroidi. In questo caso, stai utilizzando il metodo di inizializzazione di Huang.\n",
    "- n_init=5`: Questo è il numero di volte che l'algoritmo verrà eseguito con diverse inizializzazioni dei centroidi. L'algoritmo restituirà il modello con la migliore inizializzazione.\n",
    "- verbose=1`: Questo è il livello di verbosità dell'algoritmo. Più alto è il valore, più informazioni verranno stampate a schermo durante l'esecuzione dell'algoritmo."
   ]
  },
  {
   "cell_type": "code",
   "execution_count": 45,
   "metadata": {},
   "outputs": [],
   "source": [
    "# Crea un'istanza dell'algoritmo K-Prototype\n",
    "# kproto = KPrototypes(n_clusters=6, init='Huang', n_init=5, verbose=1)\n"
   ]
  },
  {
   "cell_type": "code",
   "execution_count": 46,
   "metadata": {},
   "outputs": [],
   "source": [
    "# Adatta l'algoritmo ai dati\n",
    "# Devi specificare le colonne dei dati categorici\n",
    "# clusters = kproto.fit_predict(df, categorical=[0, 1, 2])  # sostituisci con le tue colonne categoriche"
   ]
  },
  {
   "cell_type": "code",
   "execution_count": 47,
   "metadata": {},
   "outputs": [
    {
     "data": {
      "text/plain": [
       "array([0, 1, 2, 3], dtype=uint16)"
      ]
     },
     "execution_count": 47,
     "metadata": {},
     "output_type": "execute_result"
    }
   ],
   "source": [
    "np.unique(clusters) "
   ]
  },
  {
   "cell_type": "code",
   "execution_count": 48,
   "metadata": {},
   "outputs": [],
   "source": [
    "df_labeled['cluster'] = clusters"
   ]
  },
  {
   "cell_type": "code",
   "execution_count": 49,
   "metadata": {},
   "outputs": [],
   "source": [
    "df_labeled.to_parquet('../../data/processed/clustered_data.parquet')"
   ]
  },
  {
   "cell_type": "code",
   "execution_count": 50,
   "metadata": {},
   "outputs": [
    {
     "data": {
      "text/html": [
       "<div>\n",
       "<style scoped>\n",
       "    .dataframe tbody tr th:only-of-type {\n",
       "        vertical-align: middle;\n",
       "    }\n",
       "\n",
       "    .dataframe tbody tr th {\n",
       "        vertical-align: top;\n",
       "    }\n",
       "\n",
       "    .dataframe thead th {\n",
       "        text-align: right;\n",
       "    }\n",
       "</style>\n",
       "<table border=\"1\" class=\"dataframe\">\n",
       "  <thead>\n",
       "    <tr style=\"text-align: right;\">\n",
       "      <th></th>\n",
       "      <th>id_prenotazione</th>\n",
       "      <th>id_paziente</th>\n",
       "      <th>data_nascita</th>\n",
       "      <th>sesso</th>\n",
       "      <th>regione_residenza</th>\n",
       "      <th>tipologia_servizio</th>\n",
       "      <th>descrizione_attivita</th>\n",
       "      <th>data_contatto</th>\n",
       "      <th>tipologia_struttura_erogazione</th>\n",
       "      <th>id_professionista_sanitario</th>\n",
       "      <th>tipologia_professionista_sanitario</th>\n",
       "      <th>data_erogazione</th>\n",
       "      <th>durata_erogazione_sec</th>\n",
       "      <th>fascia_eta</th>\n",
       "      <th>anno</th>\n",
       "      <th>quadrimestre</th>\n",
       "      <th>incremento_teleassistenze</th>\n",
       "      <th>cluster</th>\n",
       "    </tr>\n",
       "  </thead>\n",
       "  <tbody>\n",
       "    <tr>\n",
       "      <th>0</th>\n",
       "      <td>JUOCPQCUG1H96QO</td>\n",
       "      <td>LCWFXF28X79P382V</td>\n",
       "      <td>1980-04-24 00:00:00+00:00</td>\n",
       "      <td>male</td>\n",
       "      <td>Piemonte</td>\n",
       "      <td>Teleassistenza</td>\n",
       "      <td>Insegnamento al paziente e/o alla sua famiglia...</td>\n",
       "      <td>2019-01-09T11:21:54+01:00</td>\n",
       "      <td>Azienda Ospedaliera</td>\n",
       "      <td>MZRAER00D13A287J</td>\n",
       "      <td>Infermiere</td>\n",
       "      <td>2019-02-04 10:00:00+00:00</td>\n",
       "      <td>2925</td>\n",
       "      <td>36-47</td>\n",
       "      <td>2019</td>\n",
       "      <td>1</td>\n",
       "      <td>medium_increment</td>\n",
       "      <td>2</td>\n",
       "    </tr>\n",
       "    <tr>\n",
       "      <th>1</th>\n",
       "      <td>XDP99NXRHPOYFYU</td>\n",
       "      <td>LRFZOI94E58U012I</td>\n",
       "      <td>1972-01-30 00:00:00+00:00</td>\n",
       "      <td>female</td>\n",
       "      <td>Toscana</td>\n",
       "      <td>Teleassistenza</td>\n",
       "      <td>Prestazione infermieristica connessa alla nece...</td>\n",
       "      <td>2019-01-10T11:57:43+01:00</td>\n",
       "      <td>Azienda Ospedaliera Universitaria</td>\n",
       "      <td>EBCRPU12T24U316I</td>\n",
       "      <td>Infermiere</td>\n",
       "      <td>2019-02-01 10:00:00+00:00</td>\n",
       "      <td>1895</td>\n",
       "      <td>48-59</td>\n",
       "      <td>2019</td>\n",
       "      <td>1</td>\n",
       "      <td>high_increment</td>\n",
       "      <td>1</td>\n",
       "    </tr>\n",
       "    <tr>\n",
       "      <th>2</th>\n",
       "      <td>6VYI0AK57ECO5WU</td>\n",
       "      <td>JOBCGJ98A04B765H</td>\n",
       "      <td>1986-06-27 00:00:00+00:00</td>\n",
       "      <td>male</td>\n",
       "      <td>Emilia romagna</td>\n",
       "      <td>Teleassistenza</td>\n",
       "      <td>Prestazione dietistica</td>\n",
       "      <td>2019-01-11T07:04:17+01:00</td>\n",
       "      <td>Ospedale a gestione diretta</td>\n",
       "      <td>PMEJNL62M27F357I</td>\n",
       "      <td>Dietista</td>\n",
       "      <td>2019-02-03 06:00:00+00:00</td>\n",
       "      <td>1165</td>\n",
       "      <td>36-47</td>\n",
       "      <td>2019</td>\n",
       "      <td>1</td>\n",
       "      <td>high_increment</td>\n",
       "      <td>1</td>\n",
       "    </tr>\n",
       "    <tr>\n",
       "      <th>3</th>\n",
       "      <td>VLFS5J9E3Q74Q2W</td>\n",
       "      <td>TKROSE51Z77Q065E</td>\n",
       "      <td>1967-10-21 00:00:00+00:00</td>\n",
       "      <td>female</td>\n",
       "      <td>Campania</td>\n",
       "      <td>Teleassistenza</td>\n",
       "      <td>Psicoterapia individuale</td>\n",
       "      <td>2019-01-11T07:41:52+01:00</td>\n",
       "      <td>Azienda Ospedaliera</td>\n",
       "      <td>VNNRMQ15C69W200K</td>\n",
       "      <td>Psicologo</td>\n",
       "      <td>2019-02-01 06:00:00+00:00</td>\n",
       "      <td>1969</td>\n",
       "      <td>48-59</td>\n",
       "      <td>2019</td>\n",
       "      <td>1</td>\n",
       "      <td>high_increment</td>\n",
       "      <td>1</td>\n",
       "    </tr>\n",
       "    <tr>\n",
       "      <th>4</th>\n",
       "      <td>XD8SZX9JOVCMEXW</td>\n",
       "      <td>WRRVSK73Z45L640S</td>\n",
       "      <td>1963-08-24 00:00:00+00:00</td>\n",
       "      <td>male</td>\n",
       "      <td>Abruzzo</td>\n",
       "      <td>Teleassistenza</td>\n",
       "      <td>Prestazione dietistica</td>\n",
       "      <td>2019-01-11T15:33:29+01:00</td>\n",
       "      <td>Ospedale a gestione diretta</td>\n",
       "      <td>GIQCNR34T04P154U</td>\n",
       "      <td>Dietista</td>\n",
       "      <td>2019-02-05 14:00:00+00:00</td>\n",
       "      <td>3099</td>\n",
       "      <td>60-69</td>\n",
       "      <td>2019</td>\n",
       "      <td>1</td>\n",
       "      <td>high_increment</td>\n",
       "      <td>1</td>\n",
       "    </tr>\n",
       "  </tbody>\n",
       "</table>\n",
       "</div>"
      ],
      "text/plain": [
       "   id_prenotazione       id_paziente              data_nascita   sesso  \\\n",
       "0  JUOCPQCUG1H96QO  LCWFXF28X79P382V 1980-04-24 00:00:00+00:00    male   \n",
       "1  XDP99NXRHPOYFYU  LRFZOI94E58U012I 1972-01-30 00:00:00+00:00  female   \n",
       "2  6VYI0AK57ECO5WU  JOBCGJ98A04B765H 1986-06-27 00:00:00+00:00    male   \n",
       "3  VLFS5J9E3Q74Q2W  TKROSE51Z77Q065E 1967-10-21 00:00:00+00:00  female   \n",
       "4  XD8SZX9JOVCMEXW  WRRVSK73Z45L640S 1963-08-24 00:00:00+00:00    male   \n",
       "\n",
       "  regione_residenza tipologia_servizio  \\\n",
       "0          Piemonte     Teleassistenza   \n",
       "1           Toscana     Teleassistenza   \n",
       "2    Emilia romagna     Teleassistenza   \n",
       "3          Campania     Teleassistenza   \n",
       "4           Abruzzo     Teleassistenza   \n",
       "\n",
       "                                descrizione_attivita  \\\n",
       "0  Insegnamento al paziente e/o alla sua famiglia...   \n",
       "1  Prestazione infermieristica connessa alla nece...   \n",
       "2                             Prestazione dietistica   \n",
       "3                           Psicoterapia individuale   \n",
       "4                             Prestazione dietistica   \n",
       "\n",
       "               data_contatto     tipologia_struttura_erogazione  \\\n",
       "0  2019-01-09T11:21:54+01:00                Azienda Ospedaliera   \n",
       "1  2019-01-10T11:57:43+01:00  Azienda Ospedaliera Universitaria   \n",
       "2  2019-01-11T07:04:17+01:00        Ospedale a gestione diretta   \n",
       "3  2019-01-11T07:41:52+01:00                Azienda Ospedaliera   \n",
       "4  2019-01-11T15:33:29+01:00        Ospedale a gestione diretta   \n",
       "\n",
       "  id_professionista_sanitario tipologia_professionista_sanitario  \\\n",
       "0            MZRAER00D13A287J                         Infermiere   \n",
       "1            EBCRPU12T24U316I                         Infermiere   \n",
       "2            PMEJNL62M27F357I                           Dietista   \n",
       "3            VNNRMQ15C69W200K                          Psicologo   \n",
       "4            GIQCNR34T04P154U                           Dietista   \n",
       "\n",
       "            data_erogazione  durata_erogazione_sec fascia_eta  anno  \\\n",
       "0 2019-02-04 10:00:00+00:00                   2925      36-47  2019   \n",
       "1 2019-02-01 10:00:00+00:00                   1895      48-59  2019   \n",
       "2 2019-02-03 06:00:00+00:00                   1165      36-47  2019   \n",
       "3 2019-02-01 06:00:00+00:00                   1969      48-59  2019   \n",
       "4 2019-02-05 14:00:00+00:00                   3099      60-69  2019   \n",
       "\n",
       "   quadrimestre incremento_teleassistenze  cluster  \n",
       "0             1          medium_increment        2  \n",
       "1             1            high_increment        1  \n",
       "2             1            high_increment        1  \n",
       "3             1            high_increment        1  \n",
       "4             1            high_increment        1  "
      ]
     },
     "execution_count": 50,
     "metadata": {},
     "output_type": "execute_result"
    }
   ],
   "source": [
    "df_labeled.head()"
   ]
  },
  {
   "cell_type": "code",
   "execution_count": null,
   "metadata": {},
   "outputs": [],
   "source": []
  },
  {
   "cell_type": "markdown",
   "metadata": {},
   "source": [
    "# Calculate Purity"
   ]
  },
  {
   "cell_type": "code",
<<<<<<< HEAD
   "execution_count": 7,
   "metadata": {
    "ExecuteTime": {
     "end_time": "2024-08-21T14:03:10.441814Z",
     "start_time": "2024-08-21T14:03:10.436783Z"
    }
   },
=======
   "execution_count": 51,
   "metadata": {},
>>>>>>> 8cb3e4105f714106ed2cf73207eb3be6ac6d5c2b
   "outputs": [],
   "source": [
    "true_labels = df_labeled.incremento_teleassistenze.to_numpy()"
   ]
  },
  {
   "cell_type": "code",
<<<<<<< HEAD
   "execution_count": 8,
   "metadata": {
    "ExecuteTime": {
     "end_time": "2024-08-21T14:03:11.082841Z",
     "start_time": "2024-08-21T14:03:11.071084Z"
    }
   },
   "outputs": [
    {
     "data": {
      "text/plain": "array(['high_increment', 'high_increment', 'high_increment', ...,\n       'low_increment', 'low_increment', 'medium_increment'], dtype=object)"
     },
     "execution_count": 8,
=======
   "execution_count": 52,
   "metadata": {},
   "outputs": [
    {
     "data": {
      "text/plain": [
       "array(['medium_increment', 'high_increment', 'high_increment', ...,\n",
       "       'high_increment', 'high_increment', 'high_increment'], dtype=object)"
      ]
     },
     "execution_count": 52,
>>>>>>> 8cb3e4105f714106ed2cf73207eb3be6ac6d5c2b
     "metadata": {},
     "output_type": "execute_result"
    }
   ],
   "source": [
    "true_labels"
   ]
  },
  {
   "cell_type": "code",
<<<<<<< HEAD
   "execution_count": 9,
   "metadata": {
    "ExecuteTime": {
     "end_time": "2024-08-21T14:03:11.981038Z",
     "start_time": "2024-08-21T14:03:11.975492Z"
    }
   },
=======
   "execution_count": 53,
   "metadata": {},
>>>>>>> 8cb3e4105f714106ed2cf73207eb3be6ac6d5c2b
   "outputs": [],
   "source": [
    "from collections import Counter"
   ]
  },
  {
   "cell_type": "code",
<<<<<<< HEAD
   "execution_count": 10,
   "metadata": {
    "ExecuteTime": {
     "end_time": "2024-08-21T14:03:12.776604Z",
     "start_time": "2024-08-21T14:03:12.753051Z"
    }
   },
=======
   "execution_count": 54,
   "metadata": {},
>>>>>>> 8cb3e4105f714106ed2cf73207eb3be6ac6d5c2b
   "outputs": [],
   "source": [
    "def calculate_purity(clusters, true_labels):\n",
    "    print('Clusters:', clusters)\n",
    "\n",
    "    N = len(true_labels) # number of data points\n",
    "    purity_sum = 0\n",
    "\n",
    "    for cluster_id in np.unique(clusters):\n",
    "        # Obtain the indices of data points in the cluster\n",
    "        print(cluster_id)\n",
    "\n",
    "        cluster_indices = np.where(clusters == cluster_id)[0] # [0] to get the array from the tuple, as np.where returns a tuple\n",
    "        print('Cluster indices:', cluster_indices)\n",
    "\n",
    "        # Obtain the true labels of data points in the cluster\n",
    "        cluster_labels = true_labels[cluster_indices]\n",
    "        print('Cluster labels', cluster_labels)\n",
    "\n",
    "        # Count the number of data points in each class\n",
    "        most_common_label, count = Counter(cluster_labels).most_common(1)[0] # most_common returns a list of tuples, we take the first one\n",
    "        print(f'Most common label: {most_common_label}, count: {count}')\n",
    "\n",
    "        purity_sum += count\n",
    "        print('\\n')\n",
    "\n",
    "    purity = purity_sum / N\n",
    "    return purity\n",
    "\n"
   ]
  },
  {
   "cell_type": "code",
<<<<<<< HEAD
   "execution_count": 11,
   "metadata": {
    "ExecuteTime": {
     "end_time": "2024-08-21T14:03:14.668388Z",
     "start_time": "2024-08-21T14:03:13.500262Z"
    }
   },
   "outputs": [
    {
     "ename": "NameError",
     "evalue": "name 'clusters' is not defined",
     "output_type": "error",
     "traceback": [
      "\u001B[1;31m---------------------------------------------------------------------------\u001B[0m",
      "\u001B[1;31mNameError\u001B[0m                                 Traceback (most recent call last)",
      "Cell \u001B[1;32mIn[11], line 1\u001B[0m\n\u001B[1;32m----> 1\u001B[0m purity \u001B[38;5;241m=\u001B[39m calculate_purity(\u001B[43mclusters\u001B[49m, true_labels)\n\u001B[0;32m      2\u001B[0m \u001B[38;5;28mprint\u001B[39m(\u001B[38;5;124m'\u001B[39m\u001B[38;5;124mPurity is:\u001B[39m\u001B[38;5;124m'\u001B[39m, purity)\n",
      "\u001B[1;31mNameError\u001B[0m: name 'clusters' is not defined"
=======
   "execution_count": 55,
   "metadata": {},
   "outputs": [
    {
     "name": "stdout",
     "output_type": "stream",
     "text": [
      "Clusters: [2 1 1 ... 1 1 1]\n",
      "0\n",
      "Cluster indices: [     5      6      7 ... 460502 460503 460505]\n",
      "Cluster labels ['high_increment' 'high_increment' 'high_increment' ...\n",
      " 'constant_increment' 'low_increment' 'low_increment']\n",
      "Most common label: low_increment, count: 129488\n",
      "\n",
      "\n",
      "1\n",
      "Cluster indices: [     1      2      3 ... 460506 460507 460508]\n",
      "Cluster labels ['high_increment' 'high_increment' 'high_increment' ... 'high_increment'\n",
      " 'high_increment' 'high_increment']\n",
      "Most common label: high_increment, count: 130869\n",
      "\n",
      "\n",
      "2\n",
      "Cluster indices: [     0      9     50 ... 460488 460490 460504]\n",
      "Cluster labels ['medium_increment' 'high_increment' 'medium_increment' ...\n",
      " 'constant_increment' 'constant_increment' 'constant_increment']\n",
      "Most common label: low_increment, count: 29831\n",
      "\n",
      "\n",
      "3\n",
      "Cluster indices: [    14     34     56 ... 460479 460485 460492]\n",
      "Cluster labels ['medium_increment' 'medium_increment' 'medium_increment' ...\n",
      " 'medium_increment' 'medium_increment' 'constant_increment']\n",
      "Most common label: medium_increment, count: 59097\n",
      "\n",
      "\n",
      "Purity is: 0.7584759472670458\n"
>>>>>>> 8cb3e4105f714106ed2cf73207eb3be6ac6d5c2b
     ]
    }
   ],
   "source": [
    "purity = calculate_purity(clusters, true_labels)\n",
    "print('Purity is:', purity)"
   ]
  },
  {
   "cell_type": "code",
   "execution_count": 3,
   "metadata": {
    "ExecuteTime": {
     "end_time": "2024-08-21T15:25:40.213936Z",
     "start_time": "2024-08-21T15:25:38.908908Z"
    }
   },
   "outputs": [],
   "source": [
    "import pandas as pd\n",
    "from sklearn.metrics import silhouette_samples, silhouette_score\n",
    "from sklearn.preprocessing import LabelEncoder\n",
    "\n",
    "# Load the clustered data\n",
    "df_labeled = pd.read_parquet('../../data/processed/clustered_data.parquet')\n",
    "\n",
    "# Extract clusters and true labels\n",
    "clusters = df_labeled['cluster'].to_numpy()\n",
    "true_labels = df_labeled['incremento_teleassistenze'].to_numpy()\n",
    "\n",
    "# Convert true labels to numeric values\n",
    "label_encoder = LabelEncoder()\n",
    "true_labels_numeric = label_encoder.fit_transform(true_labels)\n",
    "\n",
    "# Reshape the arrays to be 2D\n",
    "true_labels_numeric = true_labels_numeric.reshape(-1, 1)\n",
    "clusters = clusters.reshape(-1, 1)\n",
    "# Function to calculate and normalize Silhouette Score\n",
    "def calculate_silhouette_score(true_labels_numeric, clusters):\n",
    "    # Calculate the silhouette scores for each sample\n",
    "    silhouette_vals = silhouette_samples(true_labels_numeric, clusters)\n",
    "\n",
    "    # Calculate the mean silhouette score\n",
    "    mean_silhouette = silhouette_score(true_labels_numeric, clusters)\n",
    "\n",
    "    # Normalize the silhouette scores to a range between 0 and 1\n",
    "    normalized_silhouette_vals = (silhouette_vals - silhouette_vals.min()) / (silhouette_vals.max() - silhouette_vals.min())\n",
    "    normalized_mean_silhouette = (mean_silhouette - silhouette_vals.min()) / (silhouette_vals.max() - silhouette_vals.min())\n",
    "\n",
    "    return normalized_mean_silhouette, normalized_silhouette_vals\n",
    "\n"
   ]
  },
  {
   "cell_type": "code",
   "execution_count": 4,
   "metadata": {
    "ExecuteTime": {
     "end_time": "2024-08-21T15:26:06.218418Z",
     "start_time": "2024-08-21T15:25:41.017427Z"
    }
   },
   "outputs": [
    {
     "name": "stderr",
     "output_type": "stream",
     "text": [
      "C:\\Users\\aless\\Desktop\\Teleassistance-Supervised-Clustering\\.venv\\lib\\site-packages\\sklearn\\utils\\validation.py:1339: DataConversionWarning: A column-vector y was passed when a 1d array was expected. Please change the shape of y to (n_samples, ), for example using ravel().\n",
      "  y = column_or_1d(y, warn=True)\n"
     ]
    },
    {
     "ename": "KeyboardInterrupt",
     "evalue": "",
     "output_type": "error",
     "traceback": [
      "\u001B[1;31m---------------------------------------------------------------------------\u001B[0m",
      "\u001B[1;31mKeyboardInterrupt\u001B[0m                         Traceback (most recent call last)",
      "Cell \u001B[1;32mIn[4], line 2\u001B[0m\n\u001B[0;32m      1\u001B[0m \u001B[38;5;66;03m# Calculate the normalized silhouette values\u001B[39;00m\n\u001B[1;32m----> 2\u001B[0m normalized_mean_silhouette, normalized_silhouette_vals \u001B[38;5;241m=\u001B[39m \u001B[43mcalculate_silhouette_score\u001B[49m\u001B[43m(\u001B[49m\u001B[43mtrue_labels_numeric\u001B[49m\u001B[43m,\u001B[49m\u001B[43m \u001B[49m\u001B[43mclusters\u001B[49m\u001B[43m)\u001B[49m\n\u001B[0;32m      4\u001B[0m \u001B[38;5;66;03m# Print the results\u001B[39;00m\n\u001B[0;32m      5\u001B[0m \u001B[38;5;28mprint\u001B[39m(\u001B[38;5;124m'\u001B[39m\u001B[38;5;124mNormalized Mean Silhouette Score:\u001B[39m\u001B[38;5;124m'\u001B[39m, normalized_mean_silhouette)\n",
      "Cell \u001B[1;32mIn[3], line 22\u001B[0m, in \u001B[0;36mcalculate_silhouette_score\u001B[1;34m(true_labels_numeric, clusters)\u001B[0m\n\u001B[0;32m     20\u001B[0m \u001B[38;5;28;01mdef\u001B[39;00m \u001B[38;5;21mcalculate_silhouette_score\u001B[39m(true_labels_numeric, clusters):\n\u001B[0;32m     21\u001B[0m     \u001B[38;5;66;03m# Calculate the silhouette scores for each sample\u001B[39;00m\n\u001B[1;32m---> 22\u001B[0m     silhouette_vals \u001B[38;5;241m=\u001B[39m \u001B[43msilhouette_samples\u001B[49m\u001B[43m(\u001B[49m\u001B[43mtrue_labels_numeric\u001B[49m\u001B[43m,\u001B[49m\u001B[43m \u001B[49m\u001B[43mclusters\u001B[49m\u001B[43m)\u001B[49m\n\u001B[0;32m     24\u001B[0m     \u001B[38;5;66;03m# Calculate the mean silhouette score\u001B[39;00m\n\u001B[0;32m     25\u001B[0m     mean_silhouette \u001B[38;5;241m=\u001B[39m silhouette_score(true_labels_numeric, clusters)\n",
      "File \u001B[1;32m~\\Desktop\\Teleassistance-Supervised-Clustering\\.venv\\lib\\site-packages\\sklearn\\utils\\_param_validation.py:213\u001B[0m, in \u001B[0;36mvalidate_params.<locals>.decorator.<locals>.wrapper\u001B[1;34m(*args, **kwargs)\u001B[0m\n\u001B[0;32m    207\u001B[0m \u001B[38;5;28;01mtry\u001B[39;00m:\n\u001B[0;32m    208\u001B[0m     \u001B[38;5;28;01mwith\u001B[39;00m config_context(\n\u001B[0;32m    209\u001B[0m         skip_parameter_validation\u001B[38;5;241m=\u001B[39m(\n\u001B[0;32m    210\u001B[0m             prefer_skip_nested_validation \u001B[38;5;129;01mor\u001B[39;00m global_skip_validation\n\u001B[0;32m    211\u001B[0m         )\n\u001B[0;32m    212\u001B[0m     ):\n\u001B[1;32m--> 213\u001B[0m         \u001B[38;5;28;01mreturn\u001B[39;00m func(\u001B[38;5;241m*\u001B[39margs, \u001B[38;5;241m*\u001B[39m\u001B[38;5;241m*\u001B[39mkwargs)\n\u001B[0;32m    214\u001B[0m \u001B[38;5;28;01mexcept\u001B[39;00m InvalidParameterError \u001B[38;5;28;01mas\u001B[39;00m e:\n\u001B[0;32m    215\u001B[0m     \u001B[38;5;66;03m# When the function is just a wrapper around an estimator, we allow\u001B[39;00m\n\u001B[0;32m    216\u001B[0m     \u001B[38;5;66;03m# the function to delegate validation to the estimator, but we replace\u001B[39;00m\n\u001B[0;32m    217\u001B[0m     \u001B[38;5;66;03m# the name of the estimator by the name of the function in the error\u001B[39;00m\n\u001B[0;32m    218\u001B[0m     \u001B[38;5;66;03m# message to avoid confusion.\u001B[39;00m\n\u001B[0;32m    219\u001B[0m     msg \u001B[38;5;241m=\u001B[39m re\u001B[38;5;241m.\u001B[39msub(\n\u001B[0;32m    220\u001B[0m         \u001B[38;5;124mr\u001B[39m\u001B[38;5;124m\"\u001B[39m\u001B[38;5;124mparameter of \u001B[39m\u001B[38;5;124m\\\u001B[39m\u001B[38;5;124mw+ must be\u001B[39m\u001B[38;5;124m\"\u001B[39m,\n\u001B[0;32m    221\u001B[0m         \u001B[38;5;124mf\u001B[39m\u001B[38;5;124m\"\u001B[39m\u001B[38;5;124mparameter of \u001B[39m\u001B[38;5;132;01m{\u001B[39;00mfunc\u001B[38;5;241m.\u001B[39m\u001B[38;5;18m__qualname__\u001B[39m\u001B[38;5;132;01m}\u001B[39;00m\u001B[38;5;124m must be\u001B[39m\u001B[38;5;124m\"\u001B[39m,\n\u001B[0;32m    222\u001B[0m         \u001B[38;5;28mstr\u001B[39m(e),\n\u001B[0;32m    223\u001B[0m     )\n",
      "File \u001B[1;32m~\\Desktop\\Teleassistance-Supervised-Clustering\\.venv\\lib\\site-packages\\sklearn\\metrics\\cluster\\_unsupervised.py:305\u001B[0m, in \u001B[0;36msilhouette_samples\u001B[1;34m(X, labels, metric, **kwds)\u001B[0m\n\u001B[0;32m    301\u001B[0m kwds[\u001B[38;5;124m\"\u001B[39m\u001B[38;5;124mmetric\u001B[39m\u001B[38;5;124m\"\u001B[39m] \u001B[38;5;241m=\u001B[39m metric\n\u001B[0;32m    302\u001B[0m reduce_func \u001B[38;5;241m=\u001B[39m functools\u001B[38;5;241m.\u001B[39mpartial(\n\u001B[0;32m    303\u001B[0m     _silhouette_reduce, labels\u001B[38;5;241m=\u001B[39mlabels, label_freqs\u001B[38;5;241m=\u001B[39mlabel_freqs\n\u001B[0;32m    304\u001B[0m )\n\u001B[1;32m--> 305\u001B[0m results \u001B[38;5;241m=\u001B[39m \u001B[38;5;28;43mzip\u001B[39;49m\u001B[43m(\u001B[49m\u001B[38;5;241;43m*\u001B[39;49m\u001B[43mpairwise_distances_chunked\u001B[49m\u001B[43m(\u001B[49m\u001B[43mX\u001B[49m\u001B[43m,\u001B[49m\u001B[43m \u001B[49m\u001B[43mreduce_func\u001B[49m\u001B[38;5;241;43m=\u001B[39;49m\u001B[43mreduce_func\u001B[49m\u001B[43m,\u001B[49m\u001B[43m \u001B[49m\u001B[38;5;241;43m*\u001B[39;49m\u001B[38;5;241;43m*\u001B[39;49m\u001B[43mkwds\u001B[49m\u001B[43m)\u001B[49m\u001B[43m)\u001B[49m\n\u001B[0;32m    306\u001B[0m intra_clust_dists, inter_clust_dists \u001B[38;5;241m=\u001B[39m results\n\u001B[0;32m    307\u001B[0m intra_clust_dists \u001B[38;5;241m=\u001B[39m np\u001B[38;5;241m.\u001B[39mconcatenate(intra_clust_dists)\n",
      "File \u001B[1;32m~\\Desktop\\Teleassistance-Supervised-Clustering\\.venv\\lib\\site-packages\\sklearn\\metrics\\pairwise.py:2172\u001B[0m, in \u001B[0;36mpairwise_distances_chunked\u001B[1;34m(X, Y, reduce_func, metric, n_jobs, working_memory, **kwds)\u001B[0m\n\u001B[0;32m   2170\u001B[0m \u001B[38;5;28;01melse\u001B[39;00m:\n\u001B[0;32m   2171\u001B[0m     X_chunk \u001B[38;5;241m=\u001B[39m X[sl]\n\u001B[1;32m-> 2172\u001B[0m D_chunk \u001B[38;5;241m=\u001B[39m pairwise_distances(X_chunk, Y, metric\u001B[38;5;241m=\u001B[39mmetric, n_jobs\u001B[38;5;241m=\u001B[39mn_jobs, \u001B[38;5;241m*\u001B[39m\u001B[38;5;241m*\u001B[39mkwds)\n\u001B[0;32m   2173\u001B[0m \u001B[38;5;28;01mif\u001B[39;00m (X \u001B[38;5;129;01mis\u001B[39;00m Y \u001B[38;5;129;01mor\u001B[39;00m Y \u001B[38;5;129;01mis\u001B[39;00m \u001B[38;5;28;01mNone\u001B[39;00m) \u001B[38;5;129;01mand\u001B[39;00m PAIRWISE_DISTANCE_FUNCTIONS\u001B[38;5;241m.\u001B[39mget(\n\u001B[0;32m   2174\u001B[0m     metric, \u001B[38;5;28;01mNone\u001B[39;00m\n\u001B[0;32m   2175\u001B[0m ) \u001B[38;5;129;01mis\u001B[39;00m euclidean_distances:\n\u001B[0;32m   2176\u001B[0m     \u001B[38;5;66;03m# zeroing diagonal, taking care of aliases of \"euclidean\",\u001B[39;00m\n\u001B[0;32m   2177\u001B[0m     \u001B[38;5;66;03m# i.e. \"l2\"\u001B[39;00m\n\u001B[0;32m   2178\u001B[0m     D_chunk\u001B[38;5;241m.\u001B[39mflat[sl\u001B[38;5;241m.\u001B[39mstart :: _num_samples(X) \u001B[38;5;241m+\u001B[39m \u001B[38;5;241m1\u001B[39m] \u001B[38;5;241m=\u001B[39m \u001B[38;5;241m0\u001B[39m\n",
      "File \u001B[1;32m~\\Desktop\\Teleassistance-Supervised-Clustering\\.venv\\lib\\site-packages\\sklearn\\utils\\_param_validation.py:186\u001B[0m, in \u001B[0;36mvalidate_params.<locals>.decorator.<locals>.wrapper\u001B[1;34m(*args, **kwargs)\u001B[0m\n\u001B[0;32m    184\u001B[0m global_skip_validation \u001B[38;5;241m=\u001B[39m get_config()[\u001B[38;5;124m\"\u001B[39m\u001B[38;5;124mskip_parameter_validation\u001B[39m\u001B[38;5;124m\"\u001B[39m]\n\u001B[0;32m    185\u001B[0m \u001B[38;5;28;01mif\u001B[39;00m global_skip_validation:\n\u001B[1;32m--> 186\u001B[0m     \u001B[38;5;28;01mreturn\u001B[39;00m func(\u001B[38;5;241m*\u001B[39margs, \u001B[38;5;241m*\u001B[39m\u001B[38;5;241m*\u001B[39mkwargs)\n\u001B[0;32m    188\u001B[0m func_sig \u001B[38;5;241m=\u001B[39m signature(func)\n\u001B[0;32m    190\u001B[0m \u001B[38;5;66;03m# Map *args/**kwargs to the function signature\u001B[39;00m\n",
      "File \u001B[1;32m~\\Desktop\\Teleassistance-Supervised-Clustering\\.venv\\lib\\site-packages\\sklearn\\metrics\\pairwise.py:2375\u001B[0m, in \u001B[0;36mpairwise_distances\u001B[1;34m(X, Y, metric, n_jobs, force_all_finite, **kwds)\u001B[0m\n\u001B[0;32m   2372\u001B[0m         \u001B[38;5;28;01mreturn\u001B[39;00m distance\u001B[38;5;241m.\u001B[39msquareform(distance\u001B[38;5;241m.\u001B[39mpdist(X, metric\u001B[38;5;241m=\u001B[39mmetric, \u001B[38;5;241m*\u001B[39m\u001B[38;5;241m*\u001B[39mkwds))\n\u001B[0;32m   2373\u001B[0m     func \u001B[38;5;241m=\u001B[39m partial(distance\u001B[38;5;241m.\u001B[39mcdist, metric\u001B[38;5;241m=\u001B[39mmetric, \u001B[38;5;241m*\u001B[39m\u001B[38;5;241m*\u001B[39mkwds)\n\u001B[1;32m-> 2375\u001B[0m \u001B[38;5;28;01mreturn\u001B[39;00m _parallel_pairwise(X, Y, func, n_jobs, \u001B[38;5;241m*\u001B[39m\u001B[38;5;241m*\u001B[39mkwds)\n",
      "File \u001B[1;32m~\\Desktop\\Teleassistance-Supervised-Clustering\\.venv\\lib\\site-packages\\sklearn\\metrics\\pairwise.py:1893\u001B[0m, in \u001B[0;36m_parallel_pairwise\u001B[1;34m(X, Y, func, n_jobs, **kwds)\u001B[0m\n\u001B[0;32m   1890\u001B[0m X, Y, dtype \u001B[38;5;241m=\u001B[39m _return_float_dtype(X, Y)\n\u001B[0;32m   1892\u001B[0m \u001B[38;5;28;01mif\u001B[39;00m effective_n_jobs(n_jobs) \u001B[38;5;241m==\u001B[39m \u001B[38;5;241m1\u001B[39m:\n\u001B[1;32m-> 1893\u001B[0m     \u001B[38;5;28;01mreturn\u001B[39;00m func(X, Y, \u001B[38;5;241m*\u001B[39m\u001B[38;5;241m*\u001B[39mkwds)\n\u001B[0;32m   1895\u001B[0m \u001B[38;5;66;03m# enforce a threading backend to prevent data communication overhead\u001B[39;00m\n\u001B[0;32m   1896\u001B[0m fd \u001B[38;5;241m=\u001B[39m delayed(_dist_wrapper)\n",
      "File \u001B[1;32m~\\Desktop\\Teleassistance-Supervised-Clustering\\.venv\\lib\\site-packages\\sklearn\\utils\\_param_validation.py:186\u001B[0m, in \u001B[0;36mvalidate_params.<locals>.decorator.<locals>.wrapper\u001B[1;34m(*args, **kwargs)\u001B[0m\n\u001B[0;32m    184\u001B[0m global_skip_validation \u001B[38;5;241m=\u001B[39m get_config()[\u001B[38;5;124m\"\u001B[39m\u001B[38;5;124mskip_parameter_validation\u001B[39m\u001B[38;5;124m\"\u001B[39m]\n\u001B[0;32m    185\u001B[0m \u001B[38;5;28;01mif\u001B[39;00m global_skip_validation:\n\u001B[1;32m--> 186\u001B[0m     \u001B[38;5;28;01mreturn\u001B[39;00m func(\u001B[38;5;241m*\u001B[39margs, \u001B[38;5;241m*\u001B[39m\u001B[38;5;241m*\u001B[39mkwargs)\n\u001B[0;32m    188\u001B[0m func_sig \u001B[38;5;241m=\u001B[39m signature(func)\n\u001B[0;32m    190\u001B[0m \u001B[38;5;66;03m# Map *args/**kwargs to the function signature\u001B[39;00m\n",
      "File \u001B[1;32m~\\Desktop\\Teleassistance-Supervised-Clustering\\.venv\\lib\\site-packages\\sklearn\\metrics\\pairwise.py:372\u001B[0m, in \u001B[0;36meuclidean_distances\u001B[1;34m(X, Y, Y_norm_squared, squared, X_norm_squared)\u001B[0m\n\u001B[0;32m    366\u001B[0m     \u001B[38;5;28;01mif\u001B[39;00m Y_norm_squared\u001B[38;5;241m.\u001B[39mshape \u001B[38;5;241m!=\u001B[39m (\u001B[38;5;241m1\u001B[39m, Y\u001B[38;5;241m.\u001B[39mshape[\u001B[38;5;241m0\u001B[39m]):\n\u001B[0;32m    367\u001B[0m         \u001B[38;5;28;01mraise\u001B[39;00m \u001B[38;5;167;01mValueError\u001B[39;00m(\n\u001B[0;32m    368\u001B[0m             \u001B[38;5;124mf\u001B[39m\u001B[38;5;124m\"\u001B[39m\u001B[38;5;124mIncompatible dimensions for Y of shape \u001B[39m\u001B[38;5;132;01m{\u001B[39;00mY\u001B[38;5;241m.\u001B[39mshape\u001B[38;5;132;01m}\u001B[39;00m\u001B[38;5;124m and \u001B[39m\u001B[38;5;124m\"\u001B[39m\n\u001B[0;32m    369\u001B[0m             \u001B[38;5;124mf\u001B[39m\u001B[38;5;124m\"\u001B[39m\u001B[38;5;124mY_norm_squared of shape \u001B[39m\u001B[38;5;132;01m{\u001B[39;00moriginal_shape\u001B[38;5;132;01m}\u001B[39;00m\u001B[38;5;124m.\u001B[39m\u001B[38;5;124m\"\u001B[39m\n\u001B[0;32m    370\u001B[0m         )\n\u001B[1;32m--> 372\u001B[0m \u001B[38;5;28;01mreturn\u001B[39;00m \u001B[43m_euclidean_distances\u001B[49m\u001B[43m(\u001B[49m\u001B[43mX\u001B[49m\u001B[43m,\u001B[49m\u001B[43m \u001B[49m\u001B[43mY\u001B[49m\u001B[43m,\u001B[49m\u001B[43m \u001B[49m\u001B[43mX_norm_squared\u001B[49m\u001B[43m,\u001B[49m\u001B[43m \u001B[49m\u001B[43mY_norm_squared\u001B[49m\u001B[43m,\u001B[49m\u001B[43m \u001B[49m\u001B[43msquared\u001B[49m\u001B[43m)\u001B[49m\n",
      "File \u001B[1;32m~\\Desktop\\Teleassistance-Supervised-Clustering\\.venv\\lib\\site-packages\\sklearn\\metrics\\pairwise.py:410\u001B[0m, in \u001B[0;36m_euclidean_distances\u001B[1;34m(X, Y, X_norm_squared, Y_norm_squared, squared)\u001B[0m\n\u001B[0;32m    408\u001B[0m     distances \u001B[38;5;241m+\u001B[39m\u001B[38;5;241m=\u001B[39m XX\n\u001B[0;32m    409\u001B[0m     distances \u001B[38;5;241m+\u001B[39m\u001B[38;5;241m=\u001B[39m YY\n\u001B[1;32m--> 410\u001B[0m \u001B[43mnp\u001B[49m\u001B[38;5;241;43m.\u001B[39;49m\u001B[43mmaximum\u001B[49m\u001B[43m(\u001B[49m\u001B[43mdistances\u001B[49m\u001B[43m,\u001B[49m\u001B[43m \u001B[49m\u001B[38;5;241;43m0\u001B[39;49m\u001B[43m,\u001B[49m\u001B[43m \u001B[49m\u001B[43mout\u001B[49m\u001B[38;5;241;43m=\u001B[39;49m\u001B[43mdistances\u001B[49m\u001B[43m)\u001B[49m\n\u001B[0;32m    412\u001B[0m \u001B[38;5;66;03m# Ensure that distances between vectors and themselves are set to 0.0.\u001B[39;00m\n\u001B[0;32m    413\u001B[0m \u001B[38;5;66;03m# This may not be the case due to floating point rounding errors.\u001B[39;00m\n\u001B[0;32m    414\u001B[0m \u001B[38;5;28;01mif\u001B[39;00m X \u001B[38;5;129;01mis\u001B[39;00m Y:\n",
      "\u001B[1;31mKeyboardInterrupt\u001B[0m: "
     ]
    }
   ],
   "source": [
    "# Calculate the normalized silhouette values\n",
    "normalized_mean_silhouette, normalized_silhouette_vals = calculate_silhouette_score(true_labels_numeric, clusters)\n",
    "\n",
    "# Print the results\n",
    "print('Normalized Mean Silhouette Score:', normalized_mean_silhouette)\n",
    "print('Normalized Silhouette Values:', normalized_silhouette_vals)"
   ]
  },
  {
   "cell_type": "code",
   "outputs": [],
   "source": [
    "# Plot the silhouette values for each sample\n",
    "plt.figure(figsize=(10, 7))\n",
    "y_lower = 10\n",
    "for i in np.unique(clusters):\n",
    "    ith_cluster_silhouette_vals = normalized_silhouette_vals[clusters == i]\n",
    "    ith_cluster_silhouette_vals.sort()\n",
    "    size_cluster_i = ith_cluster_silhouette_vals.shape[0]\n",
    "    y_upper = y_lower + size_cluster_i\n",
    "\n",
    "    plt.fill_betweenx(np.arange(y_lower, y_upper), 0, ith_cluster_silhouette_vals, alpha=0.7)\n",
    "    plt.text(-0.05, y_lower + 0.5 * size_cluster_i, str(i))\n",
    "\n",
    "    y_lower = y_upper + 10\n",
    "\n",
    "plt.title('Silhouette plot for the various clusters')\n",
    "plt.xlabel('Silhouette coefficient values')\n",
    "plt.ylabel('Cluster label')\n",
    "plt.axvline(x=normalized_mean_silhouette, color=\"red\", linestyle=\"--\")\n",
    "plt.yticks([])\n",
    "plt.show()"
   ],
   "metadata": {
    "collapsed": false
   }
  }
 ],
 "metadata": {
  "kernelspec": {
   "display_name": "venv",
   "language": "python",
   "name": "python3"
  },
  "language_info": {
   "codemirror_mode": {
    "name": "ipython",
    "version": 3
   },
   "file_extension": ".py",
   "mimetype": "text/x-python",
   "name": "python",
   "nbconvert_exporter": "python",
   "pygments_lexer": "ipython3",
   "version": "3.10.12"
  }
 },
 "nbformat": 4,
 "nbformat_minor": 2
}
