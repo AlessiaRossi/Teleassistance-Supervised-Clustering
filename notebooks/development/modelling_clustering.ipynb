{
 "cells": [
  {
   "cell_type": "code",
   "execution_count": 213,
   "metadata": {},
   "outputs": [],
   "source": [
    "import pandas as pd\n",
    "import numpy as np\n",
    "from kmodes.kprototypes import KPrototypes\n",
    "import matplotlib.pyplot as plt\n",
    "from kmodes.kmodes import KModes\n",
    "# from sklearn.decomposition import PCA"
   ]
  },
  {
   "cell_type": "code",
   "execution_count": 214,
   "metadata": {},
   "outputs": [],
   "source": [
    "df_labeled = pd.read_parquet('../../data/processed/ds_labeled.parquet')"
   ]
  },
  {
   "cell_type": "code",
   "execution_count": 215,
   "metadata": {},
   "outputs": [
    {
     "name": "stdout",
     "output_type": "stream",
     "text": [
      "<class 'pandas.core.frame.DataFrame'>\n",
      "RangeIndex: 460509 entries, 0 to 460508\n",
      "Data columns (total 17 columns):\n",
      " #   Column                              Non-Null Count   Dtype              \n",
      "---  ------                              --------------   -----              \n",
      " 0   id_prenotazione                     460509 non-null  object             \n",
      " 1   id_paziente                         460509 non-null  object             \n",
      " 2   data_nascita                        460509 non-null  datetime64[ns, UTC]\n",
      " 3   sesso                               460509 non-null  object             \n",
      " 4   regione_residenza                   460509 non-null  object             \n",
      " 5   tipologia_servizio                  460509 non-null  object             \n",
      " 6   descrizione_attivita                460509 non-null  object             \n",
      " 7   data_contatto                       460509 non-null  object             \n",
      " 8   tipologia_struttura_erogazione      460509 non-null  object             \n",
      " 9   id_professionista_sanitario         460509 non-null  object             \n",
      " 10  tipologia_professionista_sanitario  460509 non-null  object             \n",
      " 11  data_erogazione                     460509 non-null  datetime64[ns, UTC]\n",
      " 12  durata_erogazione_sec               460509 non-null  int64              \n",
      " 13  eta                                 460509 non-null  int64              \n",
      " 14  anno                                460509 non-null  int32              \n",
      " 15  quadrimestre                        460509 non-null  int32              \n",
      " 16  incremento_teleassistenze           460509 non-null  object             \n",
      "dtypes: datetime64[ns, UTC](2), int32(2), int64(2), object(11)\n",
      "memory usage: 56.2+ MB\n"
     ]
    }
   ],
   "source": [
    "df_labeled.info()"
   ]
  },
  {
   "cell_type": "code",
   "execution_count": 216,
   "metadata": {},
   "outputs": [],
   "source": [
    "cols_to_drop = df_labeled.columns[[0,1,2,5,6,7,9,10,11,12,13,14,15]]\n",
    "df = df_labeled.drop(columns=cols_to_drop)"
   ]
  },
  {
   "cell_type": "markdown",
   "metadata": {},
   "source": []
  },
  {
   "cell_type": "code",
   "execution_count": 217,
   "metadata": {},
   "outputs": [
    {
     "name": "stdout",
     "output_type": "stream",
     "text": [
      "<class 'pandas.core.frame.DataFrame'>\n",
      "RangeIndex: 460509 entries, 0 to 460508\n",
      "Data columns (total 4 columns):\n",
      " #   Column                          Non-Null Count   Dtype \n",
      "---  ------                          --------------   ----- \n",
      " 0   sesso                           460509 non-null  object\n",
      " 1   regione_residenza               460509 non-null  object\n",
      " 2   tipologia_struttura_erogazione  460509 non-null  object\n",
      " 3   incremento_teleassistenze       460509 non-null  object\n",
      "dtypes: object(4)\n",
      "memory usage: 14.1+ MB\n"
     ]
    }
   ],
   "source": [
    "df.info()"
   ]
  },
  {
   "cell_type": "markdown",
   "metadata": {},
   "source": [
    "## Elbow Method\n",
    "\n",
    "L'Elbow Method consiste nel:\n",
    "\n",
    "1. Eseguire K-Prototypes per una gamma di valori di \n",
    "𝑘 (ad esempio, da 1 a 10).\n",
    "2. Calcolare il \"Costo\" (o l'inertia): La funzione di costo (inertia) misura la somma delle distanze tra i punti dati e i loro rispettivi centroidi.\n",
    "3. Tracciare il Costo: Tracciare il costo rispetto ai diversi valori di \n",
    "𝑘.\n",
    "4. Identificare l'Elbow (gomito): Il punto in cui il tasso di riduzione della funzione di costo inizia a diminuire significativamente. Questo punto rappresenta il numero ottimale di cluster."
   ]
  },
  {
   "cell_type": "code",
   "execution_count": 218,
   "metadata": {},
   "outputs": [],
   "source": [
    "#X = df.to_numpy()"
   ]
  },
  {
   "cell_type": "code",
   "execution_count": 219,
   "metadata": {},
   "outputs": [],
   "source": [
    "categorical_columns = [0, 1, 2, 3]"
   ]
  },
  {
   "cell_type": "code",
   "execution_count": 220,
   "metadata": {},
   "outputs": [],
   "source": [
    "cost = []\n",
    "K = range(4, 10) # Range di valori per k (numero di cluster)"
   ]
  },
  {
   "cell_type": "code",
   "execution_count": 221,
   "metadata": {},
   "outputs": [
    {
     "name": "stdout",
     "output_type": "stream",
     "text": [
      "Init: initializing centroids\n",
      "Init: initializing clusters\n",
      "Starting iterations...\n",
      "Run 1, iteration: 1/100, moves: 53300, cost: 725375.0\n",
      "Run 1, iteration: 2/100, moves: 15, cost: 725375.0\n",
      "Init: initializing centroids\n",
      "Init: initializing clusters\n",
      "Starting iterations...\n",
      "Run 2, iteration: 1/100, moves: 26038, cost: 686965.0\n",
      "Init: initializing centroids\n",
      "Init: initializing clusters\n",
      "Starting iterations...\n",
      "Run 3, iteration: 1/100, moves: 93582, cost: 727052.0\n",
      "Run 3, iteration: 2/100, moves: 14158, cost: 727052.0\n",
      "Init: initializing centroids\n",
      "Init: initializing clusters\n",
      "Starting iterations...\n",
      "Run 4, iteration: 1/100, moves: 100880, cost: 689003.0\n",
      "Init: initializing centroids\n",
      "Init: initializing clusters\n",
      "Starting iterations...\n",
      "Run 5, iteration: 1/100, moves: 79497, cost: 719850.0\n",
      "Best run was number 2\n",
      "Init: initializing centroids\n",
      "Init: initializing clusters\n",
      "Starting iterations...\n",
      "Run 1, iteration: 1/100, moves: 41147, cost: 642571.0\n",
      "Init: initializing centroids\n",
      "Init: initializing clusters\n",
      "Starting iterations...\n",
      "Run 2, iteration: 1/100, moves: 99116, cost: 640244.0\n",
      "Init: initializing centroids\n",
      "Init: initializing clusters\n",
      "Starting iterations...\n",
      "Run 3, iteration: 1/100, moves: 78408, cost: 647777.0\n",
      "Init: initializing centroids\n",
      "Init: initializing clusters\n",
      "Starting iterations...\n",
      "Run 4, iteration: 1/100, moves: 98625, cost: 666339.0\n",
      "Init: initializing centroids\n",
      "Init: initializing clusters\n",
      "Starting iterations...\n",
      "Run 5, iteration: 1/100, moves: 0, cost: 657342.0\n",
      "Best run was number 2\n",
      "Init: initializing centroids\n",
      "Init: initializing clusters\n",
      "Starting iterations...\n",
      "Run 1, iteration: 1/100, moves: 66800, cost: 577883.0\n",
      "Init: initializing centroids\n",
      "Init: initializing clusters\n",
      "Starting iterations...\n",
      "Run 2, iteration: 1/100, moves: 11894, cost: 669192.0\n",
      "Init: initializing centroids\n",
      "Init: initializing clusters\n",
      "Starting iterations...\n",
      "Run 3, iteration: 1/100, moves: 127211, cost: 636069.0\n",
      "Init: initializing centroids\n",
      "Init: initializing clusters\n",
      "Starting iterations...\n",
      "Run 4, iteration: 1/100, moves: 74459, cost: 658386.0\n",
      "Init: initializing centroids\n",
      "Init: initializing clusters\n",
      "Starting iterations...\n",
      "Run 5, iteration: 1/100, moves: 46640, cost: 588568.0\n",
      "Best run was number 1\n",
      "Init: initializing centroids\n",
      "Init: initializing clusters\n",
      "Starting iterations...\n",
      "Run 1, iteration: 1/100, moves: 18111, cost: 580401.0\n",
      "Init: initializing centroids\n",
      "Init: initializing clusters\n",
      "Starting iterations...\n",
      "Run 2, iteration: 1/100, moves: 12666, cost: 576319.0\n",
      "Init: initializing centroids\n",
      "Init: initializing clusters\n",
      "Starting iterations...\n",
      "Run 3, iteration: 1/100, moves: 56696, cost: 624583.0\n",
      "Run 3, iteration: 2/100, moves: 26873, cost: 613146.0\n",
      "Run 3, iteration: 3/100, moves: 1324, cost: 613146.0\n",
      "Init: initializing centroids\n",
      "Init: initializing clusters\n",
      "Starting iterations...\n",
      "Run 4, iteration: 1/100, moves: 85449, cost: 599567.0\n",
      "Run 4, iteration: 2/100, moves: 35059, cost: 599567.0\n",
      "Init: initializing centroids\n",
      "Init: initializing clusters\n",
      "Starting iterations...\n",
      "Run 5, iteration: 1/100, moves: 78999, cost: 588754.0\n",
      "Best run was number 2\n",
      "Init: initializing centroids\n",
      "Init: initializing clusters\n",
      "Starting iterations...\n",
      "Run 1, iteration: 1/100, moves: 93785, cost: 594338.0\n",
      "Run 1, iteration: 2/100, moves: 15326, cost: 594338.0\n",
      "Init: initializing centroids\n",
      "Init: initializing clusters\n",
      "Starting iterations...\n",
      "Run 2, iteration: 1/100, moves: 79592, cost: 554663.0\n",
      "Run 2, iteration: 2/100, moves: 28465, cost: 554663.0\n",
      "Init: initializing centroids\n",
      "Init: initializing clusters\n",
      "Starting iterations...\n",
      "Run 3, iteration: 1/100, moves: 129660, cost: 560953.0\n",
      "Run 3, iteration: 2/100, moves: 11244, cost: 560953.0\n",
      "Init: initializing centroids\n",
      "Init: initializing clusters\n",
      "Starting iterations...\n",
      "Run 4, iteration: 1/100, moves: 7775, cost: 572681.0\n",
      "Init: initializing centroids\n",
      "Init: initializing clusters\n",
      "Starting iterations...\n",
      "Run 5, iteration: 1/100, moves: 101219, cost: 552556.0\n",
      "Best run was number 5\n",
      "Init: initializing centroids\n",
      "Init: initializing clusters\n",
      "Starting iterations...\n",
      "Run 1, iteration: 1/100, moves: 18211, cost: 549144.0\n",
      "Init: initializing centroids\n",
      "Init: initializing clusters\n",
      "Starting iterations...\n",
      "Run 2, iteration: 1/100, moves: 5892, cost: 590215.0\n",
      "Init: initializing centroids\n",
      "Init: initializing clusters\n",
      "Starting iterations...\n",
      "Run 3, iteration: 1/100, moves: 82106, cost: 591433.0\n",
      "Init: initializing centroids\n",
      "Init: initializing clusters\n",
      "Starting iterations...\n",
      "Run 4, iteration: 1/100, moves: 72107, cost: 545922.0\n",
      "Init: initializing centroids\n",
      "Init: initializing clusters\n",
      "Starting iterations...\n",
      "Run 5, iteration: 1/100, moves: 1389, cost: 523276.0\n",
      "Best run was number 5\n"
     ]
    }
   ],
   "source": [
    "for numero_cluster in K:\n",
    "    kproto = KModes(n_clusters=numero_cluster, init='Huang', n_init = 5 , verbose=1)\n",
    "    kproto.fit_predict(df, categorical = categorical_columns)\n",
    "    cost.append(kproto.cost_)"
   ]
  },
  {
   "cell_type": "code",
   "execution_count": 222,
   "metadata": {},
   "outputs": [
    {
     "data": {
      "image/png": "[encoded data removed]",
      "text/plain": [
       "<Figure size 640x480 with 1 Axes>"
      ]
     },
     "metadata": {},
     "output_type": "display_data"
    }
   ],
   "source": [
    "# Grafica il costo per ogni k\n",
    "plt.plot(K, cost, 'bx-')\n",
    "plt.xlabel('Number of clusters (k)')\n",
    "plt.ylabel('Cost')\n",
    "plt.title('Elbow Method For Optimal k')\n",
    "plt.savefig('../../data/graph/elbow_method.png')\n",
    "plt.show()"
   ]
  },
  {
   "cell_type": "code",
   "execution_count": null,
   "metadata": {},
   "outputs": [],
   "source": []
  },
  {
   "cell_type": "code",
   "execution_count": null,
   "metadata": {},
   "outputs": [],
   "source": []
  },
  {
   "cell_type": "code",
   "execution_count": null,
   "metadata": {},
   "outputs": [],
   "source": []
  },
  {
   "cell_type": "code",
   "execution_count": null,
   "metadata": {},
   "outputs": [],
   "source": []
  },
  {
   "cell_type": "markdown",
   "metadata": {},
   "source": [
    "## KPrototypes\n"
   ]
  },
  {
   "cell_type": "markdown",
   "metadata": {},
   "source": [
    "\n",
    "- n_clusters=3`: Questo è il numero di cluster che l'algoritmo cercherà di identificare nei tuoi dati. In questo caso, stai chiedendo all'algoritmo di trovare 3 cluster.\n",
    "- init='Huang'`: Questo è il metodo di inizializzazione che l'algoritmo utilizzerà per inizializzare i centroidi. In questo caso, stai utilizzando il metodo di inizializzazione di Huang.\n",
    "- n_init=5`: Questo è il numero di volte che l'algoritmo verrà eseguito con diverse inizializzazioni dei centroidi. L'algoritmo restituirà il modello con la migliore inizializzazione.\n",
    "- verbose=1`: Questo è il livello di verbosità dell'algoritmo. Più alto è il valore, più informazioni verranno stampate a schermo durante l'esecuzione dell'algoritmo."
   ]
  },
  {
   "cell_type": "code",
   "execution_count": 226,
   "metadata": {},
   "outputs": [],
   "source": [
    "# Crea un'istanza dell'algoritmo K-Prototype\n",
    "kproto = KModes(n_clusters=6, init='Huang', n_init=5, verbose=1)\n"
   ]
  },
  {
   "cell_type": "code",
   "execution_count": 227,
   "metadata": {},
   "outputs": [
    {
     "name": "stdout",
     "output_type": "stream",
     "text": [
      "Init: initializing centroids\n",
      "Init: initializing clusters\n",
      "Starting iterations...\n",
      "Run 1, iteration: 1/100, moves: 135394, cost: 620921.0\n",
      "Run 1, iteration: 2/100, moves: 7827, cost: 620921.0\n",
      "Init: initializing centroids\n",
      "Init: initializing clusters\n",
      "Starting iterations...\n",
      "Run 2, iteration: 1/100, moves: 108457, cost: 589715.0\n",
      "Run 2, iteration: 2/100, moves: 21527, cost: 589715.0\n",
      "Init: initializing centroids\n",
      "Init: initializing clusters\n",
      "Starting iterations...\n",
      "Run 3, iteration: 1/100, moves: 112960, cost: 608282.0\n",
      "Run 3, iteration: 2/100, moves: 8029, cost: 608282.0\n",
      "Init: initializing centroids\n",
      "Init: initializing clusters\n",
      "Starting iterations...\n",
      "Run 4, iteration: 1/100, moves: 108721, cost: 607455.0\n",
      "Init: initializing centroids\n",
      "Init: initializing clusters\n",
      "Starting iterations...\n",
      "Run 5, iteration: 1/100, moves: 164929, cost: 604952.0\n",
      "Run 5, iteration: 2/100, moves: 7925, cost: 604952.0\n",
      "Best run was number 2\n"
     ]
    }
   ],
   "source": [
    "# Adatta l'algoritmo ai dati\n",
    "# Devi specificare le colonne dei dati categorici\n",
    "clusters = kproto.fit_predict(df, categorical=[0, 1, 2, 3])  # sostituisci con le tue colonne categoriche"
   ]
  },
  {
   "cell_type": "code",
   "execution_count": 228,
   "metadata": {},
   "outputs": [
    {
     "data": {
      "text/plain": [
       "array([0, 1, 2, 3, 4, 5], dtype=uint16)"
      ]
     },
     "execution_count": 228,
     "metadata": {},
     "output_type": "execute_result"
    }
   ],
   "source": [
    "np.unique(clusters) "
   ]
  },
  {
   "cell_type": "code",
   "execution_count": 229,
   "metadata": {},
   "outputs": [],
   "source": [
    "df_labeled['cluster'] = clusters"
   ]
  },
  {
   "cell_type": "code",
   "execution_count": 230,
   "metadata": {},
   "outputs": [],
   "source": [
    "df_labeled.to_parquet('../../data/processed/clustered_data.parquet')"
   ]
  },
  {
   "cell_type": "code",
   "execution_count": 231,
   "metadata": {},
   "outputs": [
    {
     "data": {
      "text/html": [
       "<div>\n",
       "<style scoped>\n",
       "    .dataframe tbody tr th:only-of-type {\n",
       "        vertical-align: middle;\n",
       "    }\n",
       "\n",
       "    .dataframe tbody tr th {\n",
       "        vertical-align: top;\n",
       "    }\n",
       "\n",
       "    .dataframe thead th {\n",
       "        text-align: right;\n",
       "    }\n",
       "</style>\n",
       "<table border=\"1\" class=\"dataframe\">\n",
       "  <thead>\n",
       "    <tr style=\"text-align: right;\">\n",
       "      <th></th>\n",
       "      <th>id_prenotazione</th>\n",
       "      <th>id_paziente</th>\n",
       "      <th>data_nascita</th>\n",
       "      <th>sesso</th>\n",
       "      <th>regione_residenza</th>\n",
       "      <th>tipologia_servizio</th>\n",
       "      <th>descrizione_attivita</th>\n",
       "      <th>data_contatto</th>\n",
       "      <th>tipologia_struttura_erogazione</th>\n",
       "      <th>id_professionista_sanitario</th>\n",
       "      <th>tipologia_professionista_sanitario</th>\n",
       "      <th>data_erogazione</th>\n",
       "      <th>durata_erogazione_sec</th>\n",
       "      <th>eta</th>\n",
       "      <th>anno</th>\n",
       "      <th>quadrimestre</th>\n",
       "      <th>incremento_teleassistenze</th>\n",
       "      <th>cluster</th>\n",
       "    </tr>\n",
       "  </thead>\n",
       "  <tbody>\n",
       "    <tr>\n",
       "      <th>0</th>\n",
       "      <td>JUOCPQCUG1H96QO</td>\n",
       "      <td>LCWFXF28X79P382V</td>\n",
       "      <td>1980-04-24 00:00:00+00:00</td>\n",
       "      <td>male</td>\n",
       "      <td>Piemonte</td>\n",
       "      <td>Teleassistenza</td>\n",
       "      <td>Insegnamento al paziente e/o alla sua famiglia...</td>\n",
       "      <td>2019-01-09T11:21:54+01:00</td>\n",
       "      <td>Azienda Ospedaliera</td>\n",
       "      <td>MZRAER00D13A287J</td>\n",
       "      <td>Infermiere</td>\n",
       "      <td>2019-02-04 10:00:00+00:00</td>\n",
       "      <td>2925</td>\n",
       "      <td>44</td>\n",
       "      <td>2019</td>\n",
       "      <td>1</td>\n",
       "      <td>high_increment</td>\n",
       "      <td>2</td>\n",
       "    </tr>\n",
       "    <tr>\n",
       "      <th>1</th>\n",
       "      <td>XDP99NXRHPOYFYU</td>\n",
       "      <td>LRFZOI94E58U012I</td>\n",
       "      <td>1972-01-30 00:00:00+00:00</td>\n",
       "      <td>female</td>\n",
       "      <td>Toscana</td>\n",
       "      <td>Teleassistenza</td>\n",
       "      <td>Prestazione infermieristica connessa alla nece...</td>\n",
       "      <td>2019-01-10T11:57:43+01:00</td>\n",
       "      <td>Azienda Ospedaliera Universitaria</td>\n",
       "      <td>EBCRPU12T24U316I</td>\n",
       "      <td>Infermiere</td>\n",
       "      <td>2019-02-01 10:00:00+00:00</td>\n",
       "      <td>1895</td>\n",
       "      <td>52</td>\n",
       "      <td>2019</td>\n",
       "      <td>1</td>\n",
       "      <td>high_increment</td>\n",
       "      <td>0</td>\n",
       "    </tr>\n",
       "    <tr>\n",
       "      <th>2</th>\n",
       "      <td>6VYI0AK57ECO5WU</td>\n",
       "      <td>JOBCGJ98A04B765H</td>\n",
       "      <td>1986-06-27 00:00:00+00:00</td>\n",
       "      <td>male</td>\n",
       "      <td>Emilia romagna</td>\n",
       "      <td>Teleassistenza</td>\n",
       "      <td>Prestazione dietistica</td>\n",
       "      <td>2019-01-11T07:04:17+01:00</td>\n",
       "      <td>Ospedale a gestione diretta</td>\n",
       "      <td>PMEJNL62M27F357I</td>\n",
       "      <td>Dietista</td>\n",
       "      <td>2019-02-03 06:00:00+00:00</td>\n",
       "      <td>1165</td>\n",
       "      <td>38</td>\n",
       "      <td>2019</td>\n",
       "      <td>1</td>\n",
       "      <td>high_increment</td>\n",
       "      <td>0</td>\n",
       "    </tr>\n",
       "    <tr>\n",
       "      <th>3</th>\n",
       "      <td>VLFS5J9E3Q74Q2W</td>\n",
       "      <td>TKROSE51Z77Q065E</td>\n",
       "      <td>1967-10-21 00:00:00+00:00</td>\n",
       "      <td>female</td>\n",
       "      <td>Campania</td>\n",
       "      <td>Teleassistenza</td>\n",
       "      <td>Psicoterapia individuale</td>\n",
       "      <td>2019-01-11T07:41:52+01:00</td>\n",
       "      <td>Azienda Ospedaliera</td>\n",
       "      <td>VNNRMQ15C69W200K</td>\n",
       "      <td>Psicologo</td>\n",
       "      <td>2019-02-01 06:00:00+00:00</td>\n",
       "      <td>1969</td>\n",
       "      <td>56</td>\n",
       "      <td>2019</td>\n",
       "      <td>1</td>\n",
       "      <td>high_increment</td>\n",
       "      <td>2</td>\n",
       "    </tr>\n",
       "    <tr>\n",
       "      <th>4</th>\n",
       "      <td>XD8SZX9JOVCMEXW</td>\n",
       "      <td>WRRVSK73Z45L640S</td>\n",
       "      <td>1963-08-24 00:00:00+00:00</td>\n",
       "      <td>male</td>\n",
       "      <td>Abruzzo</td>\n",
       "      <td>Teleassistenza</td>\n",
       "      <td>Prestazione dietistica</td>\n",
       "      <td>2019-01-11T15:33:29+01:00</td>\n",
       "      <td>Ospedale a gestione diretta</td>\n",
       "      <td>GIQCNR34T04P154U</td>\n",
       "      <td>Dietista</td>\n",
       "      <td>2019-02-05 14:00:00+00:00</td>\n",
       "      <td>3099</td>\n",
       "      <td>61</td>\n",
       "      <td>2019</td>\n",
       "      <td>1</td>\n",
       "      <td>high_increment</td>\n",
       "      <td>0</td>\n",
       "    </tr>\n",
       "  </tbody>\n",
       "</table>\n",
       "</div>"
      ],
      "text/plain": [
       "   id_prenotazione       id_paziente              data_nascita   sesso  \\\n",
       "0  JUOCPQCUG1H96QO  LCWFXF28X79P382V 1980-04-24 00:00:00+00:00    male   \n",
       "1  XDP99NXRHPOYFYU  LRFZOI94E58U012I 1972-01-30 00:00:00+00:00  female   \n",
       "2  6VYI0AK57ECO5WU  JOBCGJ98A04B765H 1986-06-27 00:00:00+00:00    male   \n",
       "3  VLFS5J9E3Q74Q2W  TKROSE51Z77Q065E 1967-10-21 00:00:00+00:00  female   \n",
       "4  XD8SZX9JOVCMEXW  WRRVSK73Z45L640S 1963-08-24 00:00:00+00:00    male   \n",
       "\n",
       "  regione_residenza tipologia_servizio  \\\n",
       "0          Piemonte     Teleassistenza   \n",
       "1           Toscana     Teleassistenza   \n",
       "2    Emilia romagna     Teleassistenza   \n",
       "3          Campania     Teleassistenza   \n",
       "4           Abruzzo     Teleassistenza   \n",
       "\n",
       "                                descrizione_attivita  \\\n",
       "0  Insegnamento al paziente e/o alla sua famiglia...   \n",
       "1  Prestazione infermieristica connessa alla nece...   \n",
       "2                             Prestazione dietistica   \n",
       "3                           Psicoterapia individuale   \n",
       "4                             Prestazione dietistica   \n",
       "\n",
       "               data_contatto     tipologia_struttura_erogazione  \\\n",
       "0  2019-01-09T11:21:54+01:00                Azienda Ospedaliera   \n",
       "1  2019-01-10T11:57:43+01:00  Azienda Ospedaliera Universitaria   \n",
       "2  2019-01-11T07:04:17+01:00        Ospedale a gestione diretta   \n",
       "3  2019-01-11T07:41:52+01:00                Azienda Ospedaliera   \n",
       "4  2019-01-11T15:33:29+01:00        Ospedale a gestione diretta   \n",
       "\n",
       "  id_professionista_sanitario tipologia_professionista_sanitario  \\\n",
       "0            MZRAER00D13A287J                         Infermiere   \n",
       "1            EBCRPU12T24U316I                         Infermiere   \n",
       "2            PMEJNL62M27F357I                           Dietista   \n",
       "3            VNNRMQ15C69W200K                          Psicologo   \n",
       "4            GIQCNR34T04P154U                           Dietista   \n",
       "\n",
       "            data_erogazione  durata_erogazione_sec  eta  anno  quadrimestre  \\\n",
       "0 2019-02-04 10:00:00+00:00                   2925   44  2019             1   \n",
       "1 2019-02-01 10:00:00+00:00                   1895   52  2019             1   \n",
       "2 2019-02-03 06:00:00+00:00                   1165   38  2019             1   \n",
       "3 2019-02-01 06:00:00+00:00                   1969   56  2019             1   \n",
       "4 2019-02-05 14:00:00+00:00                   3099   61  2019             1   \n",
       "\n",
       "  incremento_teleassistenze  cluster  \n",
       "0            high_increment        2  \n",
       "1            high_increment        0  \n",
       "2            high_increment        0  \n",
       "3            high_increment        2  \n",
       "4            high_increment        0  "
      ]
     },
     "execution_count": 231,
     "metadata": {},
     "output_type": "execute_result"
    }
   ],
   "source": [
    "df_labeled.head()"
   ]
  },
  {
   "cell_type": "code",
   "execution_count": null,
   "metadata": {},
   "outputs": [],
   "source": []
  },
  {
   "cell_type": "code",
   "execution_count": 195,
   "metadata": {},
   "outputs": [],
   "source": [
    "# clusters\n",
    "# centroids = kproto.cluster_centroids_\n",
    "# print(centroids)"
   ]
  },
  {
   "cell_type": "code",
   "execution_count": 196,
   "metadata": {},
   "outputs": [],
   "source": [
    "# Crea un DataFrame per i centroidi\n",
    "#df_centroids = pd.DataFrame(centroids)\n",
    "#df_centroids['cluster'] = range(len(df_centroids))\n",
    "\n",
    "# Visualizza i centroidi\n",
    "#print(df_centroids)"
   ]
  },
  {
   "cell_type": "code",
   "execution_count": 197,
   "metadata": {},
   "outputs": [],
   "source": [
    "# Converti le colonne numeriche in float\n",
    "#df_centroids[[0, 1, 2, 3]] = df_centroids[[0, 1, 2, 3]].astype(float)\n",
    "\n",
    "# Ora puoi visualizzare i tuoi centroidi in un grafico\n",
    "#plt.figure(figsize=(8,8))\n",
    "#scatter = plt.scatter(df_centroids[0], df_centroids[1], c=df_centroids['cluster'], alpha=0.6)\n",
    "#plt.title('Centroidi dei Cluster')\n",
    "#plt.xlabel('Variabile 1')\n",
    "#plt.ylabel('Variabile 2')\n",
    "#plt.legend(*scatter.legend_elements(), title=\"Cluster\")\n",
    "#plt.show()"
   ]
  },
  {
   "cell_type": "code",
   "execution_count": 198,
   "metadata": {},
   "outputs": [],
   "source": [
    "# # Aggiungi i cluster come una nuova colonna al DataFrame\n",
    "# df['cluster'] = clusters\n",
    "\n",
    "# # Crea un pairplot colorando i punti in base al cluster a cui appartengono\n",
    "# sns.pairplot(df, hue='cluster')\n",
    "\n",
    "# # Mostra il grafico\n",
    "# plt.show()"
   ]
  },
  {
   "cell_type": "code",
   "execution_count": null,
   "metadata": {},
   "outputs": [],
   "source": []
  },
  {
   "cell_type": "markdown",
   "metadata": {},
   "source": [
    "# Calculate Purity"
   ]
  },
  {
   "cell_type": "code",
   "execution_count": 232,
   "metadata": {},
   "outputs": [],
   "source": [
    "true_labels = df_labeled.incremento_teleassistenze.to_numpy()"
   ]
  },
  {
   "cell_type": "code",
   "execution_count": 233,
   "metadata": {},
   "outputs": [
    {
     "data": {
      "text/plain": [
       "array(['high_increment', 'high_increment', 'high_increment', ...,\n",
       "       'low_increment', 'low_increment', 'medium_increment'], dtype=object)"
      ]
     },
     "execution_count": 233,
     "metadata": {},
     "output_type": "execute_result"
    }
   ],
   "source": [
    "true_labels"
   ]
  },
  {
   "cell_type": "code",
   "execution_count": 234,
   "metadata": {},
   "outputs": [],
   "source": [
    "from collections import Counter"
   ]
  },
  {
   "cell_type": "code",
   "execution_count": 237,
   "metadata": {},
   "outputs": [],
   "source": [
    "def calculate_purity(clusters, true_labels):\n",
    "    print('Clusters:', clusters)\n",
    "\n",
    "    N = len(true_labels) # number of data points\n",
    "    purity_sum = 0\n",
    "\n",
    "    for cluster_id in np.unique(clusters):\n",
    "        # Obtain the indices of data points in the cluster\n",
    "        print(cluster_id)\n",
    "\n",
    "        cluster_indices = np.where(clusters == cluster_id)[0] # [0] to get the array from the tuple, as np.where returns a tuple\n",
    "        print('Cluster indices:', cluster_indices)\n",
    "\n",
    "        # Obtain the true labels of data points in the cluster\n",
    "        cluster_labels = true_labels[cluster_indices]\n",
    "        print('Cluster labels', cluster_labels)\n",
    "\n",
    "        # Count the number of data points in each class\n",
    "        most_common_label, count = Counter(cluster_labels).most_common(1)[0] # most_common returns a list of tuples, we take the first one\n",
    "        print(f'Most common label: {most_common_label}, count: {count}')\n",
    "\n",
    "        purity_sum += count\n",
    "        print('\\n')\n",
    "\n",
    "    purity = purity_sum / N\n",
    "    return purity\n",
    "\n"
   ]
  },
  {
   "cell_type": "code",
   "execution_count": 238,
   "metadata": {},
   "outputs": [
    {
     "name": "stdout",
     "output_type": "stream",
     "text": [
      "Clusters: [2 0 0 ... 1 3 1]\n",
      "0\n",
      "Cluster indices: [     1      2      4 ... 460457 460477 460484]\n",
      "Cluster labels ['high_increment' 'high_increment' 'high_increment' ... 'medium_increment'\n",
      " 'medium_increment' 'high_increment']\n",
      "Most common label: high_increment, count: 83080\n",
      "\n",
      "\n",
      "1\n",
      "Cluster indices: [   145    220    323 ... 460504 460506 460508]\n",
      "Cluster labels ['medium_increment' 'medium_increment' 'medium_increment' ...\n",
      " 'medium_increment' 'low_increment' 'medium_increment']\n",
      "Most common label: medium_increment, count: 76681\n",
      "\n",
      "\n",
      "2\n",
      "Cluster indices: [     0      3     26 ... 460446 460490 460494]\n",
      "Cluster labels ['high_increment' 'high_increment' 'high_increment' ...\n",
      " 'constant_increment' 'constant_increment' 'medium_increment']\n",
      "Most common label: high_increment, count: 15323\n",
      "\n",
      "\n",
      "3\n",
      "Cluster indices: [    78    877    881 ... 460499 460500 460507]\n",
      "Cluster labels ['low_increment' 'low_increment' 'low_increment' ... 'low_increment'\n",
      " 'low_increment' 'low_increment']\n",
      "Most common label: low_increment, count: 76449\n",
      "\n",
      "\n",
      "4\n",
      "Cluster indices: [     9     17     28 ... 460491 460495 460496]\n",
      "Cluster labels ['high_increment' 'high_increment' 'high_increment' ... 'low_increment'\n",
      " 'low_increment' 'low_increment']\n",
      "Most common label: low_increment, count: 95793\n",
      "\n",
      "\n",
      "5\n",
      "Cluster indices: [   137    308    801 ... 460485 460498 460505]\n",
      "Cluster labels ['medium_increment' 'medium_increment' 'medium_increment' ...\n",
      " 'medium_increment' 'medium_increment' 'medium_increment']\n",
      "Most common label: medium_increment, count: 49561\n",
      "\n",
      "\n",
      "Purity is: 0.861844176769618\n"
     ]
    }
   ],
   "source": [
    "purity = calculate_purity(clusters, true_labels)\n",
    "print('Purity is:', purity)"
   ]
  },
  {
   "cell_type": "code",
   "execution_count": null,
   "metadata": {},
   "outputs": [],
   "source": []
  }
 ],
 "metadata": {
  "kernelspec": {
   "display_name": "venv",
   "language": "python",
   "name": "python3"
  },
  "language_info": {
   "codemirror_mode": {
    "name": "ipython",
    "version": 3
   },
   "file_extension": ".py",
   "mimetype": "text/x-python",
   "name": "python",
   "nbconvert_exporter": "python",
   "pygments_lexer": "ipython3",
   "version": "3.10.14"
  }
 },
 "nbformat": 4,
 "nbformat_minor": 2
}
